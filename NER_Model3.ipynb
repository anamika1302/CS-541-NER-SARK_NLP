{
  "nbformat": 4,
  "nbformat_minor": 0,
  "metadata": {
    "colab": {
      "name": "NER-Model3.ipynb",
      "provenance": [],
      "machine_shape": "hm",
      "collapsed_sections": [],
      "authorship_tag": "ABX9TyOWKIXYv/st8FabOZFL4/BW",
      "include_colab_link": true
    },
    "kernelspec": {
      "name": "python3",
      "display_name": "Python 3"
    },
    "language_info": {
      "name": "python"
    },
    "accelerator": "GPU"
  },
  "cells": [
    {
      "cell_type": "markdown",
      "metadata": {
        "id": "view-in-github",
        "colab_type": "text"
      },
      "source": [
        "<a href=\"https://colab.research.google.com/github/anamika1302/CS-541-NER-SARK_NLP/blob/main/NER_Model3.ipynb\" target=\"_parent\"><img src=\"https://colab.research.google.com/assets/colab-badge.svg\" alt=\"Open In Colab\"/></a>"
      ]
    },
    {
      "cell_type": "markdown",
      "source": [
        "# **Training NER MODEL 3 on enitities :**\n",
        "# **StatusTime,StatusEmploy**\n"
      ],
      "metadata": {
        "id": "tnRJF4jaYCLg"
      }
    },
    {
      "cell_type": "code",
      "source": [
        "import json\n",
        "import os\n",
        "\n",
        "from google.colab import files\n",
        "\n",
        "if 'spark_jsl.json' not in os.listdir():\n",
        "  license_keys = files.upload()\n",
        "  os.rename(list(license_keys.keys())[0], 'spark_jsl.json')\n",
        "\n",
        "with open('spark_jsl.json') as f:\n",
        "    license_keys = json.load(f)\n",
        "\n",
        "# Defining license key-value pairs as local variables\n",
        "locals().update(license_keys)\n",
        "os.environ.update(license_keys)"
      ],
      "metadata": {
        "id": "MKPwLBkPZ3xf",
        "colab": {
          "resources": {
            "http://localhost:8080/nbextensions/google.colab/files.js": {
              "data": "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",
              "ok": true,
              "headers": [
                [
                  "content-type",
                  "application/javascript"
                ]
              ],
              "status": 200,
              "status_text": "OK"
            }
          },
          "base_uri": "https://localhost:8080/",
          "height": 73
        },
        "outputId": "50f0d306-f079-434e-d9ac-567eba622aa7"
      },
      "execution_count": null,
      "outputs": [
        {
          "output_type": "display_data",
          "data": {
            "text/plain": [
              "<IPython.core.display.HTML object>"
            ],
            "text/html": [
              "\n",
              "     <input type=\"file\" id=\"files-52ae4d13-f2e4-49bc-a559-38a03c7edcc0\" name=\"files[]\" multiple disabled\n",
              "        style=\"border:none\" />\n",
              "     <output id=\"result-52ae4d13-f2e4-49bc-a559-38a03c7edcc0\">\n",
              "      Upload widget is only available when the cell has been executed in the\n",
              "      current browser session. Please rerun this cell to enable.\n",
              "      </output>\n",
              "      <script src=\"/nbextensions/google.colab/files.js\"></script> "
            ]
          },
          "metadata": {}
        },
        {
          "output_type": "stream",
          "name": "stdout",
          "text": [
            "Saving spark_nlp_for_healthcare_spark_ocr_4699.json to spark_nlp_for_healthcare_spark_ocr_4699.json\n"
          ]
        }
      ]
    },
    {
      "cell_type": "code",
      "source": [
        "from google.colab import drive\n",
        "drive.mount('/content/drive')"
      ],
      "metadata": {
        "colab": {
          "base_uri": "https://localhost:8080/"
        },
        "id": "2Qfh8ADOaU2k",
        "outputId": "d1a7e9da-2ce3-48b2-a588-45f8cb5b2a49"
      },
      "execution_count": null,
      "outputs": [
        {
          "output_type": "stream",
          "name": "stdout",
          "text": [
            "Mounted at /content/drive\n"
          ]
        }
      ]
    },
    {
      "cell_type": "code",
      "source": [
        "# Installing pyspark and spark-nlp\n",
        "! pip install --upgrade -q pyspark==3.1.2 spark-nlp==$PUBLIC_VERSION\n",
        "\n",
        "# Installing Spark NLP Display Library for visualization\n",
        "! pip install -q spark-nlp-display\n",
        "\n"
      ],
      "metadata": {
        "colab": {
          "base_uri": "https://localhost:8080/"
        },
        "id": "K1EoJEKpYFG9",
        "outputId": "7dcab849-0575-4fe8-e7e1-5b2657f90edb"
      },
      "execution_count": null,
      "outputs": [
        {
          "output_type": "stream",
          "name": "stdout",
          "text": [
            "\u001b[K     |████████████████████████████████| 212.4 MB 76 kB/s \n",
            "\u001b[K     |████████████████████████████████| 142 kB 25.8 MB/s \n",
            "\u001b[K     |████████████████████████████████| 198 kB 84.8 MB/s \n",
            "\u001b[?25h  Building wheel for pyspark (setup.py) ... \u001b[?25l\u001b[?25hdone\n",
            "\u001b[K     |████████████████████████████████| 95 kB 4.5 MB/s \n",
            "\u001b[K     |████████████████████████████████| 66 kB 6.9 MB/s \n",
            "\u001b[?25h"
          ]
        }
      ]
    },
    {
      "cell_type": "code",
      "source": [
        "# Installing pyspark and spark-nlp\n",
        "! pip install --upgrade -q pyspark==3.1.2 spark-nlp==$PUBLIC_VERSION\n",
        "\n",
        "# Installing Spark NLP Healthcare\n",
        "! pip install --upgrade -q spark-nlp-jsl==$JSL_VERSION  --extra-index-url https://pypi.johnsnowlabs.com/$SECRET\n",
        "\n",
        "# Installing Spark NLP Display Library for visualization\n",
        "! pip install -q spark-nlp-display"
      ],
      "metadata": {
        "colab": {
          "base_uri": "https://localhost:8080/"
        },
        "id": "S-pCva5zNzJa",
        "outputId": "f9fc4d26-66cc-4f74-ebd6-e3973296f627"
      },
      "execution_count": null,
      "outputs": [
        {
          "output_type": "stream",
          "name": "stdout",
          "text": [
            "\u001b[?25l\r\u001b[K     |█▊                              | 10 kB 5.7 MB/s eta 0:00:01\r\u001b[K     |███▌                            | 20 kB 10.4 MB/s eta 0:00:01\r\u001b[K     |█████▎                          | 30 kB 2.7 MB/s eta 0:00:01\r\u001b[K     |███████                         | 40 kB 3.6 MB/s eta 0:00:01\r\u001b[K     |████████▊                       | 51 kB 4.0 MB/s eta 0:00:01\r\u001b[K     |██████████▌                     | 61 kB 4.7 MB/s eta 0:00:01\r\u001b[K     |████████████▏                   | 71 kB 5.2 MB/s eta 0:00:01\r\u001b[K     |██████████████                  | 81 kB 5.0 MB/s eta 0:00:01\r\u001b[K     |███████████████▊                | 92 kB 4.0 MB/s eta 0:00:01\r\u001b[K     |█████████████████▍              | 102 kB 4.4 MB/s eta 0:00:01\r\u001b[K     |███████████████████▏            | 112 kB 4.4 MB/s eta 0:00:01\r\u001b[K     |█████████████████████           | 122 kB 4.4 MB/s eta 0:00:01\r\u001b[K     |██████████████████████▋         | 133 kB 4.4 MB/s eta 0:00:01\r\u001b[K     |████████████████████████▍       | 143 kB 4.4 MB/s eta 0:00:01\r\u001b[K     |██████████████████████████▏     | 153 kB 4.4 MB/s eta 0:00:01\r\u001b[K     |███████████████████████████▉    | 163 kB 4.4 MB/s eta 0:00:01\r\u001b[K     |█████████████████████████████▋  | 174 kB 4.4 MB/s eta 0:00:01\r\u001b[K     |███████████████████████████████▍| 184 kB 4.4 MB/s eta 0:00:01\r\u001b[K     |████████████████████████████████| 188 kB 4.4 MB/s \n",
            "\u001b[?25h"
          ]
        }
      ]
    },
    {
      "cell_type": "code",
      "source": [
        "import sparknlp\n",
        "import os\n",
        "from sparknlp.training import CoNLL\n",
        "spark = sparknlp.start(gpu = True) # for GPU training >> sparknlp.start(gpu = True)\n",
        "\n",
        "from sparknlp.base import *\n",
        "from sparknlp.annotator import *\n",
        "\n",
        "print(\"Spark NLP version\", sparknlp.version())\n",
        "\n",
        "print(\"Apache Spark version:\", spark.version)\n",
        "\n",
        "spark\n",
        "\n"
      ],
      "metadata": {
        "id": "7Lc1eheFYNXA",
        "colab": {
          "base_uri": "https://localhost:8080/",
          "height": 254
        },
        "outputId": "32361d78-7660-489a-f2d0-1d4e8045bf90"
      },
      "execution_count": null,
      "outputs": [
        {
          "output_type": "stream",
          "name": "stdout",
          "text": [
            "Spark NLP version 3.4.2\n",
            "Apache Spark version: 3.1.2\n"
          ]
        },
        {
          "output_type": "execute_result",
          "data": {
            "text/plain": [
              "<pyspark.sql.session.SparkSession at 0x7fb3dac64550>"
            ],
            "text/html": [
              "\n",
              "            <div>\n",
              "                <p><b>SparkSession - in-memory</b></p>\n",
              "                \n",
              "        <div>\n",
              "            <p><b>SparkContext</b></p>\n",
              "\n",
              "            <p><a href=\"http://1abcea5a764c:4040\">Spark UI</a></p>\n",
              "\n",
              "            <dl>\n",
              "              <dt>Version</dt>\n",
              "                <dd><code>v3.1.2</code></dd>\n",
              "              <dt>Master</dt>\n",
              "                <dd><code>local[*]</code></dd>\n",
              "              <dt>AppName</dt>\n",
              "                <dd><code>Spark NLP</code></dd>\n",
              "            </dl>\n",
              "        </div>\n",
              "        \n",
              "            </div>\n",
              "        "
            ]
          },
          "metadata": {},
          "execution_count": 5
        }
      ]
    },
    {
      "cell_type": "code",
      "source": [
        "with open('/content/drive/MyDrive/umass_ner/NER_MODEL_3/train_ner_model3.conll') as f:\n",
        "    train_txt =f.read()\n",
        "\n",
        "print (train_txt[:500])"
      ],
      "metadata": {
        "colab": {
          "base_uri": "https://localhost:8080/"
        },
        "id": "15uA1IJPYXFL",
        "outputId": "5aba97f8-aa86-46ef-d96b-335559eaa71c"
      },
      "execution_count": null,
      "outputs": [
        {
          "output_type": "stream",
          "name": "stdout",
          "text": [
            "-DOCSTART- -X- -X- O\n",
            "\n",
            "Social NN NN O\n",
            "History NN NN O\n",
            ": NN NN O\n",
            "Tob NN NN O\n",
            "(-) NNP NNP B-StatusTime\n",
            ", NN NN O\n",
            "EtOH NNP NNP B-StatusTime\n",
            "- NN NN O\n",
            "a NN NN O\n",
            "glass NN NN O\n",
            "of NN NN O\n",
            "wine NN NN O\n",
            "1-2x/month NN NN O\n",
            ", NN NN O\n",
            "IVDU NN NN O\n",
            "(-) NNP NNP B-StatusTime\n",
            ", NN NN O\n",
            "lives NNP NNP B-StatusTime\n",
            "with NN NN O\n",
            "her NN NN O\n",
            "husband NN NN O\n",
            "and NN NN O\n",
            "9yr NN NN O\n",
            "old NN NN O\n",
            "daughter NN NN O\n",
            ", NN NN O\n",
            "does NNP NNP B-StatusEmploy\n",
            "not NNP NNP I-StatusEmploy\n",
            "work NNP NNP I-StatusEmploy\n",
            "outside NNP NNP\n"
          ]
        }
      ]
    },
    {
      "cell_type": "code",
      "source": [
        "#Loading training dataset\n",
        "\n",
        "training_data = CoNLL().readDataset(spark, '/content/drive/MyDrive/umass_ner/NER_MODEL_3/train_ner_model3.conll')\n",
        "\n",
        "training_data.show(3)\n",
        "\n"
      ],
      "metadata": {
        "colab": {
          "base_uri": "https://localhost:8080/"
        },
        "id": "-hKBLPynfgVw",
        "outputId": "72dee36a-a4ad-42fa-b4a6-6f9aca12c5b0"
      },
      "execution_count": null,
      "outputs": [
        {
          "output_type": "stream",
          "name": "stdout",
          "text": [
            "+--------------------+--------------------+--------------------+--------------------+--------------------+--------------------+\n",
            "|                text|            document|            sentence|               token|                 pos|               label|\n",
            "+--------------------+--------------------+--------------------+--------------------+--------------------+--------------------+\n",
            "|Social History : ...|[{document, 0, 15...|[{document, 0, 15...|[{token, 0, 5, So...|[{pos, 0, 5, NN, ...|[{named_entity, 0...|\n",
            "|SOCIAL HISTORY : ...|[{document, 0, 14...|[{document, 0, 14...|[{token, 0, 5, SO...|[{pos, 0, 5, NN, ...|[{named_entity, 0...|\n",
            "|Social History : ...|[{document, 0, 12...|[{document, 0, 12...|[{token, 0, 5, So...|[{pos, 0, 5, NN, ...|[{named_entity, 0...|\n",
            "+--------------------+--------------------+--------------------+--------------------+--------------------+--------------------+\n",
            "only showing top 3 rows\n",
            "\n"
          ]
        }
      ]
    },
    {
      "cell_type": "code",
      "source": [
        "training_data.count()"
      ],
      "metadata": {
        "colab": {
          "base_uri": "https://localhost:8080/"
        },
        "id": "p3DXDDBgYp5m",
        "outputId": "8e4b39d4-caa8-4cb6-a0d5-fb2cf53fb2f7"
      },
      "execution_count": null,
      "outputs": [
        {
          "output_type": "execute_result",
          "data": {
            "text/plain": [
              "1316"
            ]
          },
          "metadata": {},
          "execution_count": 8
        }
      ]
    },
    {
      "cell_type": "code",
      "source": [
        "import pyspark.sql.functions as F\n",
        "\n",
        "training_data.select(F.explode(F.arrays_zip('token.result', 'pos.result',  'label.result')).alias(\"cols\")) \\\n",
        ".select(F.expr(\"cols['0']\").alias(\"token\"),\n",
        "        F.expr(\"cols['1']\").alias(\"pos\"),\n",
        "        F.expr(\"cols['2']\").alias(\"ner_label\")).limit(100).show()"
      ],
      "metadata": {
        "colab": {
          "base_uri": "https://localhost:8080/"
        },
        "id": "6LDvgrXmYuV0",
        "outputId": "b01fb19f-b6b8-4e06-9232-550e38a6c844"
      },
      "execution_count": null,
      "outputs": [
        {
          "output_type": "stream",
          "name": "stdout",
          "text": [
            "+----------+---+------------+\n",
            "|     token|pos|   ner_label|\n",
            "+----------+---+------------+\n",
            "|    Social| NN|           O|\n",
            "|   History| NN|           O|\n",
            "|         :| NN|           O|\n",
            "|       Tob| NN|           O|\n",
            "|       (-)|NNP|B-StatusTime|\n",
            "|         ,| NN|           O|\n",
            "|      EtOH|NNP|B-StatusTime|\n",
            "|         -| NN|           O|\n",
            "|         a| NN|           O|\n",
            "|     glass| NN|           O|\n",
            "|        of| NN|           O|\n",
            "|      wine| NN|           O|\n",
            "|1-2x/month| NN|           O|\n",
            "|         ,| NN|           O|\n",
            "|      IVDU| NN|           O|\n",
            "|       (-)|NNP|B-StatusTime|\n",
            "|         ,| NN|           O|\n",
            "|     lives|NNP|B-StatusTime|\n",
            "|      with| NN|           O|\n",
            "|       her| NN|           O|\n",
            "+----------+---+------------+\n",
            "only showing top 20 rows\n",
            "\n"
          ]
        }
      ]
    },
    {
      "cell_type": "code",
      "source": [
        "training_data.select(F.explode(F.arrays_zip('token.result','label.result')).alias(\"cols\")) \\\n",
        ".select(F.expr(\"cols['0']\").alias(\"token\"),\n",
        "        F.expr(\"cols['1']\").alias(\"ground_truth\")).groupBy('ground_truth').count().orderBy('count', ascending=False).show(100,truncate=False)"
      ],
      "metadata": {
        "colab": {
          "base_uri": "https://localhost:8080/"
        },
        "id": "2baSrIu4Yw5J",
        "outputId": "67fc642b-8f72-450b-b600-97ea9b2cfdb9"
      },
      "execution_count": null,
      "outputs": [
        {
          "output_type": "stream",
          "name": "stdout",
          "text": [
            "+--------------+-----+\n",
            "|ground_truth  |count|\n",
            "+--------------+-----+\n",
            "|O             |61723|\n",
            "|B-StatusTime  |4134 |\n",
            "|I-StatusTime  |2376 |\n",
            "|B-StatusEmploy|982  |\n",
            "|I-StatusEmploy|866  |\n",
            "+--------------+-----+\n",
            "\n"
          ]
        }
      ]
    },
    {
      "cell_type": "code",
      "source": [
        "test_data = CoNLL().readDataset(spark, '/content/drive/MyDrive/umass_ner/NER_MODEL_3/testF_ner_model3.conll')\n",
        "\n",
        "test_data.select(F.explode(F.arrays_zip('token.result','label.result')).alias(\"cols\")) \\\n",
        ".select(F.expr(\"cols['0']\").alias(\"token\"),\n",
        "        F.expr(\"cols['1']\").alias(\"ground_truth\")).groupBy('ground_truth').count().orderBy('count', ascending=False).show(100,truncate=False)\n"
      ],
      "metadata": {
        "colab": {
          "base_uri": "https://localhost:8080/"
        },
        "id": "0mlN7j3aY2GR",
        "outputId": "aecac2e7-6b75-46cd-8570-df6070c356b8"
      },
      "execution_count": null,
      "outputs": [
        {
          "output_type": "stream",
          "name": "stdout",
          "text": [
            "+--------------+-----+\n",
            "|ground_truth  |count|\n",
            "+--------------+-----+\n",
            "|O             |5987 |\n",
            "|B-StatusTime  |474  |\n",
            "|I-StatusTime  |212  |\n",
            "|I-StatusEmploy|110  |\n",
            "|B-StatusEmploy|90   |\n",
            "+--------------+-----+\n",
            "\n"
          ]
        }
      ]
    },
    {
      "cell_type": "code",
      "source": [
        "import pyspark.sql.functions as F\n",
        "\n",
        "test_data.select(F.explode(F.arrays_zip('token.result', 'pos.result',  'label.result')).alias(\"cols\")) \\\n",
        ".select(F.expr(\"cols['0']\").alias(\"token\"),\n",
        "        F.expr(\"cols['1']\").alias(\"pos\"),\n",
        "        F.expr(\"cols['2']\").alias(\"ner_label\")).limit(100).show()"
      ],
      "metadata": {
        "id": "mfNZl_xDy1xh",
        "colab": {
          "base_uri": "https://localhost:8080/"
        },
        "outputId": "fea890b5-3f84-496f-ce36-55b8107d5967"
      },
      "execution_count": null,
      "outputs": [
        {
          "output_type": "stream",
          "name": "stdout",
          "text": [
            "+---------+---+------------+\n",
            "|    token|pos|   ner_label|\n",
            "+---------+---+------------+\n",
            "|   SOCIAL| NN|           O|\n",
            "|  HISTORY| NN|           O|\n",
            "|        :| NN|           O|\n",
            "|    Lives|NNP|B-StatusTime|\n",
            "|     with| NN|           O|\n",
            "|      his| NN|           O|\n",
            "|   caring| NN|           O|\n",
            "|      and| NN|           O|\n",
            "|  devoted| NN|           O|\n",
            "|  parents| NN|           O|\n",
            "|       at| NN|           O|\n",
            "|     home| NN|           O|\n",
            "|        .| NN|           O|\n",
            "|   Enjoys| NN|           O|\n",
            "|   movies| NN|           O|\n",
            "|      and| NN|           O|\n",
            "|computers| NN|           O|\n",
            "|        .| NN|           O|\n",
            "|       No|NNP|B-StatusTime|\n",
            "|  history|NNP|I-StatusTime|\n",
            "+---------+---+------------+\n",
            "only showing top 20 rows\n",
            "\n"
          ]
        }
      ]
    },
    {
      "cell_type": "code",
      "source": [
        "bert_embedding = BertEmbeddings.pretrained('bert_base_cased', 'en')\\\n",
        "   .setInputCols([\"sentence\",'token'])\\\n",
        "   .setOutputCol(\"bert_embeddings\")\\\n",
        "   .setCaseSensitive(True)"
      ],
      "metadata": {
        "id": "Mo7a3PT50n0F",
        "colab": {
          "base_uri": "https://localhost:8080/"
        },
        "outputId": "7734a742-8cad-43fa-8e85-6e1f0bd2d4b7"
      },
      "execution_count": null,
      "outputs": [
        {
          "output_type": "stream",
          "name": "stdout",
          "text": [
            "bert_base_cased download started this may take some time.\n",
            "Approximate size to download 389.1 MB\n",
            "[OK!]\n"
          ]
        }
      ]
    },
    {
      "cell_type": "code",
      "source": [
        "!rm -r /content/drive/MyDrive/umass_ner/NER_MODEL_3/testF_data_ner_model3_bert_embedding.parquet"
      ],
      "metadata": {
        "id": "9yvI55byS7ZY"
      },
      "execution_count": null,
      "outputs": []
    },
    {
      "cell_type": "code",
      "source": [
        "bert_embedding.transform(test_data).write.parquet('/content/drive/MyDrive/umass_ner/NER_MODEL_3/testF_data_ner_model3_bert_embedding.parquet')"
      ],
      "metadata": {
        "id": "bqcVs5CjZQhi"
      },
      "execution_count": null,
      "outputs": []
    },
    {
      "cell_type": "code",
      "source": [
        "# !rm -r /content/drive/MyDrive/umass_ner/NER_MODEL_1/test_data_bert_embedding.parquet"
      ],
      "metadata": {
        "id": "CbVTZ0tD_IQq"
      },
      "execution_count": null,
      "outputs": []
    },
    {
      "cell_type": "code",
      "source": [
        "# !mkdir /root/ner_logs_model1"
      ],
      "metadata": {
        "id": "GZQuSE7OHzBz"
      },
      "execution_count": null,
      "outputs": []
    },
    {
      "cell_type": "code",
      "source": [
        "# !rm -r /content/ner_dl_logs_model3"
      ],
      "metadata": {
        "id": "WrmqPxJuKipo"
      },
      "execution_count": null,
      "outputs": []
    },
    {
      "cell_type": "code",
      "source": [
        "nerTagger = NerDLApproach()\\\n",
        "      .setInputCols([\"sentence\", \"token\", \"bert_embeddings\"])\\\n",
        "      .setLabelColumn(\"label\")\\\n",
        "      .setOutputCol(\"ner\")\\\n",
        "      .setMaxEpochs(15)\\\n",
        "      .setLr(0.0002)\\\n",
        "      .setBatchSize(16)\\\n",
        "      .setRandomSeed(0)\\\n",
        "      .setVerbose(1)\\\n",
        "      .setEvaluationLogExtended(True) \\\n",
        "      .setEnableOutputLogs(True)\\\n",
        "      .setIncludeConfidence(True)\\\n",
        "      .setUseBestModel(True)\\\n",
        "      .setTestDataset('/content/drive/MyDrive/umass_ner/NER_MODEL_3/testF_data_ner_model3_bert_embedding.parquet')\\\n",
        "      .setOutputLogsPath('./ner_dl_logs_model3')# if not set, logs will be written to ~/annotator_logs\n",
        " #    .setGraphFolder('graphs') >> put your graph file (pb) under this folder if you are using a custom graph generated thru 4.1 NerDL-Graph.ipynb notebook\n",
        " #    .setEnableMemoryOptimizer() >> if you have a limited memory and a large conll file, you can set this True to train batch by batch \n",
        "    \n",
        "# do hyperparameter by tuning the params above (max epoch, LR, dropout etc.) to get better results\n",
        "ner_pipeline = Pipeline(stages=[\n",
        "      bert_embedding,\n",
        "      nerTagger\n",
        " ])\n",
        "\n"
      ],
      "metadata": {
        "id": "D83P5kd3ZCCq"
      },
      "execution_count": null,
      "outputs": []
    },
    {
      "cell_type": "code",
      "source": [
        "ner_model = ner_pipeline.fit(training_data)"
      ],
      "metadata": {
        "id": "KOUbUvsyZG26"
      },
      "execution_count": null,
      "outputs": []
    },
    {
      "cell_type": "code",
      "source": [
        "!cd /content/ner_dl_logs_model3 && ls -lt"
      ],
      "metadata": {
        "colab": {
          "base_uri": "https://localhost:8080/"
        },
        "id": "bu0WDE21ZJuF",
        "outputId": "319c5973-d3b7-4107-ad1c-68579277b230"
      },
      "execution_count": null,
      "outputs": [
        {
          "output_type": "stream",
          "name": "stdout",
          "text": [
            "total 24\n",
            "-rw-r--r-- 1 root root 9119 Apr 28 03:59 NerDLApproach_4702adc74552.log\n",
            "-rw-r--r-- 1 root root 8927 Apr 28 03:59 NerDLApproach_51ea32b2bd75.log\n"
          ]
        }
      ]
    },
    {
      "cell_type": "code",
      "source": [
        "!cat /content/ner_dl_logs_model3/NerDLApproach_4702adc74552.log"
      ],
      "metadata": {
        "id": "W5aop-1ndH8Q",
        "colab": {
          "base_uri": "https://localhost:8080/"
        },
        "outputId": "50a1b049-8a0e-4561-efb0-6b9cfebf08ae"
      },
      "execution_count": null,
      "outputs": [
        {
          "output_type": "stream",
          "name": "stdout",
          "text": [
            "Name of the selected graph: ner-dl/blstm_10_768_128_120.pb\n",
            "Training started - total epochs: 15 - lr: 2.0E-4 - batch size: 16 - labels: 5 - chars: 89 - training examples: 1316\n",
            "\n",
            "\n",
            "Epoch 1/15 started, lr: 2.0E-4, dataset size: 1316\n",
            "\n",
            "\n",
            "Epoch 1/15 - 23.52s - loss: 2173.3035 - batches: 85\n",
            "Quality on test dataset: \n",
            "time to finish evaluation: 2.13s\n",
            "label\t tp\t fp\t fn\t prec\t rec\t f1\n",
            "B-StatusEmploy\t 0\t 0\t 90\t 0.0\t 0.0\t 0.0\n",
            "B-StatusTime\t 214\t 38\t 258\t 0.8492063\t 0.45338982\t 0.59116024\n",
            "I-StatusTime\t 0\t 0\t 209\t 0.0\t 0.0\t 0.0\n",
            "I-StatusEmploy\t 0\t 0\t 110\t 0.0\t 0.0\t 0.0\n",
            "tp: 214 fp: 38 fn: 667 labels: 4\n",
            "Macro-average\t prec: 0.21230158, rec: 0.113347456, f1: 0.14779006\n",
            "Micro-average\t prec: 0.8492063, rec: 0.2429058, f1: 0.37775818\n",
            "\n",
            "\n",
            "Epoch 2/15 started, lr: 1.9900496E-4, dataset size: 1316\n",
            "\n",
            "\n",
            "Epoch 2/15 - 23.73s - loss: 1438.5688 - batches: 85\n",
            "Quality on test dataset: \n",
            "time to finish evaluation: 1.59s\n",
            "label\t tp\t fp\t fn\t prec\t rec\t f1\n",
            "B-StatusEmploy\t 24\t 8\t 66\t 0.75\t 0.26666668\t 0.39344266\n",
            "B-StatusTime\t 336\t 63\t 136\t 0.84210527\t 0.7118644\t 0.771527\n",
            "I-StatusTime\t 0\t 0\t 209\t 0.0\t 0.0\t 0.0\n",
            "I-StatusEmploy\t 1\t 0\t 109\t 1.0\t 0.009090909\t 0.018018018\n",
            "tp: 361 fp: 71 fn: 520 labels: 4\n",
            "Macro-average\t prec: 0.64802635, rec: 0.2469055, f1: 0.357572\n",
            "Micro-average\t prec: 0.8356481, rec: 0.40976164, f1: 0.5498858\n",
            "\n",
            "\n",
            "Epoch 3/15 started, lr: 1.980198E-4, dataset size: 1316\n",
            "\n",
            "\n",
            "Epoch 3/15 - 23.06s - loss: 1243.8081 - batches: 85\n",
            "Quality on test dataset: \n",
            "time to finish evaluation: 1.55s\n",
            "label\t tp\t fp\t fn\t prec\t rec\t f1\n",
            "B-StatusEmploy\t 37\t 20\t 53\t 0.64912283\t 0.41111112\t 0.5034014\n",
            "B-StatusTime\t 374\t 101\t 98\t 0.7873684\t 0.7923729\t 0.78986275\n",
            "I-StatusTime\t 0\t 0\t 209\t 0.0\t 0.0\t 0.0\n",
            "I-StatusEmploy\t 9\t 3\t 101\t 0.75\t 0.08181818\t 0.14754099\n",
            "tp: 420 fp: 124 fn: 461 labels: 4\n",
            "Macro-average\t prec: 0.5466228, rec: 0.32132557, f1: 0.40473348\n",
            "Micro-average\t prec: 0.77205884, rec: 0.476731, f1: 0.5894737\n",
            "\n",
            "\n",
            "Epoch 4/15 started, lr: 1.9704433E-4, dataset size: 1316\n",
            "\n",
            "\n",
            "Epoch 4/15 - 22.52s - loss: 1130.9984 - batches: 85\n",
            "Quality on test dataset: \n",
            "time to finish evaluation: 1.50s\n",
            "label\t tp\t fp\t fn\t prec\t rec\t f1\n",
            "B-StatusEmploy\t 66\t 29\t 24\t 0.69473684\t 0.73333335\t 0.7135135\n",
            "B-StatusTime\t 388\t 115\t 84\t 0.7713718\t 0.8220339\t 0.7958974\n",
            "I-StatusTime\t 34\t 37\t 175\t 0.47887325\t 0.16267942\t 0.24285713\n",
            "I-StatusEmploy\t 24\t 8\t 86\t 0.75\t 0.21818182\t 0.33802813\n",
            "tp: 512 fp: 189 fn: 369 labels: 4\n",
            "Macro-average\t prec: 0.67374545, rec: 0.48405713, f1: 0.56336254\n",
            "Micro-average\t prec: 0.7303852, rec: 0.5811578, f1: 0.64728194\n",
            "\n",
            "\n",
            "Epoch 5/15 started, lr: 1.9607843E-4, dataset size: 1316\n",
            "\n",
            "\n",
            "Epoch 5/15 - 23.09s - loss: 1046.4415 - batches: 85\n",
            "Quality on test dataset: \n",
            "time to finish evaluation: 1.86s\n",
            "label\t tp\t fp\t fn\t prec\t rec\t f1\n",
            "B-StatusEmploy\t 63\t 25\t 27\t 0.71590906\t 0.7\t 0.7078652\n",
            "B-StatusTime\t 364\t 67\t 108\t 0.84454757\t 0.7711864\t 0.8062015\n",
            "I-StatusTime\t 4\t 2\t 205\t 0.6666667\t 0.019138755\t 0.037209302\n",
            "I-StatusEmploy\t 26\t 7\t 84\t 0.7878788\t 0.23636363\t 0.3636364\n",
            "tp: 457 fp: 101 fn: 424 labels: 4\n",
            "Macro-average\t prec: 0.7537505, rec: 0.43167222, f1: 0.54895717\n",
            "Micro-average\t prec: 0.8189964, rec: 0.51872873, f1: 0.63516337\n",
            "\n",
            "\n",
            "Epoch 6/15 started, lr: 1.9512195E-4, dataset size: 1316\n",
            "\n",
            "\n",
            "Epoch 6/15 - 22.87s - loss: 983.92175 - batches: 85\n",
            "Quality on test dataset: \n",
            "time to finish evaluation: 1.50s\n",
            "label\t tp\t fp\t fn\t prec\t rec\t f1\n",
            "B-StatusEmploy\t 72\t 29\t 18\t 0.7128713\t 0.8\t 0.75392675\n",
            "B-StatusTime\t 376\t 80\t 96\t 0.8245614\t 0.7966102\t 0.8103449\n",
            "I-StatusTime\t 6\t 4\t 203\t 0.6\t 0.028708134\t 0.05479452\n",
            "I-StatusEmploy\t 45\t 9\t 65\t 0.8333333\t 0.4090909\t 0.5487805\n",
            "tp: 499 fp: 122 fn: 382 labels: 4\n",
            "Macro-average\t prec: 0.74269146, rec: 0.5086023, f1: 0.60375047\n",
            "Micro-average\t prec: 0.8035427, rec: 0.56640184, f1: 0.66444737\n",
            "\n",
            "\n",
            "Epoch 7/15 started, lr: 1.9417476E-4, dataset size: 1316\n",
            "\n",
            "\n",
            "Epoch 7/15 - 23.09s - loss: 925.55774 - batches: 85\n",
            "Quality on test dataset: \n",
            "time to finish evaluation: 1.54s\n",
            "label\t tp\t fp\t fn\t prec\t rec\t f1\n",
            "B-StatusEmploy\t 76\t 29\t 14\t 0.72380954\t 0.84444445\t 0.7794872\n",
            "B-StatusTime\t 402\t 104\t 70\t 0.7944664\t 0.85169494\t 0.8220859\n",
            "I-StatusTime\t 46\t 34\t 163\t 0.575\t 0.2200957\t 0.3183391\n",
            "I-StatusEmploy\t 61\t 15\t 49\t 0.80263156\t 0.55454546\t 0.65591395\n",
            "tp: 585 fp: 182 fn: 296 labels: 4\n",
            "Macro-average\t prec: 0.7239769, rec: 0.6176951, f1: 0.66662645\n",
            "Micro-average\t prec: 0.7627119, rec: 0.66401815, f1: 0.70995146\n",
            "\n",
            "\n",
            "Epoch 8/15 started, lr: 1.9323672E-4, dataset size: 1316\n",
            "\n",
            "\n",
            "Epoch 8/15 - 23.37s - loss: 884.2072 - batches: 85\n",
            "Quality on test dataset: \n",
            "time to finish evaluation: 1.53s\n",
            "label\t tp\t fp\t fn\t prec\t rec\t f1\n",
            "B-StatusEmploy\t 75\t 25\t 15\t 0.75\t 0.8333333\t 0.7894737\n",
            "B-StatusTime\t 381\t 75\t 91\t 0.8355263\t 0.8072034\t 0.8211207\n",
            "I-StatusTime\t 41\t 26\t 168\t 0.6119403\t 0.19617225\t 0.29710147\n",
            "I-StatusEmploy\t 72\t 19\t 38\t 0.7912088\t 0.6545454\t 0.71641785\n",
            "tp: 569 fp: 145 fn: 312 labels: 4\n",
            "Macro-average\t prec: 0.74716884, rec: 0.6228136, f1: 0.6793472\n",
            "Micro-average\t prec: 0.79691875, rec: 0.645857, f1: 0.7134796\n",
            "\n",
            "\n",
            "Epoch 9/15 started, lr: 1.9230769E-4, dataset size: 1316\n",
            "\n",
            "\n",
            "Epoch 9/15 - 22.93s - loss: 827.5715 - batches: 85\n",
            "Quality on test dataset: \n",
            "time to finish evaluation: 1.51s\n",
            "label\t tp\t fp\t fn\t prec\t rec\t f1\n",
            "B-StatusEmploy\t 76\t 19\t 14\t 0.8\t 0.84444445\t 0.82162166\n",
            "B-StatusTime\t 390\t 87\t 82\t 0.8176101\t 0.8262712\t 0.8219178\n",
            "I-StatusTime\t 23\t 12\t 186\t 0.6571429\t 0.11004785\t 0.1885246\n",
            "I-StatusEmploy\t 64\t 12\t 46\t 0.84210527\t 0.58181816\t 0.688172\n",
            "tp: 553 fp: 130 fn: 328 labels: 4\n",
            "Macro-average\t prec: 0.7792146, rec: 0.5906454, f1: 0.6719512\n",
            "Micro-average\t prec: 0.80966324, rec: 0.6276958, f1: 0.7071611\n",
            "\n",
            "\n",
            "Epoch 10/15 started, lr: 1.9138756E-4, dataset size: 1316\n",
            "\n",
            "\n",
            "Epoch 10/15 - 23.24s - loss: 794.1115 - batches: 85\n",
            "Quality on test dataset: \n",
            "time to finish evaluation: 1.55s\n",
            "label\t tp\t fp\t fn\t prec\t rec\t f1\n",
            "B-StatusEmploy\t 76\t 19\t 14\t 0.8\t 0.84444445\t 0.82162166\n",
            "B-StatusTime\t 398\t 90\t 74\t 0.81557375\t 0.84322035\t 0.82916665\n",
            "I-StatusTime\t 39\t 18\t 170\t 0.68421054\t 0.18660288\t 0.29323307\n",
            "I-StatusEmploy\t 73\t 16\t 37\t 0.8202247\t 0.6636364\t 0.7336683\n",
            "tp: 586 fp: 143 fn: 295 labels: 4\n",
            "Macro-average\t prec: 0.78000224, rec: 0.634476, f1: 0.699753\n",
            "Micro-average\t prec: 0.8038409, rec: 0.6651532, f1: 0.7279503\n",
            "\n",
            "\n",
            "Epoch 11/15 started, lr: 1.9047619E-4, dataset size: 1316\n",
            "\n",
            "\n",
            "Epoch 11/15 - 23.85s - loss: 740.74506 - batches: 85\n",
            "Quality on test dataset: \n",
            "time to finish evaluation: 1.16s\n",
            "label\t tp\t fp\t fn\t prec\t rec\t f1\n",
            "B-StatusEmploy\t 78\t 21\t 12\t 0.7878788\t 0.8666667\t 0.82539684\n",
            "B-StatusTime\t 412\t 110\t 60\t 0.789272\t 0.87288135\t 0.8289738\n",
            "I-StatusTime\t 67\t 66\t 142\t 0.5037594\t 0.32057416\t 0.39181286\n",
            "I-StatusEmploy\t 81\t 22\t 29\t 0.78640777\t 0.73636365\t 0.7605634\n",
            "tp: 638 fp: 219 fn: 243 labels: 4\n",
            "Macro-average\t prec: 0.7168295, rec: 0.6991214, f1: 0.7078647\n",
            "Micro-average\t prec: 0.7444574, rec: 0.72417706, f1: 0.73417723\n",
            "\n",
            "\n",
            "Epoch 12/15 started, lr: 1.8957346E-4, dataset size: 1316\n",
            "\n",
            "\n",
            "Epoch 12/15 - 23.67s - loss: 713.27014 - batches: 85\n",
            "Quality on test dataset: \n",
            "time to finish evaluation: 1.12s\n",
            "label\t tp\t fp\t fn\t prec\t rec\t f1\n",
            "B-StatusEmploy\t 76\t 20\t 14\t 0.7916667\t 0.84444445\t 0.8172043\n",
            "B-StatusTime\t 405\t 89\t 67\t 0.81983805\t 0.8580508\t 0.8385093\n",
            "I-StatusTime\t 50\t 22\t 159\t 0.6944444\t 0.23923445\t 0.3558719\n",
            "I-StatusEmploy\t 66\t 11\t 44\t 0.85714287\t 0.6\t 0.70588243\n",
            "tp: 597 fp: 142 fn: 284 labels: 4\n",
            "Macro-average\t prec: 0.79077303, rec: 0.6354325, f1: 0.704643\n",
            "Micro-average\t prec: 0.80784845, rec: 0.67763907, f1: 0.7370371\n",
            "\n",
            "\n",
            "Epoch 13/15 started, lr: 1.8867925E-4, dataset size: 1316\n",
            "\n",
            "\n",
            "Epoch 13/15 - 23.87s - loss: 682.0927 - batches: 85\n",
            "Quality on test dataset: \n",
            "time to finish evaluation: 1.10s\n",
            "label\t tp\t fp\t fn\t prec\t rec\t f1\n",
            "B-StatusEmploy\t 74\t 13\t 16\t 0.85057473\t 0.82222223\t 0.8361582\n",
            "B-StatusTime\t 356\t 50\t 116\t 0.87684727\t 0.7542373\t 0.81093395\n",
            "I-StatusTime\t 19\t 8\t 190\t 0.7037037\t 0.09090909\t 0.16101697\n",
            "I-StatusEmploy\t 71\t 12\t 39\t 0.85542166\t 0.6454545\t 0.7357513\n",
            "tp: 520 fp: 83 fn: 361 labels: 4\n",
            "Macro-average\t prec: 0.8216368, rec: 0.5782058, f1: 0.67875516\n",
            "Micro-average\t prec: 0.8623549, rec: 0.5902384, f1: 0.7008086\n",
            "\n",
            "\n",
            "Epoch 14/15 started, lr: 1.8779341E-4, dataset size: 1316\n",
            "\n",
            "\n",
            "Epoch 14/15 - 12.67s - loss: 647.4911 - batches: 85\n",
            "Quality on test dataset: \n",
            "time to finish evaluation: 0.75s\n",
            "label\t tp\t fp\t fn\t prec\t rec\t f1\n",
            "B-StatusEmploy\t 73\t 13\t 17\t 0.8488372\t 0.8111111\t 0.8295454\n",
            "B-StatusTime\t 371\t 53\t 101\t 0.875\t 0.78601694\t 0.828125\n",
            "I-StatusTime\t 21\t 9\t 188\t 0.7\t 0.10047847\t 0.17573221\n",
            "I-StatusEmploy\t 74\t 12\t 36\t 0.8604651\t 0.6727273\t 0.7551021\n",
            "tp: 539 fp: 87 fn: 342 labels: 4\n",
            "Macro-average\t prec: 0.82107556, rec: 0.5925835, f1: 0.68836373\n",
            "Micro-average\t prec: 0.86102235, rec: 0.6118048, f1: 0.7153284\n",
            "\n",
            "\n",
            "Epoch 15/15 started, lr: 1.8691587E-4, dataset size: 1316\n",
            "\n",
            "\n",
            "Epoch 15/15 - 12.71s - loss: 615.4733 - batches: 85\n",
            "Quality on test dataset: \n",
            "time to finish evaluation: 0.70s\n",
            "label\t tp\t fp\t fn\t prec\t rec\t f1\n",
            "B-StatusEmploy\t 79\t 16\t 11\t 0.83157897\t 0.87777776\t 0.85405403\n",
            "B-StatusTime\t 406\t 96\t 66\t 0.80876493\t 0.8601695\t 0.83367556\n",
            "I-StatusTime\t 62\t 35\t 147\t 0.63917524\t 0.2966507\t 0.40522876\n",
            "I-StatusEmploy\t 74\t 12\t 36\t 0.8604651\t 0.6727273\t 0.7551021\n",
            "tp: 621 fp: 159 fn: 260 labels: 4\n",
            "Macro-average\t prec: 0.78499603, rec: 0.6768313, f1: 0.726912\n",
            "Micro-average\t prec: 0.79615384, rec: 0.70488083, f1: 0.7477423\n"
          ]
        }
      ]
    },
    {
      "cell_type": "code",
      "source": [
        "pred_df = ner_model.stages[1].transform(bert_embedding.transform(test_data))\n",
        "# pred_df = ner_model.stages[1].transform(test_data)"
      ],
      "metadata": {
        "id": "q8J1FgRNDLBU"
      },
      "execution_count": null,
      "outputs": []
    },
    {
      "cell_type": "code",
      "source": [
        "import pyspark.sql.functions as F\n",
        "\n",
        "pred_df.select(F.explode(F.arrays_zip(pred_df.token.result,\n",
        "                                          pred_df.label.result,\n",
        "                                          pred_df.ner.result)).alias(\"cols\")) \\\n",
        "                              .select(F.expr(\"cols['0']\").alias(\"token\"),\n",
        "                                      F.expr(\"cols['1']\").alias(\"ground_truth\"),\n",
        "                                      F.expr(\"cols['2']\").alias(\"prediction\")).toPandas()"
      ],
      "metadata": {
        "id": "UkKBqzP2A3Ju",
        "colab": {
          "base_uri": "https://localhost:8080/",
          "height": 424
        },
        "outputId": "cb3aca38-a78d-429e-ad9a-e5054c138b22"
      },
      "execution_count": null,
      "outputs": [
        {
          "output_type": "execute_result",
          "data": {
            "text/plain": [
              "        token  ground_truth    prediction\n",
              "0      SOCIAL             O             O\n",
              "1     HISTORY             O             O\n",
              "2           :             O             O\n",
              "3       Lives  B-StatusTime  B-StatusTime\n",
              "4        with             O             O\n",
              "...       ...           ...           ...\n",
              "6868   father             O             O\n",
              "6869       of             O             O\n",
              "6870      one             O             O\n",
              "6871      son             O             O\n",
              "6872        .             O             O\n",
              "\n",
              "[6873 rows x 3 columns]"
            ],
            "text/html": [
              "\n",
              "  <div id=\"df-5666408b-32cb-4dbc-b112-a95954712712\">\n",
              "    <div class=\"colab-df-container\">\n",
              "      <div>\n",
              "<style scoped>\n",
              "    .dataframe tbody tr th:only-of-type {\n",
              "        vertical-align: middle;\n",
              "    }\n",
              "\n",
              "    .dataframe tbody tr th {\n",
              "        vertical-align: top;\n",
              "    }\n",
              "\n",
              "    .dataframe thead th {\n",
              "        text-align: right;\n",
              "    }\n",
              "</style>\n",
              "<table border=\"1\" class=\"dataframe\">\n",
              "  <thead>\n",
              "    <tr style=\"text-align: right;\">\n",
              "      <th></th>\n",
              "      <th>token</th>\n",
              "      <th>ground_truth</th>\n",
              "      <th>prediction</th>\n",
              "    </tr>\n",
              "  </thead>\n",
              "  <tbody>\n",
              "    <tr>\n",
              "      <th>0</th>\n",
              "      <td>SOCIAL</td>\n",
              "      <td>O</td>\n",
              "      <td>O</td>\n",
              "    </tr>\n",
              "    <tr>\n",
              "      <th>1</th>\n",
              "      <td>HISTORY</td>\n",
              "      <td>O</td>\n",
              "      <td>O</td>\n",
              "    </tr>\n",
              "    <tr>\n",
              "      <th>2</th>\n",
              "      <td>:</td>\n",
              "      <td>O</td>\n",
              "      <td>O</td>\n",
              "    </tr>\n",
              "    <tr>\n",
              "      <th>3</th>\n",
              "      <td>Lives</td>\n",
              "      <td>B-StatusTime</td>\n",
              "      <td>B-StatusTime</td>\n",
              "    </tr>\n",
              "    <tr>\n",
              "      <th>4</th>\n",
              "      <td>with</td>\n",
              "      <td>O</td>\n",
              "      <td>O</td>\n",
              "    </tr>\n",
              "    <tr>\n",
              "      <th>...</th>\n",
              "      <td>...</td>\n",
              "      <td>...</td>\n",
              "      <td>...</td>\n",
              "    </tr>\n",
              "    <tr>\n",
              "      <th>6868</th>\n",
              "      <td>father</td>\n",
              "      <td>O</td>\n",
              "      <td>O</td>\n",
              "    </tr>\n",
              "    <tr>\n",
              "      <th>6869</th>\n",
              "      <td>of</td>\n",
              "      <td>O</td>\n",
              "      <td>O</td>\n",
              "    </tr>\n",
              "    <tr>\n",
              "      <th>6870</th>\n",
              "      <td>one</td>\n",
              "      <td>O</td>\n",
              "      <td>O</td>\n",
              "    </tr>\n",
              "    <tr>\n",
              "      <th>6871</th>\n",
              "      <td>son</td>\n",
              "      <td>O</td>\n",
              "      <td>O</td>\n",
              "    </tr>\n",
              "    <tr>\n",
              "      <th>6872</th>\n",
              "      <td>.</td>\n",
              "      <td>O</td>\n",
              "      <td>O</td>\n",
              "    </tr>\n",
              "  </tbody>\n",
              "</table>\n",
              "<p>6873 rows × 3 columns</p>\n",
              "</div>\n",
              "      <button class=\"colab-df-convert\" onclick=\"convertToInteractive('df-5666408b-32cb-4dbc-b112-a95954712712')\"\n",
              "              title=\"Convert this dataframe to an interactive table.\"\n",
              "              style=\"display:none;\">\n",
              "        \n",
              "  <svg xmlns=\"http://www.w3.org/2000/svg\" height=\"24px\"viewBox=\"0 0 24 24\"\n",
              "       width=\"24px\">\n",
              "    <path d=\"M0 0h24v24H0V0z\" fill=\"none\"/>\n",
              "    <path d=\"M18.56 5.44l.94 2.06.94-2.06 2.06-.94-2.06-.94-.94-2.06-.94 2.06-2.06.94zm-11 1L8.5 8.5l.94-2.06 2.06-.94-2.06-.94L8.5 2.5l-.94 2.06-2.06.94zm10 10l.94 2.06.94-2.06 2.06-.94-2.06-.94-.94-2.06-.94 2.06-2.06.94z\"/><path d=\"M17.41 7.96l-1.37-1.37c-.4-.4-.92-.59-1.43-.59-.52 0-1.04.2-1.43.59L10.3 9.45l-7.72 7.72c-.78.78-.78 2.05 0 2.83L4 21.41c.39.39.9.59 1.41.59.51 0 1.02-.2 1.41-.59l7.78-7.78 2.81-2.81c.8-.78.8-2.07 0-2.86zM5.41 20L4 18.59l7.72-7.72 1.47 1.35L5.41 20z\"/>\n",
              "  </svg>\n",
              "      </button>\n",
              "      \n",
              "  <style>\n",
              "    .colab-df-container {\n",
              "      display:flex;\n",
              "      flex-wrap:wrap;\n",
              "      gap: 12px;\n",
              "    }\n",
              "\n",
              "    .colab-df-convert {\n",
              "      background-color: #E8F0FE;\n",
              "      border: none;\n",
              "      border-radius: 50%;\n",
              "      cursor: pointer;\n",
              "      display: none;\n",
              "      fill: #1967D2;\n",
              "      height: 32px;\n",
              "      padding: 0 0 0 0;\n",
              "      width: 32px;\n",
              "    }\n",
              "\n",
              "    .colab-df-convert:hover {\n",
              "      background-color: #E2EBFA;\n",
              "      box-shadow: 0px 1px 2px rgba(60, 64, 67, 0.3), 0px 1px 3px 1px rgba(60, 64, 67, 0.15);\n",
              "      fill: #174EA6;\n",
              "    }\n",
              "\n",
              "    [theme=dark] .colab-df-convert {\n",
              "      background-color: #3B4455;\n",
              "      fill: #D2E3FC;\n",
              "    }\n",
              "\n",
              "    [theme=dark] .colab-df-convert:hover {\n",
              "      background-color: #434B5C;\n",
              "      box-shadow: 0px 1px 3px 1px rgba(0, 0, 0, 0.15);\n",
              "      filter: drop-shadow(0px 1px 2px rgba(0, 0, 0, 0.3));\n",
              "      fill: #FFFFFF;\n",
              "    }\n",
              "  </style>\n",
              "\n",
              "      <script>\n",
              "        const buttonEl =\n",
              "          document.querySelector('#df-5666408b-32cb-4dbc-b112-a95954712712 button.colab-df-convert');\n",
              "        buttonEl.style.display =\n",
              "          google.colab.kernel.accessAllowed ? 'block' : 'none';\n",
              "\n",
              "        async function convertToInteractive(key) {\n",
              "          const element = document.querySelector('#df-5666408b-32cb-4dbc-b112-a95954712712');\n",
              "          const dataTable =\n",
              "            await google.colab.kernel.invokeFunction('convertToInteractive',\n",
              "                                                     [key], {});\n",
              "          if (!dataTable) return;\n",
              "\n",
              "          const docLinkHtml = 'Like what you see? Visit the ' +\n",
              "            '<a target=\"_blank\" href=https://colab.research.google.com/notebooks/data_table.ipynb>data table notebook</a>'\n",
              "            + ' to learn more about interactive tables.';\n",
              "          element.innerHTML = '';\n",
              "          dataTable['output_type'] = 'display_data';\n",
              "          await google.colab.output.renderOutput(dataTable, element);\n",
              "          const docLink = document.createElement('div');\n",
              "          docLink.innerHTML = docLinkHtml;\n",
              "          element.appendChild(docLink);\n",
              "        }\n",
              "      </script>\n",
              "    </div>\n",
              "  </div>\n",
              "  "
            ]
          },
          "metadata": {},
          "execution_count": 26
        }
      ]
    },
    {
      "cell_type": "code",
      "source": [
        "import pyspark.sql.functions as F\n",
        "\n",
        "pred_df.select(F.explode(F.arrays_zip(pred_df.token.result,\n",
        "                                          pred_df.label.result,\n",
        "                                          pred_df.ner.result)).alias(\"cols\")) \\\n",
        "                              .select(F.expr(\"cols['0']\").alias(\"token\"),\n",
        "                                      F.expr(\"cols['1']\").alias(\"ground_truth\"),\n",
        "                                      F.expr(\"cols['2']\").alias(\"prediction\")).show(truncate=False)\n",
        "\n"
      ],
      "metadata": {
        "id": "ZUA4sONKDQlB",
        "colab": {
          "base_uri": "https://localhost:8080/"
        },
        "outputId": "a58f3982-9f59-4b87-8931-bf9d01624066"
      },
      "execution_count": null,
      "outputs": [
        {
          "output_type": "stream",
          "name": "stdout",
          "text": [
            "+---------+------------+------------+\n",
            "|token    |ground_truth|prediction  |\n",
            "+---------+------------+------------+\n",
            "|SOCIAL   |O           |O           |\n",
            "|HISTORY  |O           |O           |\n",
            "|:        |O           |O           |\n",
            "|Lives    |B-StatusTime|B-StatusTime|\n",
            "|with     |O           |O           |\n",
            "|his      |O           |O           |\n",
            "|caring   |O           |O           |\n",
            "|and      |O           |O           |\n",
            "|devoted  |O           |O           |\n",
            "|parents  |O           |O           |\n",
            "|at       |O           |O           |\n",
            "|home     |O           |O           |\n",
            "|.        |O           |O           |\n",
            "|Enjoys   |O           |O           |\n",
            "|movies   |O           |O           |\n",
            "|and      |O           |O           |\n",
            "|computers|O           |O           |\n",
            "|.        |O           |O           |\n",
            "|No       |B-StatusTime|B-StatusTime|\n",
            "|history  |I-StatusTime|I-StatusTime|\n",
            "+---------+------------+------------+\n",
            "only showing top 20 rows\n",
            "\n"
          ]
        }
      ]
    },
    {
      "cell_type": "code",
      "source": [
        "from sklearn.metrics import classification_report\n",
        "\n",
        "preds_df_analysis = pred_df.select(F.explode(F.arrays_zip(pred_df.token.result,\n",
        "                                                     pred_df.label.result,\n",
        "                                                     pred_df.ner.result)).alias(\"cols\")) \\\n",
        "                      .select(F.expr(\"cols['0']\").alias(\"token\"),\n",
        "                              F.expr(\"cols['1']\").alias(\"ground_truth\"),\n",
        "                              F.expr(\"cols['2']\").alias(\"prediction\")).toPandas()\n",
        "preds_df_analysis[\"prediction\"].fillna( method ='ffill', inplace = True)\n",
        "print (classification_report(preds_df_analysis['ground_truth'], preds_df_analysis['prediction']))\n"
      ],
      "metadata": {
        "id": "4qUDJjse15bZ",
        "colab": {
          "base_uri": "https://localhost:8080/"
        },
        "outputId": "f3ad71c3-9164-4f86-c5be-534e92ad6184"
      },
      "execution_count": null,
      "outputs": [
        {
          "output_type": "stream",
          "name": "stdout",
          "text": [
            "                precision    recall  f1-score   support\n",
            "\n",
            "B-StatusEmploy       0.83      0.88      0.85        90\n",
            "  B-StatusTime       0.81      0.86      0.83       474\n",
            "I-StatusEmploy       0.86      0.67      0.76       110\n",
            "  I-StatusTime       0.64      0.29      0.40       212\n",
            "             O       0.96      0.98      0.97      5987\n",
            "\n",
            "      accuracy                           0.94      6873\n",
            "     macro avg       0.82      0.74      0.76      6873\n",
            "  weighted avg       0.94      0.94      0.94      6873\n",
            "\n"
          ]
        }
      ]
    },
    {
      "cell_type": "code",
      "source": [
        "\n",
        "# idx = preds_df_analysis.loc[preds_df_analysis['ground_truth'].isnull(),'ground_truth'].index\n",
        "\n",
        "\n",
        "# preds_df_analysis.loc[idx]"
      ],
      "metadata": {
        "id": "jTRaBvJt5O9s"
      },
      "execution_count": null,
      "outputs": []
    },
    {
      "cell_type": "code",
      "source": [
        "ner_model.stages[1].write().overwrite().save('/content/drive/MyDrive/umass_ner/model_ner_dl_3')"
      ],
      "metadata": {
        "id": "U6JUWcMTzp9X"
      },
      "execution_count": null,
      "outputs": []
    },
    {
      "cell_type": "code",
      "source": [
        "!wget  -q https://raw.githubusercontent.com/JohnSnowLabs/spark-nlp-workshop/master/tutorials/Certification_Trainings/Public/utils/conll_eval.py\n",
        "\n",
        "import conll_eval\n",
        "\n",
        "metrics = conll_eval.evaluate(preds_df_analysis['ground_truth'].values, preds_df_analysis['prediction'].values)\n",
        "\n",
        "\n",
        "import pandas as pd\n",
        "pd.DataFrame(metrics[1], columns=['entity','precision','recall','f1','support'])\n",
        "\n"
      ],
      "metadata": {
        "colab": {
          "base_uri": "https://localhost:8080/",
          "height": 199
        },
        "id": "p8eLAnfp2cpG",
        "outputId": "9c20eef8-99a9-4382-f47a-e67923af4e1f"
      },
      "execution_count": null,
      "outputs": [
        {
          "output_type": "stream",
          "name": "stdout",
          "text": [
            "processed 6873 tokens with 564 phrases; found: 606 phrases; correct: 417.\n",
            "accuracy:  70.09%; (non-O)\n",
            "accuracy:  94.15%; precision:  68.81%; recall:  73.94%; FB1:  71.28\n",
            "     StatusEmploy: precision:  64.71%; recall:  73.33%; FB1:  68.75  102\n",
            "       StatusTime: precision:  69.64%; recall:  74.05%; FB1:  71.78  504\n"
          ]
        },
        {
          "output_type": "execute_result",
          "data": {
            "text/plain": [
              "         entity  precision     recall         f1  support\n",
              "0  StatusEmploy  64.705882  73.333333  68.750000      102\n",
              "1    StatusTime  69.642857  74.050633  71.779141      504"
            ],
            "text/html": [
              "\n",
              "  <div id=\"df-53dae138-bb92-4dfe-9f40-684a8f164f9c\">\n",
              "    <div class=\"colab-df-container\">\n",
              "      <div>\n",
              "<style scoped>\n",
              "    .dataframe tbody tr th:only-of-type {\n",
              "        vertical-align: middle;\n",
              "    }\n",
              "\n",
              "    .dataframe tbody tr th {\n",
              "        vertical-align: top;\n",
              "    }\n",
              "\n",
              "    .dataframe thead th {\n",
              "        text-align: right;\n",
              "    }\n",
              "</style>\n",
              "<table border=\"1\" class=\"dataframe\">\n",
              "  <thead>\n",
              "    <tr style=\"text-align: right;\">\n",
              "      <th></th>\n",
              "      <th>entity</th>\n",
              "      <th>precision</th>\n",
              "      <th>recall</th>\n",
              "      <th>f1</th>\n",
              "      <th>support</th>\n",
              "    </tr>\n",
              "  </thead>\n",
              "  <tbody>\n",
              "    <tr>\n",
              "      <th>0</th>\n",
              "      <td>StatusEmploy</td>\n",
              "      <td>64.705882</td>\n",
              "      <td>73.333333</td>\n",
              "      <td>68.750000</td>\n",
              "      <td>102</td>\n",
              "    </tr>\n",
              "    <tr>\n",
              "      <th>1</th>\n",
              "      <td>StatusTime</td>\n",
              "      <td>69.642857</td>\n",
              "      <td>74.050633</td>\n",
              "      <td>71.779141</td>\n",
              "      <td>504</td>\n",
              "    </tr>\n",
              "  </tbody>\n",
              "</table>\n",
              "</div>\n",
              "      <button class=\"colab-df-convert\" onclick=\"convertToInteractive('df-53dae138-bb92-4dfe-9f40-684a8f164f9c')\"\n",
              "              title=\"Convert this dataframe to an interactive table.\"\n",
              "              style=\"display:none;\">\n",
              "        \n",
              "  <svg xmlns=\"http://www.w3.org/2000/svg\" height=\"24px\"viewBox=\"0 0 24 24\"\n",
              "       width=\"24px\">\n",
              "    <path d=\"M0 0h24v24H0V0z\" fill=\"none\"/>\n",
              "    <path d=\"M18.56 5.44l.94 2.06.94-2.06 2.06-.94-2.06-.94-.94-2.06-.94 2.06-2.06.94zm-11 1L8.5 8.5l.94-2.06 2.06-.94-2.06-.94L8.5 2.5l-.94 2.06-2.06.94zm10 10l.94 2.06.94-2.06 2.06-.94-2.06-.94-.94-2.06-.94 2.06-2.06.94z\"/><path d=\"M17.41 7.96l-1.37-1.37c-.4-.4-.92-.59-1.43-.59-.52 0-1.04.2-1.43.59L10.3 9.45l-7.72 7.72c-.78.78-.78 2.05 0 2.83L4 21.41c.39.39.9.59 1.41.59.51 0 1.02-.2 1.41-.59l7.78-7.78 2.81-2.81c.8-.78.8-2.07 0-2.86zM5.41 20L4 18.59l7.72-7.72 1.47 1.35L5.41 20z\"/>\n",
              "  </svg>\n",
              "      </button>\n",
              "      \n",
              "  <style>\n",
              "    .colab-df-container {\n",
              "      display:flex;\n",
              "      flex-wrap:wrap;\n",
              "      gap: 12px;\n",
              "    }\n",
              "\n",
              "    .colab-df-convert {\n",
              "      background-color: #E8F0FE;\n",
              "      border: none;\n",
              "      border-radius: 50%;\n",
              "      cursor: pointer;\n",
              "      display: none;\n",
              "      fill: #1967D2;\n",
              "      height: 32px;\n",
              "      padding: 0 0 0 0;\n",
              "      width: 32px;\n",
              "    }\n",
              "\n",
              "    .colab-df-convert:hover {\n",
              "      background-color: #E2EBFA;\n",
              "      box-shadow: 0px 1px 2px rgba(60, 64, 67, 0.3), 0px 1px 3px 1px rgba(60, 64, 67, 0.15);\n",
              "      fill: #174EA6;\n",
              "    }\n",
              "\n",
              "    [theme=dark] .colab-df-convert {\n",
              "      background-color: #3B4455;\n",
              "      fill: #D2E3FC;\n",
              "    }\n",
              "\n",
              "    [theme=dark] .colab-df-convert:hover {\n",
              "      background-color: #434B5C;\n",
              "      box-shadow: 0px 1px 3px 1px rgba(0, 0, 0, 0.15);\n",
              "      filter: drop-shadow(0px 1px 2px rgba(0, 0, 0, 0.3));\n",
              "      fill: #FFFFFF;\n",
              "    }\n",
              "  </style>\n",
              "\n",
              "      <script>\n",
              "        const buttonEl =\n",
              "          document.querySelector('#df-53dae138-bb92-4dfe-9f40-684a8f164f9c button.colab-df-convert');\n",
              "        buttonEl.style.display =\n",
              "          google.colab.kernel.accessAllowed ? 'block' : 'none';\n",
              "\n",
              "        async function convertToInteractive(key) {\n",
              "          const element = document.querySelector('#df-53dae138-bb92-4dfe-9f40-684a8f164f9c');\n",
              "          const dataTable =\n",
              "            await google.colab.kernel.invokeFunction('convertToInteractive',\n",
              "                                                     [key], {});\n",
              "          if (!dataTable) return;\n",
              "\n",
              "          const docLinkHtml = 'Like what you see? Visit the ' +\n",
              "            '<a target=\"_blank\" href=https://colab.research.google.com/notebooks/data_table.ipynb>data table notebook</a>'\n",
              "            + ' to learn more about interactive tables.';\n",
              "          element.innerHTML = '';\n",
              "          dataTable['output_type'] = 'display_data';\n",
              "          await google.colab.output.renderOutput(dataTable, element);\n",
              "          const docLink = document.createElement('div');\n",
              "          docLink.innerHTML = docLinkHtml;\n",
              "          element.appendChild(docLink);\n",
              "        }\n",
              "      </script>\n",
              "    </div>\n",
              "  </div>\n",
              "  "
            ]
          },
          "metadata": {},
          "execution_count": 60
        }
      ]
    },
    {
      "cell_type": "code",
      "source": [
        "!wget -q https://raw.githubusercontent.com/JohnSnowLabs/spark-nlp-workshop/master/tutorials/Certification_Trainings/Public/utils/ner_log_parser.py\n"
      ],
      "metadata": {
        "id": "ul7BLIF19fwV"
      },
      "execution_count": null,
      "outputs": []
    },
    {
      "cell_type": "code",
      "source": [
        "import ner_log_parser"
      ],
      "metadata": {
        "id": "VZKsyNt79vsD"
      },
      "execution_count": null,
      "outputs": []
    },
    {
      "cell_type": "code",
      "source": [
        "ner_log_parser.get_charts('/content/ner_dl_logs_model3/NerDLApproach_4702adc74552.log')"
      ],
      "metadata": {
        "colab": {
          "base_uri": "https://localhost:8080/",
          "height": 1000
        },
        "id": "gJZY3Izr98s1",
        "outputId": "9c2bfb5d-37a2-4be3-d181-d4b6033fded7"
      },
      "execution_count": null,
      "outputs": [
        {
          "output_type": "display_data",
          "data": {
            "text/plain": [
              "<Figure size 1440x1440 with 6 Axes>"
            ],
            "image/png": "[encoded data removed]"
          },
          "metadata": {
            "needs_background": "light"
          }
        },
        {
          "output_type": "display_data",
          "data": {
            "text/plain": [
              "<Figure size 1440x1440 with 6 Axes>"
            ],
            "image/png": "[encoded data removed]"
          },
          "metadata": {
            "needs_background": "light"
          }
        }
      ]
    },
    {
      "cell_type": "code",
      "source": [
        "ner_log_parser.loss_plot('/content/ner_dl_logs_model3/NerDLApproach_4702adc74552.log')"
      ],
      "metadata": {
        "colab": {
          "base_uri": "https://localhost:8080/",
          "height": 513
        },
        "id": "87vpWC8q-g2e",
        "outputId": "9b3788ee-3423-4202-acb2-9dd88dbd5e7c"
      },
      "execution_count": null,
      "outputs": [
        {
          "output_type": "display_data",
          "data": {
            "text/plain": [
              "<Figure size 576x576 with 1 Axes>"
            ],
            "image/png": "[encoded data removed]"
          },
          "metadata": {
            "needs_background": "light"
          }
        }
      ]
    },
    {
      "cell_type": "code",
      "source": [
        "\n",
        "\n",
        "document = DocumentAssembler()\\\n",
        "        .setInputCol(\"text\")\\\n",
        "        .setOutputCol(\"document\")\n",
        "\n",
        "sentence = SentenceDetector()\\\n",
        "        .setInputCols(['document'])\\\n",
        "        .setOutputCol('sentence')\n",
        "\n",
        "token = Tokenizer()\\\n",
        "        .setInputCols(['sentence'])\\\n",
        "        .setOutputCol('token')\n",
        "\n",
        "bert_embedding = BertEmbeddings.pretrained('bert_base_cased', 'en')\\\n",
        "   .setInputCols([\"sentence\",'token'])\\\n",
        "   .setOutputCol(\"bert_embeddings\")\\\n",
        "   .setCaseSensitive(True)\n",
        "  \n",
        "# load trained model\n",
        "loaded_ner_model = NerDLModel.load(\"/content/drive/MyDrive/umass_ner/model_ner_dl_3\")\\\n",
        "        .setInputCols([\"sentence\", \"token\", \"bert_embeddings\"])\\\n",
        "        .setOutputCol(\"ner\")\n",
        "\n",
        "converter = NerConverter()\\\n",
        "        .setInputCols([\"document\", \"token\", \"ner\"])\\\n",
        "        .setOutputCol(\"ner_span\")\n",
        "\n",
        "ner_prediction_pipeline = Pipeline(stages = [\n",
        "        document,\n",
        "        sentence,\n",
        "        token,\n",
        "        bert_embedding,\n",
        "        loaded_ner_model,\n",
        "        converter\n",
        "])\n",
        "\n"
      ],
      "metadata": {
        "colab": {
          "base_uri": "https://localhost:8080/"
        },
        "id": "OnRBRKn0DYZV",
        "outputId": "ae491e25-381c-4ee6-8fd7-fdf640e8c402"
      },
      "execution_count": null,
      "outputs": [
        {
          "output_type": "stream",
          "name": "stdout",
          "text": [
            "bert_base_cased download started this may take some time.\n",
            "Approximate size to download 389.1 MB\n",
            "[OK!]\n"
          ]
        }
      ]
    },
    {
      "cell_type": "code",
      "source": [
        "\n",
        "empty_data = spark.createDataFrame([['']]).toDF(\"text\")\n",
        "\n",
        "prediction_model = ner_prediction_pipeline.fit(empty_data)\n",
        "\n"
      ],
      "metadata": {
        "id": "xWpzQ3AxAL_D"
      },
      "execution_count": null,
      "outputs": []
    },
    {
      "cell_type": "code",
      "source": [
        "pred_df= prediction_model.transform(test_data)"
      ],
      "metadata": {
        "id": "8JRzKgiJCr5p"
      },
      "execution_count": null,
      "outputs": []
    },
    {
      "cell_type": "code",
      "source": [
        "from sparknlp.base import LightPipeline\n",
        "\n",
        "light_model = LightPipeline(prediction_model)\n"
      ],
      "metadata": {
        "id": "_TJyi_EK_7rB"
      },
      "execution_count": null,
      "outputs": []
    },
    {
      "cell_type": "code",
      "source": [
        "# file = 415\n",
        "text = \"\"\"SOCIAL HISTORY:  The patient quit smoking cigarettes 15 years\n",
        "ago.  She has a history of heavy alcohol consumption in the\n",
        "past, but none for the past 13 years.  She is a former\n",
        "employee of the state lottery.\"\"\""
      ],
      "metadata": {
        "id": "chls97aKDdnF"
      },
      "execution_count": null,
      "outputs": []
    },
    {
      "cell_type": "code",
      "source": [
        "import pandas as pd\n",
        "\n",
        "result = light_model.fullAnnotate(text)\n",
        "\n",
        "ner_df= pd.DataFrame([(int(x.metadata['sentence']), x.result, x.begin, x.end, y.result) for x,y in zip(result[0][\"token\"], result[0][\"ner\"])], \n",
        "                      columns=['sent_id','token','start','end','ner'])\n",
        "ner_df"
      ],
      "metadata": {
        "colab": {
          "base_uri": "https://localhost:8080/",
          "height": 1000
        },
        "id": "0PQRL6UO8Eia",
        "outputId": "49da8500-7a19-4b1e-e87e-68dd703ce8b8"
      },
      "execution_count": null,
      "outputs": [
        {
          "output_type": "execute_result",
          "data": {
            "text/plain": [
              "    sent_id        token  start  end             ner\n",
              "0         0       SOCIAL      0    5               O\n",
              "1         0      HISTORY      7   13               O\n",
              "2         0            :     14   14               O\n",
              "3         0          The     17   19               O\n",
              "4         0      patient     21   27               O\n",
              "5         0         quit     29   32    B-StatusTime\n",
              "6         0      smoking     34   40               O\n",
              "7         0   cigarettes     42   51               O\n",
              "8         0           15     53   54               O\n",
              "9         0        years     56   60               O\n",
              "10        0          ago     62   64               O\n",
              "11        0            .     65   65               O\n",
              "12        1          She     68   70               O\n",
              "13        1          has     72   74               O\n",
              "14        1            a     76   76               O\n",
              "15        1      history     78   84               O\n",
              "16        1           of     86   87               O\n",
              "17        1        heavy     89   93               O\n",
              "18        1      alcohol     95  101               O\n",
              "19        1  consumption    103  113               O\n",
              "20        1           in    115  116               O\n",
              "21        1          the    118  120               O\n",
              "22        1         past    122  125               O\n",
              "23        1            ,    126  126               O\n",
              "24        1          but    128  130               O\n",
              "25        1         none    132  135               O\n",
              "26        1          for    137  139               O\n",
              "27        1          the    141  143               O\n",
              "28        1         past    145  148               O\n",
              "29        1           13    150  151               O\n",
              "30        1        years    153  157               O\n",
              "31        1            .    158  158               O\n",
              "32        2          She    161  163               O\n",
              "33        2           is    165  166               O\n",
              "34        2            a    168  168  B-StatusEmploy\n",
              "35        2       former    170  175  B-StatusEmploy\n",
              "36        2     employee    177  184  I-StatusEmploy\n",
              "37        2           of    186  187               O\n",
              "38        2          the    189  191               O\n",
              "39        2        state    193  197               O\n",
              "40        2      lottery    199  205               O\n",
              "41        2            .    206  206               O"
            ],
            "text/html": [
              "\n",
              "  <div id=\"df-da803685-c53e-48a4-b2b3-a60f906087c6\">\n",
              "    <div class=\"colab-df-container\">\n",
              "      <div>\n",
              "<style scoped>\n",
              "    .dataframe tbody tr th:only-of-type {\n",
              "        vertical-align: middle;\n",
              "    }\n",
              "\n",
              "    .dataframe tbody tr th {\n",
              "        vertical-align: top;\n",
              "    }\n",
              "\n",
              "    .dataframe thead th {\n",
              "        text-align: right;\n",
              "    }\n",
              "</style>\n",
              "<table border=\"1\" class=\"dataframe\">\n",
              "  <thead>\n",
              "    <tr style=\"text-align: right;\">\n",
              "      <th></th>\n",
              "      <th>sent_id</th>\n",
              "      <th>token</th>\n",
              "      <th>start</th>\n",
              "      <th>end</th>\n",
              "      <th>ner</th>\n",
              "    </tr>\n",
              "  </thead>\n",
              "  <tbody>\n",
              "    <tr>\n",
              "      <th>0</th>\n",
              "      <td>0</td>\n",
              "      <td>SOCIAL</td>\n",
              "      <td>0</td>\n",
              "      <td>5</td>\n",
              "      <td>O</td>\n",
              "    </tr>\n",
              "    <tr>\n",
              "      <th>1</th>\n",
              "      <td>0</td>\n",
              "      <td>HISTORY</td>\n",
              "      <td>7</td>\n",
              "      <td>13</td>\n",
              "      <td>O</td>\n",
              "    </tr>\n",
              "    <tr>\n",
              "      <th>2</th>\n",
              "      <td>0</td>\n",
              "      <td>:</td>\n",
              "      <td>14</td>\n",
              "      <td>14</td>\n",
              "      <td>O</td>\n",
              "    </tr>\n",
              "    <tr>\n",
              "      <th>3</th>\n",
              "      <td>0</td>\n",
              "      <td>The</td>\n",
              "      <td>17</td>\n",
              "      <td>19</td>\n",
              "      <td>O</td>\n",
              "    </tr>\n",
              "    <tr>\n",
              "      <th>4</th>\n",
              "      <td>0</td>\n",
              "      <td>patient</td>\n",
              "      <td>21</td>\n",
              "      <td>27</td>\n",
              "      <td>O</td>\n",
              "    </tr>\n",
              "    <tr>\n",
              "      <th>5</th>\n",
              "      <td>0</td>\n",
              "      <td>quit</td>\n",
              "      <td>29</td>\n",
              "      <td>32</td>\n",
              "      <td>B-StatusTime</td>\n",
              "    </tr>\n",
              "    <tr>\n",
              "      <th>6</th>\n",
              "      <td>0</td>\n",
              "      <td>smoking</td>\n",
              "      <td>34</td>\n",
              "      <td>40</td>\n",
              "      <td>O</td>\n",
              "    </tr>\n",
              "    <tr>\n",
              "      <th>7</th>\n",
              "      <td>0</td>\n",
              "      <td>cigarettes</td>\n",
              "      <td>42</td>\n",
              "      <td>51</td>\n",
              "      <td>O</td>\n",
              "    </tr>\n",
              "    <tr>\n",
              "      <th>8</th>\n",
              "      <td>0</td>\n",
              "      <td>15</td>\n",
              "      <td>53</td>\n",
              "      <td>54</td>\n",
              "      <td>O</td>\n",
              "    </tr>\n",
              "    <tr>\n",
              "      <th>9</th>\n",
              "      <td>0</td>\n",
              "      <td>years</td>\n",
              "      <td>56</td>\n",
              "      <td>60</td>\n",
              "      <td>O</td>\n",
              "    </tr>\n",
              "    <tr>\n",
              "      <th>10</th>\n",
              "      <td>0</td>\n",
              "      <td>ago</td>\n",
              "      <td>62</td>\n",
              "      <td>64</td>\n",
              "      <td>O</td>\n",
              "    </tr>\n",
              "    <tr>\n",
              "      <th>11</th>\n",
              "      <td>0</td>\n",
              "      <td>.</td>\n",
              "      <td>65</td>\n",
              "      <td>65</td>\n",
              "      <td>O</td>\n",
              "    </tr>\n",
              "    <tr>\n",
              "      <th>12</th>\n",
              "      <td>1</td>\n",
              "      <td>She</td>\n",
              "      <td>68</td>\n",
              "      <td>70</td>\n",
              "      <td>O</td>\n",
              "    </tr>\n",
              "    <tr>\n",
              "      <th>13</th>\n",
              "      <td>1</td>\n",
              "      <td>has</td>\n",
              "      <td>72</td>\n",
              "      <td>74</td>\n",
              "      <td>O</td>\n",
              "    </tr>\n",
              "    <tr>\n",
              "      <th>14</th>\n",
              "      <td>1</td>\n",
              "      <td>a</td>\n",
              "      <td>76</td>\n",
              "      <td>76</td>\n",
              "      <td>O</td>\n",
              "    </tr>\n",
              "    <tr>\n",
              "      <th>15</th>\n",
              "      <td>1</td>\n",
              "      <td>history</td>\n",
              "      <td>78</td>\n",
              "      <td>84</td>\n",
              "      <td>O</td>\n",
              "    </tr>\n",
              "    <tr>\n",
              "      <th>16</th>\n",
              "      <td>1</td>\n",
              "      <td>of</td>\n",
              "      <td>86</td>\n",
              "      <td>87</td>\n",
              "      <td>O</td>\n",
              "    </tr>\n",
              "    <tr>\n",
              "      <th>17</th>\n",
              "      <td>1</td>\n",
              "      <td>heavy</td>\n",
              "      <td>89</td>\n",
              "      <td>93</td>\n",
              "      <td>O</td>\n",
              "    </tr>\n",
              "    <tr>\n",
              "      <th>18</th>\n",
              "      <td>1</td>\n",
              "      <td>alcohol</td>\n",
              "      <td>95</td>\n",
              "      <td>101</td>\n",
              "      <td>O</td>\n",
              "    </tr>\n",
              "    <tr>\n",
              "      <th>19</th>\n",
              "      <td>1</td>\n",
              "      <td>consumption</td>\n",
              "      <td>103</td>\n",
              "      <td>113</td>\n",
              "      <td>O</td>\n",
              "    </tr>\n",
              "    <tr>\n",
              "      <th>20</th>\n",
              "      <td>1</td>\n",
              "      <td>in</td>\n",
              "      <td>115</td>\n",
              "      <td>116</td>\n",
              "      <td>O</td>\n",
              "    </tr>\n",
              "    <tr>\n",
              "      <th>21</th>\n",
              "      <td>1</td>\n",
              "      <td>the</td>\n",
              "      <td>118</td>\n",
              "      <td>120</td>\n",
              "      <td>O</td>\n",
              "    </tr>\n",
              "    <tr>\n",
              "      <th>22</th>\n",
              "      <td>1</td>\n",
              "      <td>past</td>\n",
              "      <td>122</td>\n",
              "      <td>125</td>\n",
              "      <td>O</td>\n",
              "    </tr>\n",
              "    <tr>\n",
              "      <th>23</th>\n",
              "      <td>1</td>\n",
              "      <td>,</td>\n",
              "      <td>126</td>\n",
              "      <td>126</td>\n",
              "      <td>O</td>\n",
              "    </tr>\n",
              "    <tr>\n",
              "      <th>24</th>\n",
              "      <td>1</td>\n",
              "      <td>but</td>\n",
              "      <td>128</td>\n",
              "      <td>130</td>\n",
              "      <td>O</td>\n",
              "    </tr>\n",
              "    <tr>\n",
              "      <th>25</th>\n",
              "      <td>1</td>\n",
              "      <td>none</td>\n",
              "      <td>132</td>\n",
              "      <td>135</td>\n",
              "      <td>O</td>\n",
              "    </tr>\n",
              "    <tr>\n",
              "      <th>26</th>\n",
              "      <td>1</td>\n",
              "      <td>for</td>\n",
              "      <td>137</td>\n",
              "      <td>139</td>\n",
              "      <td>O</td>\n",
              "    </tr>\n",
              "    <tr>\n",
              "      <th>27</th>\n",
              "      <td>1</td>\n",
              "      <td>the</td>\n",
              "      <td>141</td>\n",
              "      <td>143</td>\n",
              "      <td>O</td>\n",
              "    </tr>\n",
              "    <tr>\n",
              "      <th>28</th>\n",
              "      <td>1</td>\n",
              "      <td>past</td>\n",
              "      <td>145</td>\n",
              "      <td>148</td>\n",
              "      <td>O</td>\n",
              "    </tr>\n",
              "    <tr>\n",
              "      <th>29</th>\n",
              "      <td>1</td>\n",
              "      <td>13</td>\n",
              "      <td>150</td>\n",
              "      <td>151</td>\n",
              "      <td>O</td>\n",
              "    </tr>\n",
              "    <tr>\n",
              "      <th>30</th>\n",
              "      <td>1</td>\n",
              "      <td>years</td>\n",
              "      <td>153</td>\n",
              "      <td>157</td>\n",
              "      <td>O</td>\n",
              "    </tr>\n",
              "    <tr>\n",
              "      <th>31</th>\n",
              "      <td>1</td>\n",
              "      <td>.</td>\n",
              "      <td>158</td>\n",
              "      <td>158</td>\n",
              "      <td>O</td>\n",
              "    </tr>\n",
              "    <tr>\n",
              "      <th>32</th>\n",
              "      <td>2</td>\n",
              "      <td>She</td>\n",
              "      <td>161</td>\n",
              "      <td>163</td>\n",
              "      <td>O</td>\n",
              "    </tr>\n",
              "    <tr>\n",
              "      <th>33</th>\n",
              "      <td>2</td>\n",
              "      <td>is</td>\n",
              "      <td>165</td>\n",
              "      <td>166</td>\n",
              "      <td>O</td>\n",
              "    </tr>\n",
              "    <tr>\n",
              "      <th>34</th>\n",
              "      <td>2</td>\n",
              "      <td>a</td>\n",
              "      <td>168</td>\n",
              "      <td>168</td>\n",
              "      <td>B-StatusEmploy</td>\n",
              "    </tr>\n",
              "    <tr>\n",
              "      <th>35</th>\n",
              "      <td>2</td>\n",
              "      <td>former</td>\n",
              "      <td>170</td>\n",
              "      <td>175</td>\n",
              "      <td>B-StatusEmploy</td>\n",
              "    </tr>\n",
              "    <tr>\n",
              "      <th>36</th>\n",
              "      <td>2</td>\n",
              "      <td>employee</td>\n",
              "      <td>177</td>\n",
              "      <td>184</td>\n",
              "      <td>I-StatusEmploy</td>\n",
              "    </tr>\n",
              "    <tr>\n",
              "      <th>37</th>\n",
              "      <td>2</td>\n",
              "      <td>of</td>\n",
              "      <td>186</td>\n",
              "      <td>187</td>\n",
              "      <td>O</td>\n",
              "    </tr>\n",
              "    <tr>\n",
              "      <th>38</th>\n",
              "      <td>2</td>\n",
              "      <td>the</td>\n",
              "      <td>189</td>\n",
              "      <td>191</td>\n",
              "      <td>O</td>\n",
              "    </tr>\n",
              "    <tr>\n",
              "      <th>39</th>\n",
              "      <td>2</td>\n",
              "      <td>state</td>\n",
              "      <td>193</td>\n",
              "      <td>197</td>\n",
              "      <td>O</td>\n",
              "    </tr>\n",
              "    <tr>\n",
              "      <th>40</th>\n",
              "      <td>2</td>\n",
              "      <td>lottery</td>\n",
              "      <td>199</td>\n",
              "      <td>205</td>\n",
              "      <td>O</td>\n",
              "    </tr>\n",
              "    <tr>\n",
              "      <th>41</th>\n",
              "      <td>2</td>\n",
              "      <td>.</td>\n",
              "      <td>206</td>\n",
              "      <td>206</td>\n",
              "      <td>O</td>\n",
              "    </tr>\n",
              "  </tbody>\n",
              "</table>\n",
              "</div>\n",
              "      <button class=\"colab-df-convert\" onclick=\"convertToInteractive('df-da803685-c53e-48a4-b2b3-a60f906087c6')\"\n",
              "              title=\"Convert this dataframe to an interactive table.\"\n",
              "              style=\"display:none;\">\n",
              "        \n",
              "  <svg xmlns=\"http://www.w3.org/2000/svg\" height=\"24px\"viewBox=\"0 0 24 24\"\n",
              "       width=\"24px\">\n",
              "    <path d=\"M0 0h24v24H0V0z\" fill=\"none\"/>\n",
              "    <path d=\"M18.56 5.44l.94 2.06.94-2.06 2.06-.94-2.06-.94-.94-2.06-.94 2.06-2.06.94zm-11 1L8.5 8.5l.94-2.06 2.06-.94-2.06-.94L8.5 2.5l-.94 2.06-2.06.94zm10 10l.94 2.06.94-2.06 2.06-.94-2.06-.94-.94-2.06-.94 2.06-2.06.94z\"/><path d=\"M17.41 7.96l-1.37-1.37c-.4-.4-.92-.59-1.43-.59-.52 0-1.04.2-1.43.59L10.3 9.45l-7.72 7.72c-.78.78-.78 2.05 0 2.83L4 21.41c.39.39.9.59 1.41.59.51 0 1.02-.2 1.41-.59l7.78-7.78 2.81-2.81c.8-.78.8-2.07 0-2.86zM5.41 20L4 18.59l7.72-7.72 1.47 1.35L5.41 20z\"/>\n",
              "  </svg>\n",
              "      </button>\n",
              "      \n",
              "  <style>\n",
              "    .colab-df-container {\n",
              "      display:flex;\n",
              "      flex-wrap:wrap;\n",
              "      gap: 12px;\n",
              "    }\n",
              "\n",
              "    .colab-df-convert {\n",
              "      background-color: #E8F0FE;\n",
              "      border: none;\n",
              "      border-radius: 50%;\n",
              "      cursor: pointer;\n",
              "      display: none;\n",
              "      fill: #1967D2;\n",
              "      height: 32px;\n",
              "      padding: 0 0 0 0;\n",
              "      width: 32px;\n",
              "    }\n",
              "\n",
              "    .colab-df-convert:hover {\n",
              "      background-color: #E2EBFA;\n",
              "      box-shadow: 0px 1px 2px rgba(60, 64, 67, 0.3), 0px 1px 3px 1px rgba(60, 64, 67, 0.15);\n",
              "      fill: #174EA6;\n",
              "    }\n",
              "\n",
              "    [theme=dark] .colab-df-convert {\n",
              "      background-color: #3B4455;\n",
              "      fill: #D2E3FC;\n",
              "    }\n",
              "\n",
              "    [theme=dark] .colab-df-convert:hover {\n",
              "      background-color: #434B5C;\n",
              "      box-shadow: 0px 1px 3px 1px rgba(0, 0, 0, 0.15);\n",
              "      filter: drop-shadow(0px 1px 2px rgba(0, 0, 0, 0.3));\n",
              "      fill: #FFFFFF;\n",
              "    }\n",
              "  </style>\n",
              "\n",
              "      <script>\n",
              "        const buttonEl =\n",
              "          document.querySelector('#df-da803685-c53e-48a4-b2b3-a60f906087c6 button.colab-df-convert');\n",
              "        buttonEl.style.display =\n",
              "          google.colab.kernel.accessAllowed ? 'block' : 'none';\n",
              "\n",
              "        async function convertToInteractive(key) {\n",
              "          const element = document.querySelector('#df-da803685-c53e-48a4-b2b3-a60f906087c6');\n",
              "          const dataTable =\n",
              "            await google.colab.kernel.invokeFunction('convertToInteractive',\n",
              "                                                     [key], {});\n",
              "          if (!dataTable) return;\n",
              "\n",
              "          const docLinkHtml = 'Like what you see? Visit the ' +\n",
              "            '<a target=\"_blank\" href=https://colab.research.google.com/notebooks/data_table.ipynb>data table notebook</a>'\n",
              "            + ' to learn more about interactive tables.';\n",
              "          element.innerHTML = '';\n",
              "          dataTable['output_type'] = 'display_data';\n",
              "          await google.colab.output.renderOutput(dataTable, element);\n",
              "          const docLink = document.createElement('div');\n",
              "          docLink.innerHTML = docLinkHtml;\n",
              "          element.appendChild(docLink);\n",
              "        }\n",
              "      </script>\n",
              "    </div>\n",
              "  </div>\n",
              "  "
            ]
          },
          "metadata": {},
          "execution_count": 81
        }
      ]
    },
    {
      "cell_type": "code",
      "source": [
        "from sparknlp_display import NerVisualizer\n",
        "\n",
        "visualiser = NerVisualizer()\n",
        "\n",
        "visualiser.display(result[0], label_col='ner_span', document_col='document', save_path=\"display_result.html\")"
      ],
      "metadata": {
        "colab": {
          "base_uri": "https://localhost:8080/",
          "height": 207
        },
        "id": "5Ml7tlqCDqMz",
        "outputId": "47cea545-7a53-4c49-a23f-8d330215e78c"
      },
      "execution_count": null,
      "outputs": [
        {
          "output_type": "display_data",
          "data": {
            "text/plain": [
              "<IPython.core.display.HTML object>"
            ],
            "text/html": [
              "\n",
              "<style>\n",
              "    @import url('https://fonts.googleapis.com/css2?family=Montserrat:wght@300;400;500;600;700&display=swap');\n",
              "    @import url('https://fonts.googleapis.com/css2?family=Vistol Regular:wght@300;400;500;600;700&display=swap');\n",
              "    \n",
              "    .spark-nlp-display-scroll-entities {\n",
              "        border: 1px solid #E7EDF0;\n",
              "        border-radius: 3px;\n",
              "        text-align: justify;\n",
              "        \n",
              "    }\n",
              "    .spark-nlp-display-scroll-entities span {  \n",
              "        font-size: 14px;\n",
              "        line-height: 24px;\n",
              "        color: #536B76;\n",
              "        font-family: 'Montserrat', sans-serif !important;\n",
              "    }\n",
              "    \n",
              "    .spark-nlp-display-entity-wrapper{\n",
              "    \n",
              "        display: inline-grid;\n",
              "        text-align: center;\n",
              "        border-radius: 4px;\n",
              "        margin: 0 2px 5px 2px;\n",
              "        padding: 1px\n",
              "    }\n",
              "    .spark-nlp-display-entity-name{\n",
              "        font-size: 14px;\n",
              "        line-height: 24px;\n",
              "        font-family: 'Montserrat', sans-serif !important;\n",
              "        \n",
              "        background: #f1f2f3;\n",
              "        border-width: medium;\n",
              "        text-align: center;\n",
              "        \n",
              "        font-weight: 400;\n",
              "        \n",
              "        border-radius: 5px;\n",
              "        padding: 2px 5px;\n",
              "        display: block;\n",
              "        margin: 3px 2px;\n",
              "    \n",
              "    }\n",
              "    .spark-nlp-display-entity-type{\n",
              "        font-size: 14px;\n",
              "        line-height: 24px;\n",
              "        color: #ffffff;\n",
              "        font-family: 'Montserrat', sans-serif !important;\n",
              "        \n",
              "        text-transform: uppercase;\n",
              "        \n",
              "        font-weight: 500;\n",
              "\n",
              "        display: block;\n",
              "        padding: 3px 5px;\n",
              "    }\n",
              "    \n",
              "    .spark-nlp-display-entity-resolution{\n",
              "        font-size: 14px;\n",
              "        line-height: 24px;\n",
              "        color: #ffffff;\n",
              "        font-family: 'Vistol Regular', sans-serif !important;\n",
              "        \n",
              "        text-transform: uppercase;\n",
              "        \n",
              "        font-weight: 500;\n",
              "\n",
              "        display: block;\n",
              "        padding: 3px 5px;\n",
              "    }\n",
              "    \n",
              "    .spark-nlp-display-others{\n",
              "        font-size: 14px;\n",
              "        line-height: 24px;\n",
              "        font-family: 'Montserrat', sans-serif !important;\n",
              "        \n",
              "        font-weight: 400;\n",
              "    }\n",
              "\n",
              "</style>\n",
              " <span class=\"spark-nlp-display-others\" style=\"background-color: white\">SOCIAL HISTORY:  The patient </span><span class=\"spark-nlp-display-entity-wrapper\" style=\"background-color: #626306\"><span class=\"spark-nlp-display-entity-name\">quit </span><span class=\"spark-nlp-display-entity-type\">StatusTime</span></span><span class=\"spark-nlp-display-others\" style=\"background-color: white\"> smoking cigarettes 15 years<br>ago.  She has a history of heavy alcohol consumption in the<br>past, but none for the past 13 years.  She is </span><span class=\"spark-nlp-display-entity-wrapper\" style=\"background-color: #A13962\"><span class=\"spark-nlp-display-entity-name\">a </span><span class=\"spark-nlp-display-entity-type\">StatusEmploy</span></span><span class=\"spark-nlp-display-others\" style=\"background-color: white\"> </span><span class=\"spark-nlp-display-entity-wrapper\" style=\"background-color: #A13962\"><span class=\"spark-nlp-display-entity-name\">former<br>employee </span><span class=\"spark-nlp-display-entity-type\">StatusEmploy</span></span><span class=\"spark-nlp-display-others\" style=\"background-color: white\"> of the state lottery.</span></div>"
            ]
          },
          "metadata": {}
        }
      ]
    },
    {
      "cell_type": "code",
      "source": [
        ""
      ],
      "metadata": {
        "id": "AIWqtqyb5RFU"
      },
      "execution_count": null,
      "outputs": []
    }
  ]
}