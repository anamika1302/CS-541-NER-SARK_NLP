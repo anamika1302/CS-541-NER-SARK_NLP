{
  "nbformat": 4,
  "nbformat_minor": 0,
  "metadata": {
    "colab": {
      "name": "NER-Model2.ipynb",
      "provenance": [],
      "machine_shape": "hm",
      "collapsed_sections": [],
      "authorship_tag": "ABX9TyO94aLPH290iiOhPPd/vyZw",
      "include_colab_link": true
    },
    "kernelspec": {
      "name": "python3",
      "display_name": "Python 3"
    },
    "language_info": {
      "name": "python"
    },
    "accelerator": "GPU"
  },
  "cells": [
    {
      "cell_type": "markdown",
      "metadata": {
        "id": "view-in-github",
        "colab_type": "text"
      },
      "source": [
        "<a href=\"https://colab.research.google.com/github/anamika1302/CS-541-NER-SARK_NLP/blob/main/NER_Model2.ipynb\" target=\"_parent\"><img src=\"https://colab.research.google.com/assets/colab-badge.svg\" alt=\"Open In Colab\"/></a>"
      ]
    },
    {
      "cell_type": "markdown",
      "source": [
        "# **Training NER MODEL 2 on enitities :**\n",
        "# **\"Alcohol\",\"Drug\",\"Tobacco\",\"LivingStatus\",\"Employment\" **\n"
      ],
      "metadata": {
        "id": "tnRJF4jaYCLg"
      }
    },
    {
      "cell_type": "code",
      "source": [
        "import json\n",
        "import os\n",
        "\n",
        "from google.colab import files\n",
        "\n",
        "if 'spark_jsl.json' not in os.listdir():\n",
        "  license_keys = files.upload()\n",
        "  os.rename(list(license_keys.keys())[0], 'spark_jsl.json')\n",
        "\n",
        "with open('spark_jsl.json') as f:\n",
        "    license_keys = json.load(f)\n",
        "\n",
        "# Defining license key-value pairs as local variables\n",
        "locals().update(license_keys)\n",
        "os.environ.update(license_keys)"
      ],
      "metadata": {
        "id": "MKPwLBkPZ3xf"
      },
      "execution_count": null,
      "outputs": []
    },
    {
      "cell_type": "code",
      "source": [
        "from google.colab import drive\n",
        "drive.mount('/content/drive')"
      ],
      "metadata": {
        "colab": {
          "base_uri": "https://localhost:8080/"
        },
        "id": "2Qfh8ADOaU2k",
        "outputId": "e45a2b12-9e3a-4f92-c431-54495f0ea72a"
      },
      "execution_count": null,
      "outputs": [
        {
          "output_type": "stream",
          "name": "stdout",
          "text": [
            "Mounted at /content/drive\n"
          ]
        }
      ]
    },
    {
      "cell_type": "code",
      "source": [
        "# Installing pyspark and spark-nlp\n",
        "! pip install --upgrade -q pyspark==3.1.2 spark-nlp==$PUBLIC_VERSION\n",
        "\n",
        "# Installing Spark NLP Display Library for visualization\n",
        "! pip install -q spark-nlp-display\n",
        "\n"
      ],
      "metadata": {
        "colab": {
          "base_uri": "https://localhost:8080/"
        },
        "id": "K1EoJEKpYFG9",
        "outputId": "1ae42452-72d2-42c9-8efd-feaa27c7ad76"
      },
      "execution_count": null,
      "outputs": [
        {
          "output_type": "stream",
          "name": "stdout",
          "text": [
            "\u001b[K     |████████████████████████████████| 212.4 MB 74 kB/s \n",
            "\u001b[K     |████████████████████████████████| 142 kB 22.8 MB/s \n",
            "\u001b[K     |████████████████████████████████| 198 kB 61.1 MB/s \n",
            "\u001b[?25h  Building wheel for pyspark (setup.py) ... \u001b[?25l\u001b[?25hdone\n",
            "\u001b[K     |████████████████████████████████| 95 kB 2.6 MB/s \n",
            "\u001b[K     |████████████████████████████████| 66 kB 4.6 MB/s \n",
            "\u001b[?25h"
          ]
        }
      ]
    },
    {
      "cell_type": "code",
      "source": [
        "# Installing pyspark and spark-nlp\n",
        "! pip install --upgrade -q pyspark==3.1.2 spark-nlp==$PUBLIC_VERSION\n",
        "\n",
        "# Installing Spark NLP Healthcare\n",
        "! pip install --upgrade -q spark-nlp-jsl==$JSL_VERSION  --extra-index-url https://pypi.johnsnowlabs.com/$SECRET\n",
        "\n",
        "# Installing Spark NLP Display Library for visualization\n",
        "! pip install -q spark-nlp-display"
      ],
      "metadata": {
        "colab": {
          "base_uri": "https://localhost:8080/"
        },
        "id": "S-pCva5zNzJa",
        "outputId": "81e91fe6-0bb9-4aaa-f813-a1e0a79bc7ad"
      },
      "execution_count": null,
      "outputs": [
        {
          "output_type": "stream",
          "name": "stdout",
          "text": [
            "\u001b[?25l\r\u001b[K     |█▊                              | 10 kB 32.1 MB/s eta 0:00:01\r\u001b[K     |███▌                            | 20 kB 9.3 MB/s eta 0:00:01\r\u001b[K     |█████▎                          | 30 kB 13.0 MB/s eta 0:00:01\r\u001b[K     |███████                         | 40 kB 2.4 MB/s eta 0:00:01\r\u001b[K     |████████▊                       | 51 kB 2.4 MB/s eta 0:00:01\r\u001b[K     |██████████▌                     | 61 kB 2.9 MB/s eta 0:00:01\r\u001b[K     |████████████▏                   | 71 kB 3.1 MB/s eta 0:00:01\r\u001b[K     |██████████████                  | 81 kB 3.0 MB/s eta 0:00:01\r\u001b[K     |███████████████▊                | 92 kB 3.4 MB/s eta 0:00:01\r\u001b[K     |█████████████████▍              | 102 kB 2.8 MB/s eta 0:00:01\r\u001b[K     |███████████████████▏            | 112 kB 2.8 MB/s eta 0:00:01\r\u001b[K     |█████████████████████           | 122 kB 2.8 MB/s eta 0:00:01\r\u001b[K     |██████████████████████▋         | 133 kB 2.8 MB/s eta 0:00:01\r\u001b[K     |████████████████████████▍       | 143 kB 2.8 MB/s eta 0:00:01\r\u001b[K     |██████████████████████████▏     | 153 kB 2.8 MB/s eta 0:00:01\r\u001b[K     |███████████████████████████▉    | 163 kB 2.8 MB/s eta 0:00:01\r\u001b[K     |█████████████████████████████▋  | 174 kB 2.8 MB/s eta 0:00:01\r\u001b[K     |███████████████████████████████▍| 184 kB 2.8 MB/s eta 0:00:01\r\u001b[K     |████████████████████████████████| 188 kB 2.8 MB/s \n",
            "\u001b[?25h"
          ]
        }
      ]
    },
    {
      "cell_type": "code",
      "source": [
        "import sparknlp\n",
        "import os\n",
        "from sparknlp.training import CoNLL\n",
        "spark = sparknlp.start(gpu = True) # for GPU training >> sparknlp.start(gpu = True)\n",
        "\n",
        "from sparknlp.base import *\n",
        "from sparknlp.annotator import *\n",
        "\n",
        "print(\"Spark NLP version\", sparknlp.version())\n",
        "\n",
        "print(\"Apache Spark version:\", spark.version)\n",
        "\n",
        "spark\n",
        "\n"
      ],
      "metadata": {
        "id": "7Lc1eheFYNXA",
        "colab": {
          "base_uri": "https://localhost:8080/",
          "height": 254
        },
        "outputId": "7ae75fc2-a900-488f-8178-77a270b94753"
      },
      "execution_count": null,
      "outputs": [
        {
          "output_type": "stream",
          "name": "stdout",
          "text": [
            "Spark NLP version 3.4.2\n",
            "Apache Spark version: 3.1.2\n"
          ]
        },
        {
          "output_type": "execute_result",
          "data": {
            "text/plain": [
              "<pyspark.sql.session.SparkSession at 0x7f74d2e75190>"
            ],
            "text/html": [
              "\n",
              "            <div>\n",
              "                <p><b>SparkSession - in-memory</b></p>\n",
              "                \n",
              "        <div>\n",
              "            <p><b>SparkContext</b></p>\n",
              "\n",
              "            <p><a href=\"http://cefba206d396:4040\">Spark UI</a></p>\n",
              "\n",
              "            <dl>\n",
              "              <dt>Version</dt>\n",
              "                <dd><code>v3.1.2</code></dd>\n",
              "              <dt>Master</dt>\n",
              "                <dd><code>local[*]</code></dd>\n",
              "              <dt>AppName</dt>\n",
              "                <dd><code>Spark NLP</code></dd>\n",
              "            </dl>\n",
              "        </div>\n",
              "        \n",
              "            </div>\n",
              "        "
            ]
          },
          "metadata": {},
          "execution_count": 11
        }
      ]
    },
    {
      "cell_type": "code",
      "source": [
        "\n",
        "with open('/content/drive/MyDrive/umass_ner/NER_MODEL_2/train_ner_model2.conll') as f:\n",
        "    train_txt =f.read()\n",
        "\n",
        "print (train_txt[:500])\n",
        "\n"
      ],
      "metadata": {
        "colab": {
          "base_uri": "https://localhost:8080/"
        },
        "id": "15uA1IJPYXFL",
        "outputId": "034e8cd1-1b59-47c4-bb98-ec3afaf1dd2a"
      },
      "execution_count": null,
      "outputs": [
        {
          "output_type": "stream",
          "name": "stdout",
          "text": [
            "-DOCSTART- -X- -X- O\n",
            "\n",
            "Social NN NN O\n",
            "History NN NN O\n",
            ": NN NN O\n",
            "Tob NNP NNP B-Tobacco\n",
            "(-), NN NN O\n",
            "EtOH NNP NNP B-Alcohol\n",
            "- NN NN O\n",
            "a NN NN O\n",
            "glass NN NN O\n",
            "of NN NN O\n",
            "wine NN NN O\n",
            "1-2x/month NN NN O\n",
            ", NN NN O\n",
            "IVDU NNP NNP B-Drug\n",
            "(-), NN NN O\n",
            "lives NNP NNP B-LivingStatus\n",
            "with NN NN O\n",
            "her NN NN O\n",
            "husband NN NN O\n",
            "and NN NN O\n",
            "9yr NN NN O\n",
            "old NN NN O\n",
            "daughter NN NN O\n",
            ", NN NN O\n",
            "does NN NN O\n",
            "not NN NN O\n",
            "work NNP NNP B-Employment\n",
            "outside NN NN O\n",
            "of NN NN O\n",
            "the NN NN O\n",
            "home NN NN O\n",
            ". NN NN O\n",
            "\n",
            "SOCIAL NN NN\n"
          ]
        }
      ]
    },
    {
      "cell_type": "code",
      "source": [
        "#Loading training dataset\n",
        "\n",
        "training_data = CoNLL().readDataset(spark, '/content/drive/MyDrive/umass_ner/NER_MODEL_2/train_ner_model2.conll')\n",
        "\n",
        "training_data.show(3)\n",
        "\n"
      ],
      "metadata": {
        "colab": {
          "base_uri": "https://localhost:8080/"
        },
        "id": "-hKBLPynfgVw",
        "outputId": "d0aaf60e-990a-4a5e-ba77-f77b02840904"
      },
      "execution_count": null,
      "outputs": [
        {
          "output_type": "stream",
          "name": "stdout",
          "text": [
            "+--------------------+--------------------+--------------------+--------------------+--------------------+--------------------+\n",
            "|                text|            document|            sentence|               token|                 pos|               label|\n",
            "+--------------------+--------------------+--------------------+--------------------+--------------------+--------------------+\n",
            "|Social History : ...|[{document, 0, 15...|[{document, 0, 15...|[{token, 0, 5, So...|[{pos, 0, 5, NN, ...|[{named_entity, 0...|\n",
            "|SOCIAL HISTORY : ...|[{document, 0, 14...|[{document, 0, 14...|[{token, 0, 5, SO...|[{pos, 0, 5, NN, ...|[{named_entity, 0...|\n",
            "|Social History : ...|[{document, 0, 12...|[{document, 0, 12...|[{token, 0, 5, So...|[{pos, 0, 5, NN, ...|[{named_entity, 0...|\n",
            "+--------------------+--------------------+--------------------+--------------------+--------------------+--------------------+\n",
            "only showing top 3 rows\n",
            "\n"
          ]
        }
      ]
    },
    {
      "cell_type": "code",
      "source": [
        "training_data.count()"
      ],
      "metadata": {
        "colab": {
          "base_uri": "https://localhost:8080/"
        },
        "id": "p3DXDDBgYp5m",
        "outputId": "b838b5f8-0fa8-475e-9cff-6df1794d2b1e"
      },
      "execution_count": null,
      "outputs": [
        {
          "output_type": "execute_result",
          "data": {
            "text/plain": [
              "1316"
            ]
          },
          "metadata": {},
          "execution_count": 16
        }
      ]
    },
    {
      "cell_type": "code",
      "source": [
        "import pyspark.sql.functions as F\n",
        "\n",
        "training_data.select(F.explode(F.arrays_zip('token.result', 'pos.result',  'label.result')).alias(\"cols\")) \\\n",
        ".select(F.expr(\"cols['0']\").alias(\"token\"),\n",
        "        F.expr(\"cols['1']\").alias(\"pos\"),\n",
        "        F.expr(\"cols['2']\").alias(\"ner_label\")).limit(100).show()"
      ],
      "metadata": {
        "colab": {
          "base_uri": "https://localhost:8080/"
        },
        "id": "6LDvgrXmYuV0",
        "outputId": "520fefc2-9eca-4a78-e81d-5d67955e1e21"
      },
      "execution_count": null,
      "outputs": [
        {
          "output_type": "stream",
          "name": "stdout",
          "text": [
            "+----------+---+--------------+\n",
            "|     token|pos|     ner_label|\n",
            "+----------+---+--------------+\n",
            "|    Social| NN|             O|\n",
            "|   History| NN|             O|\n",
            "|         :| NN|             O|\n",
            "|       Tob|NNP|     B-Tobacco|\n",
            "|      (-),| NN|             O|\n",
            "|      EtOH|NNP|     B-Alcohol|\n",
            "|         -| NN|             O|\n",
            "|         a| NN|             O|\n",
            "|     glass| NN|             O|\n",
            "|        of| NN|             O|\n",
            "|      wine| NN|             O|\n",
            "|1-2x/month| NN|             O|\n",
            "|         ,| NN|             O|\n",
            "|      IVDU|NNP|        B-Drug|\n",
            "|      (-),| NN|             O|\n",
            "|     lives|NNP|B-LivingStatus|\n",
            "|      with| NN|             O|\n",
            "|       her| NN|             O|\n",
            "|   husband| NN|             O|\n",
            "|       and| NN|             O|\n",
            "+----------+---+--------------+\n",
            "only showing top 20 rows\n",
            "\n"
          ]
        }
      ]
    },
    {
      "cell_type": "code",
      "source": [
        "training_data.select(F.explode(F.arrays_zip('token.result','label.result')).alias(\"cols\")) \\\n",
        ".select(F.expr(\"cols['0']\").alias(\"token\"),\n",
        "        F.expr(\"cols['1']\").alias(\"ground_truth\")).groupBy('ground_truth').count().orderBy('count', ascending=False).show(100,truncate=False)"
      ],
      "metadata": {
        "colab": {
          "base_uri": "https://localhost:8080/"
        },
        "id": "2baSrIu4Yw5J",
        "outputId": "b02581cf-4e87-44f1-8eb8-321ddbba664f"
      },
      "execution_count": null,
      "outputs": [
        {
          "output_type": "stream",
          "name": "stdout",
          "text": [
            "+--------------+-----+\n",
            "|ground_truth  |count|\n",
            "+--------------+-----+\n",
            "|O             |62105|\n",
            "|B-Alcohol     |1293 |\n",
            "|B-Tobacco     |1227 |\n",
            "|B-Drug        |986  |\n",
            "|B-Employment  |981  |\n",
            "|B-LivingStatus|959  |\n",
            "|I-Drug        |930  |\n",
            "|I-Employment  |723  |\n",
            "|I-Alcohol     |444  |\n",
            "|I-Tobacco     |402  |\n",
            "|I-LivingStatus|110  |\n",
            "+--------------+-----+\n",
            "\n"
          ]
        }
      ]
    },
    {
      "cell_type": "code",
      "source": [
        "test_data = CoNLL().readDataset(spark, '/content/drive/MyDrive/umass_ner/NER_MODEL_2/testF_ner_model2.conll')\n",
        "\n",
        "test_data.select(F.explode(F.arrays_zip('token.result','label.result')).alias(\"cols\")) \\\n",
        ".select(F.expr(\"cols['0']\").alias(\"token\"),\n",
        "        F.expr(\"cols['1']\").alias(\"ground_truth\")).groupBy('ground_truth').count().orderBy('count', ascending=False).show(100,truncate=False)\n"
      ],
      "metadata": {
        "colab": {
          "base_uri": "https://localhost:8080/"
        },
        "id": "0mlN7j3aY2GR",
        "outputId": "acac7eb4-c49f-4fcf-9012-c77e144c6d24"
      },
      "execution_count": null,
      "outputs": [
        {
          "output_type": "stream",
          "name": "stdout",
          "text": [
            "+--------------+-----+\n",
            "|ground_truth  |count|\n",
            "+--------------+-----+\n",
            "|O             |5954 |\n",
            "|B-Alcohol     |162  |\n",
            "|B-Tobacco     |154  |\n",
            "|B-LivingStatus|116  |\n",
            "|I-Employment  |103  |\n",
            "|B-Drug        |101  |\n",
            "|I-Drug        |98   |\n",
            "|B-Employment  |90   |\n",
            "|I-Tobacco     |59   |\n",
            "|I-Alcohol     |53   |\n",
            "|I-LivingStatus|3    |\n",
            "+--------------+-----+\n",
            "\n"
          ]
        }
      ]
    },
    {
      "cell_type": "code",
      "source": [
        "import pyspark.sql.functions as F\n",
        "\n",
        "test_data.select(F.explode(F.arrays_zip('token.result', 'pos.result',  'label.result')).alias(\"cols\")) \\\n",
        ".select(F.expr(\"cols['0']\").alias(\"token\"),\n",
        "        F.expr(\"cols['1']\").alias(\"pos\"),\n",
        "        F.expr(\"cols['2']\").alias(\"ner_label\")).limit(100).show()"
      ],
      "metadata": {
        "id": "mfNZl_xDy1xh",
        "colab": {
          "base_uri": "https://localhost:8080/"
        },
        "outputId": "a5489acf-4e81-4e67-ed66-56644f2eb41c"
      },
      "execution_count": null,
      "outputs": [
        {
          "output_type": "stream",
          "name": "stdout",
          "text": [
            "+---------+---+--------------+\n",
            "|    token|pos|     ner_label|\n",
            "+---------+---+--------------+\n",
            "|   SOCIAL| NN|             O|\n",
            "|  HISTORY| NN|             O|\n",
            "|        :| NN|             O|\n",
            "|    Lives|NNP|B-LivingStatus|\n",
            "|     with| NN|             O|\n",
            "|      his| NN|             O|\n",
            "|   caring| NN|             O|\n",
            "|      and| NN|             O|\n",
            "|  devoted| NN|             O|\n",
            "|  parents| NN|             O|\n",
            "|       at| NN|             O|\n",
            "|     home| NN|             O|\n",
            "|        .| NN|             O|\n",
            "|   Enjoys| NN|             O|\n",
            "|   movies| NN|             O|\n",
            "|      and| NN|             O|\n",
            "|computers| NN|             O|\n",
            "|        .| NN|             O|\n",
            "|       No| NN|             O|\n",
            "|  history| NN|             O|\n",
            "+---------+---+--------------+\n",
            "only showing top 20 rows\n",
            "\n"
          ]
        }
      ]
    },
    {
      "cell_type": "code",
      "source": [
        "bert_embedding = BertEmbeddings.pretrained('bert_base_cased', 'en')\\\n",
        "   .setInputCols([\"sentence\",'token'])\\\n",
        "   .setOutputCol(\"bert_embeddings\")\\\n",
        "   .setCaseSensitive(True)"
      ],
      "metadata": {
        "id": "Mo7a3PT50n0F",
        "colab": {
          "base_uri": "https://localhost:8080/"
        },
        "outputId": "bb2e5640-0cbc-4369-b20b-ef5bbee0bca4"
      },
      "execution_count": null,
      "outputs": [
        {
          "output_type": "stream",
          "name": "stdout",
          "text": [
            "bert_base_cased download started this may take some time.\n",
            "Approximate size to download 389.1 MB\n",
            "[OK!]\n"
          ]
        }
      ]
    },
    {
      "cell_type": "code",
      "source": [
        "bert_embedding.transform(test_data).write.parquet('/content/drive/MyDrive/umass_ner/NER_MODEL_2/testF_data_ner_model2_bert_embedding.parquet')"
      ],
      "metadata": {
        "id": "bqcVs5CjZQhi"
      },
      "execution_count": null,
      "outputs": []
    },
    {
      "cell_type": "code",
      "source": [
        "# !rm -r /content/drive/MyDrive/umass_ner/NER_MODEL_1/test_data_bert_embedding.parquet"
      ],
      "metadata": {
        "id": "CbVTZ0tD_IQq"
      },
      "execution_count": null,
      "outputs": []
    },
    {
      "cell_type": "code",
      "source": [
        "# !mkdir /root/ner_logs_model1"
      ],
      "metadata": {
        "id": "GZQuSE7OHzBz"
      },
      "execution_count": null,
      "outputs": []
    },
    {
      "cell_type": "code",
      "source": [
        "# !rm -r /root/ner_logs_model1/"
      ],
      "metadata": {
        "id": "WrmqPxJuKipo"
      },
      "execution_count": null,
      "outputs": []
    },
    {
      "cell_type": "code",
      "source": [
        "nerTagger = NerDLApproach()\\\n",
        "      .setInputCols([\"sentence\", \"token\", \"bert_embeddings\"])\\\n",
        "      .setLabelColumn(\"label\")\\\n",
        "      .setOutputCol(\"ner\")\\\n",
        "      .setMaxEpochs(20)\\\n",
        "      .setLr(0.0002)\\\n",
        "      .setBatchSize(16)\\\n",
        "      .setRandomSeed(0)\\\n",
        "      .setVerbose(1)\\\n",
        "      .setEvaluationLogExtended(True) \\\n",
        "      .setEnableOutputLogs(True)\\\n",
        "      .setIncludeConfidence(True)\\\n",
        "      .setUseBestModel(True)\\\n",
        "      .setTestDataset('/content/drive/MyDrive/umass_ner/NER_MODEL_2/testF_data_ner_model2_bert_embedding.parquet')\\\n",
        "      .setOutputLogsPath('./ner_dl_logs_model2')# if not set, logs will be written to ~/annotator_logs\n",
        " #    .setGraphFolder('graphs') >> put your graph file (pb) under this folder if you are using a custom graph generated thru 4.1 NerDL-Graph.ipynb notebook\n",
        " #    .setEnableMemoryOptimizer() >> if you have a limited memory and a large conll file, you can set this True to train batch by batch \n",
        "    \n",
        "# do hyperparameter by tuning the params above (max epoch, LR, dropout etc.) to get better results\n",
        "ner_pipeline = Pipeline(stages=[\n",
        "      bert_embedding,\n",
        "      nerTagger\n",
        " ])\n",
        "\n"
      ],
      "metadata": {
        "id": "D83P5kd3ZCCq"
      },
      "execution_count": null,
      "outputs": []
    },
    {
      "cell_type": "code",
      "source": [
        "ner_model = ner_pipeline.fit(training_data)"
      ],
      "metadata": {
        "id": "KOUbUvsyZG26"
      },
      "execution_count": null,
      "outputs": []
    },
    {
      "cell_type": "code",
      "source": [
        "!cd /content/ner_dl_logs_model2 && ls -lt"
      ],
      "metadata": {
        "colab": {
          "base_uri": "https://localhost:8080/"
        },
        "id": "bu0WDE21ZJuF",
        "outputId": "0482fc47-36ed-4cd6-8431-5622257b1874"
      },
      "execution_count": null,
      "outputs": [
        {
          "output_type": "stream",
          "name": "stdout",
          "text": [
            "total 24\n",
            "-rw-r--r-- 1 root root 17919 Apr 27 20:09 NerDLApproach_7a0ac9f52b9b.log\n"
          ]
        }
      ]
    },
    {
      "cell_type": "code",
      "source": [
        "!cat /content/ner_dl_logs_model2/NerDLApproach_7a0ac9f52b9b.log"
      ],
      "metadata": {
        "id": "W5aop-1ndH8Q",
        "colab": {
          "base_uri": "https://localhost:8080/"
        },
        "outputId": "8b3305a7-1599-4994-cd86-8bafbd3fba55"
      },
      "execution_count": null,
      "outputs": [
        {
          "output_type": "stream",
          "name": "stdout",
          "text": [
            "Name of the selected graph: ner-dl/blstm_38_768_128_200.pb\n",
            "Training started - total epochs: 20 - lr: 2.0E-4 - batch size: 16 - labels: 11 - chars: 89 - training examples: 1316\n",
            "\n",
            "\n",
            "Epoch 1/20 started, lr: 2.0E-4, dataset size: 1316\n",
            "\n",
            "\n",
            "Epoch 1/20 - 28.16s - loss: 3267.386 - batches: 85\n",
            "Quality on test dataset: \n",
            "time to finish evaluation: 1.07s\n",
            "label\t tp\t fp\t fn\t prec\t rec\t f1\n",
            "B-Drug\t 5\t 2\t 44\t 0.71428573\t 0.10204082\t 0.17857143\n",
            "I-Alcohol\t 0\t 0\t 36\t 0.0\t 0.0\t 0.0\n",
            "B-Tobacco\t 17\t 8\t 50\t 0.68\t 0.25373134\t 0.36956522\n",
            "B-Alcohol\t 16\t 3\t 58\t 0.84210527\t 0.21621622\t 0.34408605\n",
            "I-LivingStatus\t 0\t 0\t 1\t 0.0\t 0.0\t 0.0\n",
            "B-LivingStatus\t 14\t 3\t 39\t 0.8235294\t 0.26415095\t 0.4\n",
            "I-Tobacco\t 0\t 0\t 27\t 0.0\t 0.0\t 0.0\n",
            "B-Employment\t 0\t 0\t 44\t 0.0\t 0.0\t 0.0\n",
            "I-Drug\t 15\t 4\t 38\t 0.7894737\t 0.28301886\t 0.41666666\n",
            "I-Employment\t 0\t 0\t 51\t 0.0\t 0.0\t 0.0\n",
            "tp: 67 fp: 20 fn: 388 labels: 10\n",
            "Macro-average\t prec: 0.38493943, rec: 0.11191581, f1: 0.17341393\n",
            "Micro-average\t prec: 0.77011496, rec: 0.14725275, f1: 0.24723248\n",
            "\n",
            "\n",
            "Epoch 2/20 started, lr: 1.9900496E-4, dataset size: 1316\n",
            "\n",
            "\n",
            "Epoch 2/20 - 29.21s - loss: 1603.8988 - batches: 85\n",
            "Quality on test dataset: \n",
            "time to finish evaluation: 0.87s\n",
            "label\t tp\t fp\t fn\t prec\t rec\t f1\n",
            "B-Drug\t 26\t 11\t 23\t 0.7027027\t 0.53061223\t 0.6046511\n",
            "I-Alcohol\t 2\t 2\t 34\t 0.5\t 0.055555556\t 0.099999994\n",
            "B-Tobacco\t 45\t 24\t 22\t 0.65217394\t 0.67164177\t 0.66176474\n",
            "B-Alcohol\t 44\t 16\t 30\t 0.73333335\t 0.5945946\t 0.6567164\n",
            "I-LivingStatus\t 0\t 0\t 1\t 0.0\t 0.0\t 0.0\n",
            "B-LivingStatus\t 45\t 14\t 8\t 0.7627119\t 0.8490566\t 0.80357146\n",
            "I-Tobacco\t 0\t 0\t 27\t 0.0\t 0.0\t 0.0\n",
            "B-Employment\t 11\t 21\t 33\t 0.34375\t 0.25\t 0.28947368\n",
            "I-Drug\t 29\t 8\t 24\t 0.7837838\t 0.5471698\t 0.64444447\n",
            "I-Employment\t 1\t 0\t 50\t 1.0\t 0.019607844\t 0.038461536\n",
            "tp: 203 fp: 96 fn: 252 labels: 10\n",
            "Macro-average\t prec: 0.5478456, rec: 0.35182384, f1: 0.4284799\n",
            "Micro-average\t prec: 0.67892975, rec: 0.44615385, f1: 0.5384615\n",
            "\n",
            "\n",
            "Epoch 3/20 started, lr: 1.980198E-4, dataset size: 1316\n",
            "\n",
            "\n",
            "Epoch 3/20 - 28.87s - loss: 1240.2367 - batches: 85\n",
            "Quality on test dataset: \n",
            "time to finish evaluation: 0.69s\n",
            "label\t tp\t fp\t fn\t prec\t rec\t f1\n",
            "B-Drug\t 26\t 7\t 23\t 0.7878788\t 0.53061223\t 0.63414633\n",
            "I-Alcohol\t 3\t 0\t 33\t 1.0\t 0.083333336\t 0.15384616\n",
            "B-Tobacco\t 44\t 25\t 23\t 0.6376812\t 0.6567164\t 0.64705884\n",
            "B-Alcohol\t 50\t 26\t 24\t 0.65789473\t 0.6756757\t 0.6666666\n",
            "I-LivingStatus\t 0\t 0\t 1\t 0.0\t 0.0\t 0.0\n",
            "B-LivingStatus\t 44\t 11\t 9\t 0.8\t 0.8301887\t 0.8148148\n",
            "I-Tobacco\t 3\t 0\t 24\t 1.0\t 0.11111111\t 0.19999999\n",
            "B-Employment\t 13\t 17\t 31\t 0.43333334\t 0.29545453\t 0.35135132\n",
            "I-Drug\t 34\t 17\t 19\t 0.6666667\t 0.6415094\t 0.6538462\n",
            "I-Employment\t 7\t 2\t 44\t 0.7777778\t 0.13725491\t 0.23333335\n",
            "tp: 224 fp: 105 fn: 231 labels: 10\n",
            "Macro-average\t prec: 0.6761232, rec: 0.39618567, f1: 0.49961406\n",
            "Micro-average\t prec: 0.68085104, rec: 0.4923077, f1: 0.57142854\n",
            "\n",
            "\n",
            "Epoch 4/20 started, lr: 1.9704433E-4, dataset size: 1316\n",
            "\n",
            "\n",
            "Epoch 4/20 - 28.18s - loss: 1060.1084 - batches: 85\n",
            "Quality on test dataset: \n",
            "time to finish evaluation: 0.81s\n",
            "label\t tp\t fp\t fn\t prec\t rec\t f1\n",
            "B-Drug\t 34\t 12\t 15\t 0.73913044\t 0.6938776\t 0.7157895\n",
            "I-Alcohol\t 12\t 0\t 24\t 1.0\t 0.33333334\t 0.5\n",
            "B-Tobacco\t 48\t 31\t 19\t 0.6075949\t 0.7164179\t 0.6575343\n",
            "B-Alcohol\t 50\t 27\t 24\t 0.64935064\t 0.6756757\t 0.6622517\n",
            "I-LivingStatus\t 0\t 0\t 1\t 0.0\t 0.0\t 0.0\n",
            "B-LivingStatus\t 42\t 9\t 11\t 0.8235294\t 0.7924528\t 0.8076923\n",
            "I-Tobacco\t 8\t 2\t 19\t 0.8\t 0.2962963\t 0.43243244\n",
            "B-Employment\t 24\t 24\t 20\t 0.5\t 0.54545456\t 0.5217392\n",
            "I-Drug\t 28\t 7\t 25\t 0.8\t 0.5283019\t 0.6363636\n",
            "I-Employment\t 13\t 5\t 38\t 0.7222222\t 0.25490198\t 0.37681162\n",
            "tp: 259 fp: 117 fn: 196 labels: 10\n",
            "Macro-average\t prec: 0.6641828, rec: 0.4836712, f1: 0.5597334\n",
            "Micro-average\t prec: 0.6888298, rec: 0.5692308, f1: 0.6233454\n",
            "\n",
            "\n",
            "Epoch 5/20 started, lr: 1.9607843E-4, dataset size: 1316\n",
            "\n",
            "\n",
            "Epoch 5/20 - 27.66s - loss: 950.1147 - batches: 85\n",
            "Quality on test dataset: \n",
            "time to finish evaluation: 0.61s\n",
            "label\t tp\t fp\t fn\t prec\t rec\t f1\n",
            "B-Drug\t 30\t 7\t 19\t 0.8108108\t 0.6122449\t 0.69767445\n",
            "I-Alcohol\t 13\t 0\t 23\t 1.0\t 0.3611111\t 0.53061223\n",
            "B-Tobacco\t 47\t 25\t 20\t 0.6527778\t 0.70149255\t 0.67625904\n",
            "B-Alcohol\t 51\t 25\t 23\t 0.67105263\t 0.6891892\t 0.67999995\n",
            "I-LivingStatus\t 0\t 0\t 1\t 0.0\t 0.0\t 0.0\n",
            "B-LivingStatus\t 45\t 9\t 8\t 0.8333333\t 0.8490566\t 0.84112144\n",
            "I-Tobacco\t 7\t 1\t 20\t 0.875\t 0.25925925\t 0.4\n",
            "B-Employment\t 20\t 21\t 24\t 0.4878049\t 0.45454547\t 0.47058824\n",
            "I-Drug\t 37\t 13\t 16\t 0.74\t 0.6981132\t 0.7184466\n",
            "I-Employment\t 15\t 5\t 36\t 0.75\t 0.29411766\t 0.4225352\n",
            "tp: 265 fp: 106 fn: 190 labels: 10\n",
            "Macro-average\t prec: 0.682078, rec: 0.491913, f1: 0.5715939\n",
            "Micro-average\t prec: 0.71428573, rec: 0.5824176, f1: 0.6416465\n",
            "\n",
            "\n",
            "Epoch 6/20 started, lr: 1.9512195E-4, dataset size: 1316\n",
            "\n",
            "\n",
            "Epoch 6/20 - 27.66s - loss: 871.7674 - batches: 85\n",
            "Quality on test dataset: \n",
            "time to finish evaluation: 0.47s\n",
            "label\t tp\t fp\t fn\t prec\t rec\t f1\n",
            "B-Drug\t 34\t 10\t 15\t 0.77272725\t 0.6938776\t 0.7311828\n",
            "I-Alcohol\t 17\t 1\t 19\t 0.9444444\t 0.4722222\t 0.6296296\n",
            "B-Tobacco\t 49\t 25\t 18\t 0.6621622\t 0.73134327\t 0.69503546\n",
            "B-Alcohol\t 51\t 23\t 23\t 0.6891892\t 0.6891892\t 0.6891892\n",
            "I-LivingStatus\t 0\t 0\t 1\t 0.0\t 0.0\t 0.0\n",
            "B-LivingStatus\t 46\t 9\t 7\t 0.8363636\t 0.8679245\t 0.8518518\n",
            "I-Tobacco\t 9\t 2\t 18\t 0.8181818\t 0.33333334\t 0.47368422\n",
            "B-Employment\t 31\t 21\t 13\t 0.59615386\t 0.70454544\t 0.6458334\n",
            "I-Drug\t 28\t 4\t 25\t 0.875\t 0.5283019\t 0.6588235\n",
            "I-Employment\t 20\t 8\t 31\t 0.71428573\t 0.39215687\t 0.5063291\n",
            "tp: 285 fp: 103 fn: 170 labels: 10\n",
            "Macro-average\t prec: 0.69085085, rec: 0.54128945, f1: 0.606993\n",
            "Micro-average\t prec: 0.7345361, rec: 0.62637365, f1: 0.67615664\n",
            "\n",
            "\n",
            "Epoch 7/20 started, lr: 1.9417476E-4, dataset size: 1316\n",
            "\n",
            "\n",
            "Epoch 7/20 - 28.20s - loss: 818.1154 - batches: 85\n",
            "Quality on test dataset: \n",
            "time to finish evaluation: 0.44s\n",
            "label\t tp\t fp\t fn\t prec\t rec\t f1\n",
            "B-Drug\t 37\t 9\t 12\t 0.8043478\t 0.75510204\t 0.7789473\n",
            "I-Alcohol\t 19\t 1\t 17\t 0.95\t 0.5277778\t 0.67857146\n",
            "B-Tobacco\t 56\t 35\t 11\t 0.61538464\t 0.8358209\t 0.7088608\n",
            "B-Alcohol\t 58\t 36\t 16\t 0.61702126\t 0.7837838\t 0.6904762\n",
            "I-LivingStatus\t 0\t 0\t 1\t 0.0\t 0.0\t 0.0\n",
            "B-LivingStatus\t 51\t 14\t 2\t 0.7846154\t 0.9622642\t 0.86440676\n",
            "I-Tobacco\t 11\t 1\t 16\t 0.9166667\t 0.4074074\t 0.5641026\n",
            "B-Employment\t 36\t 20\t 8\t 0.64285713\t 0.8181818\t 0.72\n",
            "I-Drug\t 41\t 8\t 12\t 0.8367347\t 0.7735849\t 0.8039216\n",
            "I-Employment\t 26\t 10\t 25\t 0.7222222\t 0.50980395\t 0.5977012\n",
            "tp: 335 fp: 134 fn: 120 labels: 10\n",
            "Macro-average\t prec: 0.688985, rec: 0.6373726, f1: 0.66217464\n",
            "Micro-average\t prec: 0.71428573, rec: 0.73626375, f1: 0.7251082\n",
            "\n",
            "\n",
            "Epoch 8/20 started, lr: 1.9323672E-4, dataset size: 1316\n",
            "\n",
            "\n",
            "Epoch 8/20 - 28.66s - loss: 756.419 - batches: 85\n",
            "Quality on test dataset: \n",
            "time to finish evaluation: 0.55s\n",
            "label\t tp\t fp\t fn\t prec\t rec\t f1\n",
            "B-Drug\t 35\t 12\t 14\t 0.7446808\t 0.71428573\t 0.7291667\n",
            "I-Alcohol\t 20\t 0\t 16\t 1.0\t 0.5555556\t 0.71428573\n",
            "B-Tobacco\t 55\t 26\t 12\t 0.67901236\t 0.8208955\t 0.7432433\n",
            "B-Alcohol\t 55\t 26\t 19\t 0.67901236\t 0.7432432\t 0.70967746\n",
            "I-LivingStatus\t 0\t 0\t 1\t 0.0\t 0.0\t 0.0\n",
            "B-LivingStatus\t 46\t 9\t 7\t 0.8363636\t 0.8679245\t 0.8518518\n",
            "I-Tobacco\t 14\t 1\t 13\t 0.93333334\t 0.5185185\t 0.6666667\n",
            "B-Employment\t 36\t 18\t 8\t 0.6666667\t 0.8181818\t 0.7346939\n",
            "I-Drug\t 34\t 9\t 19\t 0.7906977\t 0.6415094\t 0.7083333\n",
            "I-Employment\t 28\t 14\t 23\t 0.6666667\t 0.54901963\t 0.60215056\n",
            "tp: 323 fp: 115 fn: 132 labels: 10\n",
            "Macro-average\t prec: 0.69964325, rec: 0.6229135, f1: 0.65905255\n",
            "Micro-average\t prec: 0.7374429, rec: 0.7098901, f1: 0.7234042\n",
            "\n",
            "\n",
            "Epoch 9/20 started, lr: 1.9230769E-4, dataset size: 1316\n",
            "\n",
            "\n",
            "Epoch 9/20 - 28.39s - loss: 702.98456 - batches: 85\n",
            "Quality on test dataset: \n",
            "time to finish evaluation: 0.65s\n",
            "label\t tp\t fp\t fn\t prec\t rec\t f1\n",
            "B-Drug\t 35\t 10\t 14\t 0.7777778\t 0.71428573\t 0.7446809\n",
            "I-Alcohol\t 19\t 0\t 17\t 1.0\t 0.5277778\t 0.6909091\n",
            "B-Tobacco\t 48\t 24\t 19\t 0.6666667\t 0.7164179\t 0.69064754\n",
            "B-Alcohol\t 55\t 25\t 19\t 0.6875\t 0.7432432\t 0.71428573\n",
            "I-LivingStatus\t 0\t 0\t 1\t 0.0\t 0.0\t 0.0\n",
            "B-LivingStatus\t 47\t 9\t 6\t 0.83928573\t 0.8867925\t 0.86238533\n",
            "I-Tobacco\t 8\t 1\t 19\t 0.8888889\t 0.2962963\t 0.44444442\n",
            "B-Employment\t 30\t 18\t 14\t 0.625\t 0.6818182\t 0.6521739\n",
            "I-Drug\t 36\t 8\t 17\t 0.8181818\t 0.6792453\t 0.742268\n",
            "I-Employment\t 21\t 6\t 30\t 0.7777778\t 0.4117647\t 0.5384615\n",
            "tp: 299 fp: 101 fn: 156 labels: 10\n",
            "Macro-average\t prec: 0.7081078, rec: 0.5657641, f1: 0.6289832\n",
            "Micro-average\t prec: 0.7475, rec: 0.6571429, f1: 0.69941527\n",
            "\n",
            "\n",
            "Epoch 10/20 started, lr: 1.9138756E-4, dataset size: 1316\n",
            "\n",
            "\n",
            "Epoch 10/20 - 28.18s - loss: 668.4685 - batches: 85\n",
            "Quality on test dataset: \n",
            "time to finish evaluation: 0.77s\n",
            "label\t tp\t fp\t fn\t prec\t rec\t f1\n",
            "B-Drug\t 34\t 10\t 15\t 0.77272725\t 0.6938776\t 0.7311828\n",
            "I-Alcohol\t 20\t 0\t 16\t 1.0\t 0.5555556\t 0.71428573\n",
            "B-Tobacco\t 55\t 24\t 12\t 0.6962025\t 0.8208955\t 0.75342464\n",
            "B-Alcohol\t 55\t 22\t 19\t 0.71428573\t 0.7432432\t 0.7284768\n",
            "I-LivingStatus\t 0\t 0\t 1\t 0.0\t 0.0\t 0.0\n",
            "B-LivingStatus\t 48\t 9\t 5\t 0.84210527\t 0.9056604\t 0.8727273\n",
            "I-Tobacco\t 15\t 1\t 12\t 0.9375\t 0.5555556\t 0.69767445\n",
            "B-Employment\t 34\t 14\t 10\t 0.7083333\t 0.77272725\t 0.73913044\n",
            "I-Drug\t 35\t 7\t 18\t 0.8333333\t 0.6603774\t 0.7368421\n",
            "I-Employment\t 28\t 11\t 23\t 0.71794873\t 0.54901963\t 0.62222224\n",
            "tp: 324 fp: 98 fn: 131 labels: 10\n",
            "Macro-average\t prec: 0.72224367, rec: 0.62569124, f1: 0.6705094\n",
            "Micro-average\t prec: 0.7677725, rec: 0.7120879, f1: 0.73888254\n",
            "\n",
            "\n",
            "Epoch 11/20 started, lr: 1.9047619E-4, dataset size: 1316\n",
            "\n",
            "\n",
            "Epoch 11/20 - 28.21s - loss: 631.72345 - batches: 85\n",
            "Quality on test dataset: \n",
            "time to finish evaluation: 0.78s\n",
            "label\t tp\t fp\t fn\t prec\t rec\t f1\n",
            "B-Drug\t 35\t 9\t 14\t 0.79545456\t 0.71428573\t 0.75268817\n",
            "I-Alcohol\t 20\t 0\t 16\t 1.0\t 0.5555556\t 0.71428573\n",
            "B-Tobacco\t 57\t 27\t 10\t 0.6785714\t 0.8507463\t 0.7549669\n",
            "B-Alcohol\t 57\t 24\t 17\t 0.7037037\t 0.7702703\t 0.7354839\n",
            "I-LivingStatus\t 0\t 0\t 1\t 0.0\t 0.0\t 0.0\n",
            "B-LivingStatus\t 51\t 10\t 2\t 0.8360656\t 0.9622642\t 0.8947368\n",
            "I-Tobacco\t 14\t 1\t 13\t 0.93333334\t 0.5185185\t 0.6666667\n",
            "B-Employment\t 33\t 13\t 11\t 0.7173913\t 0.75\t 0.7333334\n",
            "I-Drug\t 39\t 8\t 14\t 0.82978725\t 0.7358491\t 0.78000003\n",
            "I-Employment\t 29\t 10\t 22\t 0.74358976\t 0.5686275\t 0.64444447\n",
            "tp: 335 fp: 102 fn: 120 labels: 10\n",
            "Macro-average\t prec: 0.72378975, rec: 0.6426117, f1: 0.68078935\n",
            "Micro-average\t prec: 0.7665904, rec: 0.73626375, f1: 0.7511211\n",
            "\n",
            "\n",
            "Epoch 12/20 started, lr: 1.8957346E-4, dataset size: 1316\n",
            "\n",
            "\n",
            "Epoch 12/20 - 29.80s - loss: 593.56323 - batches: 85\n",
            "Quality on test dataset: \n",
            "time to finish evaluation: 0.75s\n",
            "label\t tp\t fp\t fn\t prec\t rec\t f1\n",
            "B-Drug\t 39\t 11\t 10\t 0.78\t 0.79591835\t 0.78787875\n",
            "I-Alcohol\t 20\t 0\t 16\t 1.0\t 0.5555556\t 0.71428573\n",
            "B-Tobacco\t 57\t 28\t 10\t 0.67058825\t 0.8507463\t 0.75\n",
            "B-Alcohol\t 56\t 23\t 18\t 0.70886075\t 0.7567568\t 0.73202616\n",
            "I-LivingStatus\t 0\t 0\t 1\t 0.0\t 0.0\t 0.0\n",
            "B-LivingStatus\t 52\t 9\t 1\t 0.852459\t 0.9811321\t 0.9122807\n",
            "I-Tobacco\t 13\t 1\t 14\t 0.9285714\t 0.4814815\t 0.63414633\n",
            "B-Employment\t 34\t 15\t 10\t 0.6938776\t 0.77272725\t 0.7311828\n",
            "I-Drug\t 37\t 7\t 16\t 0.84090906\t 0.6981132\t 0.76288664\n",
            "I-Employment\t 26\t 9\t 25\t 0.74285716\t 0.50980395\t 0.6046512\n",
            "tp: 334 fp: 103 fn: 121 labels: 10\n",
            "Macro-average\t prec: 0.7218123, rec: 0.6402235, f1: 0.67857426\n",
            "Micro-average\t prec: 0.7643021, rec: 0.73406595, f1: 0.74887896\n",
            "\n",
            "\n",
            "Epoch 13/20 started, lr: 1.8867925E-4, dataset size: 1316\n",
            "\n",
            "\n",
            "Epoch 13/20 - 28.46s - loss: 573.248 - batches: 85\n",
            "Quality on test dataset: \n",
            "time to finish evaluation: 0.66s\n",
            "label\t tp\t fp\t fn\t prec\t rec\t f1\n",
            "B-Drug\t 34\t 10\t 15\t 0.77272725\t 0.6938776\t 0.7311828\n",
            "I-Alcohol\t 23\t 1\t 13\t 0.9583333\t 0.6388889\t 0.76666665\n",
            "B-Tobacco\t 57\t 27\t 10\t 0.6785714\t 0.8507463\t 0.7549669\n",
            "B-Alcohol\t 55\t 19\t 19\t 0.7432432\t 0.7432432\t 0.7432432\n",
            "I-LivingStatus\t 0\t 0\t 1\t 0.0\t 0.0\t 0.0\n",
            "B-LivingStatus\t 46\t 8\t 7\t 0.8518519\t 0.8679245\t 0.8598131\n",
            "I-Tobacco\t 15\t 1\t 12\t 0.9375\t 0.5555556\t 0.69767445\n",
            "B-Employment\t 33\t 15\t 11\t 0.6875\t 0.75\t 0.7173913\n",
            "I-Drug\t 38\t 7\t 15\t 0.84444445\t 0.7169811\t 0.77551025\n",
            "I-Employment\t 26\t 9\t 25\t 0.74285716\t 0.50980395\t 0.6046512\n",
            "tp: 327 fp: 97 fn: 128 labels: 10\n",
            "Macro-average\t prec: 0.7217028, rec: 0.63270205, f1: 0.6742782\n",
            "Micro-average\t prec: 0.7712264, rec: 0.71868134, f1: 0.7440273\n",
            "\n",
            "\n",
            "Epoch 14/20 started, lr: 1.8779341E-4, dataset size: 1316\n",
            "\n",
            "\n",
            "Epoch 14/20 - 27.40s - loss: 548.22424 - batches: 85\n",
            "Quality on test dataset: \n",
            "time to finish evaluation: 0.81s\n",
            "label\t tp\t fp\t fn\t prec\t rec\t f1\n",
            "B-Drug\t 39\t 9\t 10\t 0.8125\t 0.79591835\t 0.8041237\n",
            "I-Alcohol\t 25\t 1\t 11\t 0.96153843\t 0.6944444\t 0.80645156\n",
            "B-Tobacco\t 57\t 25\t 10\t 0.69512194\t 0.8507463\t 0.7651007\n",
            "B-Alcohol\t 61\t 19\t 13\t 0.7625\t 0.8243243\t 0.7922077\n",
            "I-LivingStatus\t 0\t 0\t 1\t 0.0\t 0.0\t 0.0\n",
            "B-LivingStatus\t 47\t 7\t 6\t 0.8703704\t 0.8867925\t 0.8785047\n",
            "I-Tobacco\t 17\t 1\t 10\t 0.9444444\t 0.6296296\t 0.7555555\n",
            "B-Employment\t 38\t 14\t 6\t 0.7307692\t 0.8636364\t 0.7916666\n",
            "I-Drug\t 40\t 10\t 13\t 0.8\t 0.754717\t 0.776699\n",
            "I-Employment\t 40\t 21\t 11\t 0.6557377\t 0.78431374\t 0.71428573\n",
            "tp: 364 fp: 107 fn: 91 labels: 10\n",
            "Macro-average\t prec: 0.72329825, rec: 0.7084523, f1: 0.7157983\n",
            "Micro-average\t prec: 0.77282375, rec: 0.8, f1: 0.7861771\n",
            "\n",
            "\n",
            "Epoch 15/20 started, lr: 1.8691587E-4, dataset size: 1316\n",
            "\n",
            "\n",
            "Epoch 15/20 - 29.07s - loss: 515.33887 - batches: 85\n",
            "Quality on test dataset: \n",
            "time to finish evaluation: 0.75s\n",
            "label\t tp\t fp\t fn\t prec\t rec\t f1\n",
            "B-Drug\t 39\t 9\t 10\t 0.8125\t 0.79591835\t 0.8041237\n",
            "I-Alcohol\t 23\t 1\t 13\t 0.9583333\t 0.6388889\t 0.76666665\n",
            "B-Tobacco\t 58\t 29\t 9\t 0.6666667\t 0.86567163\t 0.7532468\n",
            "B-Alcohol\t 61\t 21\t 13\t 0.74390244\t 0.8243243\t 0.78205127\n",
            "I-LivingStatus\t 0\t 0\t 1\t 0.0\t 0.0\t 0.0\n",
            "B-LivingStatus\t 48\t 8\t 5\t 0.85714287\t 0.9056604\t 0.8807339\n",
            "I-Tobacco\t 17\t 2\t 10\t 0.8947368\t 0.6296296\t 0.7391305\n",
            "B-Employment\t 34\t 15\t 10\t 0.6938776\t 0.77272725\t 0.7311828\n",
            "I-Drug\t 39\t 10\t 14\t 0.79591835\t 0.7358491\t 0.7647059\n",
            "I-Employment\t 25\t 8\t 26\t 0.75757575\t 0.49019608\t 0.5952381\n",
            "tp: 344 fp: 103 fn: 111 labels: 10\n",
            "Macro-average\t prec: 0.7180654, rec: 0.6658865, f1: 0.6909923\n",
            "Micro-average\t prec: 0.76957494, rec: 0.756044, f1: 0.76274943\n",
            "\n",
            "\n",
            "Epoch 16/20 started, lr: 1.860465E-4, dataset size: 1316\n",
            "\n",
            "\n",
            "Epoch 16/20 - 28.42s - loss: 491.44 - batches: 85\n",
            "Quality on test dataset: \n",
            "time to finish evaluation: 0.74s\n",
            "label\t tp\t fp\t fn\t prec\t rec\t f1\n",
            "B-Drug\t 39\t 11\t 10\t 0.78\t 0.79591835\t 0.78787875\n",
            "I-Alcohol\t 22\t 0\t 14\t 1.0\t 0.6111111\t 0.7586207\n",
            "B-Tobacco\t 58\t 26\t 9\t 0.6904762\t 0.86567163\t 0.7682119\n",
            "B-Alcohol\t 57\t 22\t 17\t 0.721519\t 0.7702703\t 0.745098\n",
            "I-LivingStatus\t 0\t 0\t 1\t 0.0\t 0.0\t 0.0\n",
            "B-LivingStatus\t 50\t 7\t 3\t 0.877193\t 0.9433962\t 0.9090909\n",
            "I-Tobacco\t 15\t 1\t 12\t 0.9375\t 0.5555556\t 0.69767445\n",
            "B-Employment\t 31\t 15\t 13\t 0.67391306\t 0.70454544\t 0.6888889\n",
            "I-Drug\t 37\t 7\t 16\t 0.84090906\t 0.6981132\t 0.76288664\n",
            "I-Employment\t 25\t 5\t 26\t 0.8333333\t 0.49019608\t 0.617284\n",
            "tp: 334 fp: 94 fn: 121 labels: 10\n",
            "Macro-average\t prec: 0.73548436, rec: 0.6434778, f1: 0.6864117\n",
            "Micro-average\t prec: 0.7803738, rec: 0.73406595, f1: 0.7565118\n",
            "\n",
            "\n",
            "Epoch 17/20 started, lr: 1.8518517E-4, dataset size: 1316\n",
            "\n",
            "\n",
            "Epoch 17/20 - 29.62s - loss: 482.37463 - batches: 85\n",
            "Quality on test dataset: \n",
            "time to finish evaluation: 0.74s\n",
            "label\t tp\t fp\t fn\t prec\t rec\t f1\n",
            "B-Drug\t 39\t 12\t 10\t 0.7647059\t 0.79591835\t 0.78000003\n",
            "I-Alcohol\t 20\t 0\t 16\t 1.0\t 0.5555556\t 0.71428573\n",
            "B-Tobacco\t 58\t 30\t 9\t 0.65909094\t 0.86567163\t 0.7483871\n",
            "B-Alcohol\t 60\t 24\t 14\t 0.71428573\t 0.8108108\t 0.7594937\n",
            "I-LivingStatus\t 0\t 0\t 1\t 0.0\t 0.0\t 0.0\n",
            "B-LivingStatus\t 52\t 13\t 1\t 0.8\t 0.9811321\t 0.88135594\n",
            "I-Tobacco\t 13\t 1\t 14\t 0.9285714\t 0.4814815\t 0.63414633\n",
            "B-Employment\t 36\t 16\t 8\t 0.6923077\t 0.8181818\t 0.75\n",
            "I-Drug\t 34\t 7\t 19\t 0.8292683\t 0.6415094\t 0.7234042\n",
            "I-Employment\t 30\t 10\t 21\t 0.75\t 0.5882353\t 0.6593406\n",
            "tp: 342 fp: 113 fn: 113 labels: 10\n",
            "Macro-average\t prec: 0.713823, rec: 0.6538497, f1: 0.68252146\n",
            "Micro-average\t prec: 0.75164837, rec: 0.75164837, f1: 0.75164837\n",
            "\n",
            "\n",
            "Epoch 18/20 started, lr: 1.8433179E-4, dataset size: 1316\n",
            "\n",
            "\n",
            "Epoch 18/20 - 28.56s - loss: 456.48242 - batches: 85\n",
            "Quality on test dataset: \n",
            "time to finish evaluation: 0.70s\n",
            "label\t tp\t fp\t fn\t prec\t rec\t f1\n",
            "B-Drug\t 38\t 10\t 11\t 0.7916667\t 0.7755102\t 0.7835052\n",
            "I-Alcohol\t 25\t 1\t 11\t 0.96153843\t 0.6944444\t 0.80645156\n",
            "B-Tobacco\t 57\t 25\t 10\t 0.69512194\t 0.8507463\t 0.7651007\n",
            "B-Alcohol\t 62\t 22\t 12\t 0.7380952\t 0.8378378\t 0.7848101\n",
            "I-LivingStatus\t 0\t 0\t 1\t 0.0\t 0.0\t 0.0\n",
            "B-LivingStatus\t 48\t 7\t 5\t 0.8727273\t 0.9056604\t 0.8888889\n",
            "I-Tobacco\t 18\t 3\t 9\t 0.85714287\t 0.6666667\t 0.75\n",
            "B-Employment\t 38\t 14\t 6\t 0.7307692\t 0.8636364\t 0.7916666\n",
            "I-Drug\t 37\t 8\t 16\t 0.82222223\t 0.6981132\t 0.75510204\n",
            "I-Employment\t 38\t 16\t 13\t 0.7037037\t 0.74509805\t 0.7238095\n",
            "tp: 361 fp: 106 fn: 94 labels: 10\n",
            "Macro-average\t prec: 0.7172988, rec: 0.7037714, f1: 0.71047074\n",
            "Micro-average\t prec: 0.77301925, rec: 0.7934066, f1: 0.7830803\n",
            "\n",
            "\n",
            "Epoch 19/20 started, lr: 1.8348623E-4, dataset size: 1316\n",
            "\n",
            "\n",
            "Epoch 19/20 - 28.10s - loss: 423.8398 - batches: 85\n",
            "Quality on test dataset: \n",
            "time to finish evaluation: 0.85s\n",
            "label\t tp\t fp\t fn\t prec\t rec\t f1\n",
            "B-Drug\t 32\t 10\t 17\t 0.7619048\t 0.6530612\t 0.7032967\n",
            "I-Alcohol\t 22\t 0\t 14\t 1.0\t 0.6111111\t 0.7586207\n",
            "B-Tobacco\t 58\t 23\t 9\t 0.7160494\t 0.86567163\t 0.78378373\n",
            "B-Alcohol\t 57\t 21\t 17\t 0.7307692\t 0.7702703\t 0.75\n",
            "I-LivingStatus\t 0\t 0\t 1\t 0.0\t 0.0\t 0.0\n",
            "B-LivingStatus\t 49\t 7\t 4\t 0.875\t 0.9245283\t 0.89908254\n",
            "I-Tobacco\t 15\t 0\t 12\t 1.0\t 0.5555556\t 0.71428573\n",
            "B-Employment\t 29\t 15\t 15\t 0.65909094\t 0.65909094\t 0.65909094\n",
            "I-Drug\t 36\t 7\t 17\t 0.8372093\t 0.6792453\t 0.75\n",
            "I-Employment\t 24\t 6\t 27\t 0.8\t 0.47058824\t 0.5925926\n",
            "tp: 322 fp: 89 fn: 133 labels: 10\n",
            "Macro-average\t prec: 0.73800236, rec: 0.61891234, f1: 0.67323136\n",
            "Micro-average\t prec: 0.783455, rec: 0.7076923, f1: 0.743649\n",
            "\n",
            "\n",
            "Epoch 20/20 started, lr: 1.826484E-4, dataset size: 1316\n",
            "\n",
            "\n",
            "Epoch 20/20 - 27.51s - loss: 414.1997 - batches: 85\n",
            "Quality on test dataset: \n",
            "time to finish evaluation: 0.78s\n",
            "label\t tp\t fp\t fn\t prec\t rec\t f1\n",
            "B-Drug\t 37\t 11\t 12\t 0.7708333\t 0.75510204\t 0.7628866\n",
            "I-Alcohol\t 21\t 0\t 15\t 1.0\t 0.5833333\t 0.7368421\n",
            "B-Tobacco\t 57\t 18\t 10\t 0.76\t 0.8507463\t 0.8028169\n",
            "B-Alcohol\t 53\t 18\t 21\t 0.74647886\t 0.7162162\t 0.73103446\n",
            "I-LivingStatus\t 0\t 0\t 1\t 0.0\t 0.0\t 0.0\n",
            "B-LivingStatus\t 44\t 7\t 9\t 0.8627451\t 0.8301887\t 0.84615386\n",
            "I-Tobacco\t 14\t 0\t 13\t 1.0\t 0.5185185\t 0.68292683\n",
            "B-Employment\t 32\t 12\t 12\t 0.72727275\t 0.72727275\t 0.72727275\n",
            "I-Drug\t 35\t 7\t 18\t 0.8333333\t 0.6603774\t 0.7368421\n",
            "I-Employment\t 30\t 7\t 21\t 0.8108108\t 0.5882353\t 0.6818182\n",
            "tp: 323 fp: 80 fn: 132 labels: 10\n",
            "Macro-average\t prec: 0.7511474, rec: 0.6229991, f1: 0.68109787\n",
            "Micro-average\t prec: 0.8014888, rec: 0.7098901, f1: 0.7529137\n"
          ]
        }
      ]
    },
    {
      "cell_type": "code",
      "source": [
        "pred_df = ner_model.stages[1].transform(bert_embedding.transform(test_data))\n",
        "# pred_df = ner_model.stages[1].transform(test_data)"
      ],
      "metadata": {
        "id": "q8J1FgRNDLBU",
        "colab": {
          "base_uri": "https://localhost:8080/",
          "height": 184
        },
        "outputId": "dc211775-264d-4f9e-cc1d-2025d4ee6ee1"
      },
      "execution_count": null,
      "outputs": [
        {
          "output_type": "error",
          "ename": "NameError",
          "evalue": "ignored",
          "traceback": [
            "\u001b[0;31m---------------------------------------------------------------------------\u001b[0m",
            "\u001b[0;31mNameError\u001b[0m                                 Traceback (most recent call last)",
            "\u001b[0;32m<ipython-input-23-3aeb8e2e6bd5>\u001b[0m in \u001b[0;36m<module>\u001b[0;34m()\u001b[0m\n\u001b[0;32m----> 1\u001b[0;31m \u001b[0mpred_df\u001b[0m \u001b[0;34m=\u001b[0m \u001b[0mner_model\u001b[0m\u001b[0;34m.\u001b[0m\u001b[0mstages\u001b[0m\u001b[0;34m[\u001b[0m\u001b[0;36m1\u001b[0m\u001b[0;34m]\u001b[0m\u001b[0;34m.\u001b[0m\u001b[0mtransform\u001b[0m\u001b[0;34m(\u001b[0m\u001b[0mbert_embedding\u001b[0m\u001b[0;34m.\u001b[0m\u001b[0mtransform\u001b[0m\u001b[0;34m(\u001b[0m\u001b[0mtest_data\u001b[0m\u001b[0;34m)\u001b[0m\u001b[0;34m)\u001b[0m\u001b[0;34m\u001b[0m\u001b[0;34m\u001b[0m\u001b[0m\n\u001b[0m\u001b[1;32m      2\u001b[0m \u001b[0;31m# pred_df = ner_model.stages[1].transform(test_data)\u001b[0m\u001b[0;34m\u001b[0m\u001b[0;34m\u001b[0m\u001b[0;34m\u001b[0m\u001b[0m\n",
            "\u001b[0;31mNameError\u001b[0m: name 'ner_model' is not defined"
          ]
        }
      ]
    },
    {
      "cell_type": "code",
      "source": [
        "import pyspark.sql.functions as F\n",
        "\n",
        "pred_df.select(F.explode(F.arrays_zip(pred_df.token.result,\n",
        "                                          pred_df.label.result,\n",
        "                                          pred_df.ner.result)).alias(\"cols\")) \\\n",
        "                              .select(F.expr(\"cols['0']\").alias(\"token\"),\n",
        "                                      F.expr(\"cols['1']\").alias(\"ground_truth\"),\n",
        "                                      F.expr(\"cols['2']\").alias(\"prediction\")).toPandas()"
      ],
      "metadata": {
        "id": "UkKBqzP2A3Ju",
        "colab": {
          "base_uri": "https://localhost:8080/",
          "height": 424
        },
        "outputId": "81d7c63c-4f08-4fd3-f057-e9676ef2a9d6"
      },
      "execution_count": null,
      "outputs": [
        {
          "output_type": "execute_result",
          "data": {
            "text/plain": [
              "        token    ground_truth      prediction\n",
              "0      SOCIAL               O               O\n",
              "1     HISTORY               O               O\n",
              "2           :               O               O\n",
              "3       Lives  B-LivingStatus  B-LivingStatus\n",
              "4        with               O               O\n",
              "...       ...             ...             ...\n",
              "6888   father               O               O\n",
              "6889       of               O               O\n",
              "6890      one               O               O\n",
              "6891      son               O               O\n",
              "6892        .               O               O\n",
              "\n",
              "[6893 rows x 3 columns]"
            ],
            "text/html": [
              "\n",
              "  <div id=\"df-cb3461a9-49ac-4448-9806-598b74f1db08\">\n",
              "    <div class=\"colab-df-container\">\n",
              "      <div>\n",
              "<style scoped>\n",
              "    .dataframe tbody tr th:only-of-type {\n",
              "        vertical-align: middle;\n",
              "    }\n",
              "\n",
              "    .dataframe tbody tr th {\n",
              "        vertical-align: top;\n",
              "    }\n",
              "\n",
              "    .dataframe thead th {\n",
              "        text-align: right;\n",
              "    }\n",
              "</style>\n",
              "<table border=\"1\" class=\"dataframe\">\n",
              "  <thead>\n",
              "    <tr style=\"text-align: right;\">\n",
              "      <th></th>\n",
              "      <th>token</th>\n",
              "      <th>ground_truth</th>\n",
              "      <th>prediction</th>\n",
              "    </tr>\n",
              "  </thead>\n",
              "  <tbody>\n",
              "    <tr>\n",
              "      <th>0</th>\n",
              "      <td>SOCIAL</td>\n",
              "      <td>O</td>\n",
              "      <td>O</td>\n",
              "    </tr>\n",
              "    <tr>\n",
              "      <th>1</th>\n",
              "      <td>HISTORY</td>\n",
              "      <td>O</td>\n",
              "      <td>O</td>\n",
              "    </tr>\n",
              "    <tr>\n",
              "      <th>2</th>\n",
              "      <td>:</td>\n",
              "      <td>O</td>\n",
              "      <td>O</td>\n",
              "    </tr>\n",
              "    <tr>\n",
              "      <th>3</th>\n",
              "      <td>Lives</td>\n",
              "      <td>B-LivingStatus</td>\n",
              "      <td>B-LivingStatus</td>\n",
              "    </tr>\n",
              "    <tr>\n",
              "      <th>4</th>\n",
              "      <td>with</td>\n",
              "      <td>O</td>\n",
              "      <td>O</td>\n",
              "    </tr>\n",
              "    <tr>\n",
              "      <th>...</th>\n",
              "      <td>...</td>\n",
              "      <td>...</td>\n",
              "      <td>...</td>\n",
              "    </tr>\n",
              "    <tr>\n",
              "      <th>6888</th>\n",
              "      <td>father</td>\n",
              "      <td>O</td>\n",
              "      <td>O</td>\n",
              "    </tr>\n",
              "    <tr>\n",
              "      <th>6889</th>\n",
              "      <td>of</td>\n",
              "      <td>O</td>\n",
              "      <td>O</td>\n",
              "    </tr>\n",
              "    <tr>\n",
              "      <th>6890</th>\n",
              "      <td>one</td>\n",
              "      <td>O</td>\n",
              "      <td>O</td>\n",
              "    </tr>\n",
              "    <tr>\n",
              "      <th>6891</th>\n",
              "      <td>son</td>\n",
              "      <td>O</td>\n",
              "      <td>O</td>\n",
              "    </tr>\n",
              "    <tr>\n",
              "      <th>6892</th>\n",
              "      <td>.</td>\n",
              "      <td>O</td>\n",
              "      <td>O</td>\n",
              "    </tr>\n",
              "  </tbody>\n",
              "</table>\n",
              "<p>6893 rows × 3 columns</p>\n",
              "</div>\n",
              "      <button class=\"colab-df-convert\" onclick=\"convertToInteractive('df-cb3461a9-49ac-4448-9806-598b74f1db08')\"\n",
              "              title=\"Convert this dataframe to an interactive table.\"\n",
              "              style=\"display:none;\">\n",
              "        \n",
              "  <svg xmlns=\"http://www.w3.org/2000/svg\" height=\"24px\"viewBox=\"0 0 24 24\"\n",
              "       width=\"24px\">\n",
              "    <path d=\"M0 0h24v24H0V0z\" fill=\"none\"/>\n",
              "    <path d=\"M18.56 5.44l.94 2.06.94-2.06 2.06-.94-2.06-.94-.94-2.06-.94 2.06-2.06.94zm-11 1L8.5 8.5l.94-2.06 2.06-.94-2.06-.94L8.5 2.5l-.94 2.06-2.06.94zm10 10l.94 2.06.94-2.06 2.06-.94-2.06-.94-.94-2.06-.94 2.06-2.06.94z\"/><path d=\"M17.41 7.96l-1.37-1.37c-.4-.4-.92-.59-1.43-.59-.52 0-1.04.2-1.43.59L10.3 9.45l-7.72 7.72c-.78.78-.78 2.05 0 2.83L4 21.41c.39.39.9.59 1.41.59.51 0 1.02-.2 1.41-.59l7.78-7.78 2.81-2.81c.8-.78.8-2.07 0-2.86zM5.41 20L4 18.59l7.72-7.72 1.47 1.35L5.41 20z\"/>\n",
              "  </svg>\n",
              "      </button>\n",
              "      \n",
              "  <style>\n",
              "    .colab-df-container {\n",
              "      display:flex;\n",
              "      flex-wrap:wrap;\n",
              "      gap: 12px;\n",
              "    }\n",
              "\n",
              "    .colab-df-convert {\n",
              "      background-color: #E8F0FE;\n",
              "      border: none;\n",
              "      border-radius: 50%;\n",
              "      cursor: pointer;\n",
              "      display: none;\n",
              "      fill: #1967D2;\n",
              "      height: 32px;\n",
              "      padding: 0 0 0 0;\n",
              "      width: 32px;\n",
              "    }\n",
              "\n",
              "    .colab-df-convert:hover {\n",
              "      background-color: #E2EBFA;\n",
              "      box-shadow: 0px 1px 2px rgba(60, 64, 67, 0.3), 0px 1px 3px 1px rgba(60, 64, 67, 0.15);\n",
              "      fill: #174EA6;\n",
              "    }\n",
              "\n",
              "    [theme=dark] .colab-df-convert {\n",
              "      background-color: #3B4455;\n",
              "      fill: #D2E3FC;\n",
              "    }\n",
              "\n",
              "    [theme=dark] .colab-df-convert:hover {\n",
              "      background-color: #434B5C;\n",
              "      box-shadow: 0px 1px 3px 1px rgba(0, 0, 0, 0.15);\n",
              "      filter: drop-shadow(0px 1px 2px rgba(0, 0, 0, 0.3));\n",
              "      fill: #FFFFFF;\n",
              "    }\n",
              "  </style>\n",
              "\n",
              "      <script>\n",
              "        const buttonEl =\n",
              "          document.querySelector('#df-cb3461a9-49ac-4448-9806-598b74f1db08 button.colab-df-convert');\n",
              "        buttonEl.style.display =\n",
              "          google.colab.kernel.accessAllowed ? 'block' : 'none';\n",
              "\n",
              "        async function convertToInteractive(key) {\n",
              "          const element = document.querySelector('#df-cb3461a9-49ac-4448-9806-598b74f1db08');\n",
              "          const dataTable =\n",
              "            await google.colab.kernel.invokeFunction('convertToInteractive',\n",
              "                                                     [key], {});\n",
              "          if (!dataTable) return;\n",
              "\n",
              "          const docLinkHtml = 'Like what you see? Visit the ' +\n",
              "            '<a target=\"_blank\" href=https://colab.research.google.com/notebooks/data_table.ipynb>data table notebook</a>'\n",
              "            + ' to learn more about interactive tables.';\n",
              "          element.innerHTML = '';\n",
              "          dataTable['output_type'] = 'display_data';\n",
              "          await google.colab.output.renderOutput(dataTable, element);\n",
              "          const docLink = document.createElement('div');\n",
              "          docLink.innerHTML = docLinkHtml;\n",
              "          element.appendChild(docLink);\n",
              "        }\n",
              "      </script>\n",
              "    </div>\n",
              "  </div>\n",
              "  "
            ]
          },
          "metadata": {},
          "execution_count": 28
        }
      ]
    },
    {
      "cell_type": "code",
      "source": [
        "import pyspark.sql.functions as F\n",
        "\n",
        "pred_df.select(F.explode(F.arrays_zip(pred_df.token.result,\n",
        "                                          pred_df.label.result,\n",
        "                                          pred_df.ner.result)).alias(\"cols\")) \\\n",
        "                              .select(F.expr(\"cols['0']\").alias(\"token\"),\n",
        "                                      F.expr(\"cols['1']\").alias(\"ground_truth\"),\n",
        "                                      F.expr(\"cols['2']\").alias(\"prediction\")).show(truncate=False)\n",
        "\n"
      ],
      "metadata": {
        "id": "ZUA4sONKDQlB",
        "colab": {
          "base_uri": "https://localhost:8080/"
        },
        "outputId": "6e8f9895-8b12-4d14-f103-875a67f2f312"
      },
      "execution_count": null,
      "outputs": [
        {
          "output_type": "stream",
          "name": "stdout",
          "text": [
            "+---------+--------------+--------------+\n",
            "|token    |ground_truth  |prediction    |\n",
            "+---------+--------------+--------------+\n",
            "|SOCIAL   |O             |O             |\n",
            "|HISTORY  |O             |O             |\n",
            "|:        |O             |O             |\n",
            "|Lives    |B-LivingStatus|B-LivingStatus|\n",
            "|with     |O             |O             |\n",
            "|his      |O             |O             |\n",
            "|caring   |O             |O             |\n",
            "|and      |O             |O             |\n",
            "|devoted  |O             |O             |\n",
            "|parents  |O             |O             |\n",
            "|at       |O             |O             |\n",
            "|home     |O             |O             |\n",
            "|.        |O             |O             |\n",
            "|Enjoys   |O             |O             |\n",
            "|movies   |O             |O             |\n",
            "|and      |O             |O             |\n",
            "|computers|O             |O             |\n",
            "|.        |O             |O             |\n",
            "|No       |O             |O             |\n",
            "|history  |O             |O             |\n",
            "+---------+--------------+--------------+\n",
            "only showing top 20 rows\n",
            "\n"
          ]
        }
      ]
    },
    {
      "cell_type": "code",
      "source": [
        "from sklearn.metrics import classification_report\n",
        "\n",
        "preds_df_analysis = pred_df.select(F.explode(F.arrays_zip(pred_df.token.result,\n",
        "                                                     pred_df.label.result,\n",
        "                                                     pred_df.ner.result)).alias(\"cols\")) \\\n",
        "                      .select(F.expr(\"cols['0']\").alias(\"token\"),\n",
        "                              F.expr(\"cols['1']\").alias(\"ground_truth\"),\n",
        "                              F.expr(\"cols['2']\").alias(\"prediction\")).toPandas()\n",
        "\n",
        "print (classification_report(preds_df_analysis['ground_truth'], preds_df_analysis['prediction']))\n",
        "\n"
      ],
      "metadata": {
        "id": "4qUDJjse15bZ",
        "colab": {
          "base_uri": "https://localhost:8080/"
        },
        "outputId": "7a4c25c3-adfb-4fdd-e467-5d4edb58384b"
      },
      "execution_count": null,
      "outputs": [
        {
          "output_type": "stream",
          "name": "stdout",
          "text": [
            "                precision    recall  f1-score   support\n",
            "\n",
            "     B-Alcohol       0.77      0.83      0.80       162\n",
            "        B-Drug       0.90      0.82      0.86       101\n",
            "  B-Employment       0.81      0.69      0.74        90\n",
            "B-LivingStatus       0.97      0.75      0.84       116\n",
            "     B-Tobacco       0.72      0.77      0.75       154\n",
            "     I-Alcohol       0.88      0.68      0.77        53\n",
            "        I-Drug       0.90      0.87      0.89        98\n",
            "  I-Employment       0.82      0.70      0.75       103\n",
            "I-LivingStatus       0.00      0.00      0.00         3\n",
            "     I-Tobacco       0.78      0.54      0.64        59\n",
            "             O       0.97      0.98      0.98      5954\n",
            "\n",
            "      accuracy                           0.95      6893\n",
            "     macro avg       0.77      0.69      0.73      6893\n",
            "  weighted avg       0.95      0.95      0.95      6893\n",
            "\n"
          ]
        },
        {
          "output_type": "stream",
          "name": "stderr",
          "text": [
            "/usr/local/lib/python3.7/dist-packages/sklearn/metrics/_classification.py:1318: UndefinedMetricWarning: Precision and F-score are ill-defined and being set to 0.0 in labels with no predicted samples. Use `zero_division` parameter to control this behavior.\n",
            "  _warn_prf(average, modifier, msg_start, len(result))\n",
            "/usr/local/lib/python3.7/dist-packages/sklearn/metrics/_classification.py:1318: UndefinedMetricWarning: Precision and F-score are ill-defined and being set to 0.0 in labels with no predicted samples. Use `zero_division` parameter to control this behavior.\n",
            "  _warn_prf(average, modifier, msg_start, len(result))\n",
            "/usr/local/lib/python3.7/dist-packages/sklearn/metrics/_classification.py:1318: UndefinedMetricWarning: Precision and F-score are ill-defined and being set to 0.0 in labels with no predicted samples. Use `zero_division` parameter to control this behavior.\n",
            "  _warn_prf(average, modifier, msg_start, len(result))\n"
          ]
        }
      ]
    },
    {
      "cell_type": "code",
      "source": [
        "ner_model.stages[1].write().overwrite().save('/content/drive/MyDrive/umass_ner/model_ner_dl_2')"
      ],
      "metadata": {
        "id": "U6JUWcMTzp9X"
      },
      "execution_count": null,
      "outputs": []
    },
    {
      "cell_type": "code",
      "source": [
        "!wget  -q https://raw.githubusercontent.com/JohnSnowLabs/spark-nlp-workshop/master/tutorials/Certification_Trainings/Public/utils/conll_eval.py\n",
        "\n",
        "import conll_eval\n",
        "\n",
        "metrics = conll_eval.evaluate(preds_df_analysis['ground_truth'].values, preds_df_analysis['prediction'].values)\n",
        "\n",
        "\n",
        "import pandas as pd\n",
        "pd.DataFrame(metrics[1], columns=['entity','precision','recall','f1','support'])\n",
        "\n"
      ],
      "metadata": {
        "colab": {
          "base_uri": "https://localhost:8080/",
          "height": 345
        },
        "id": "p8eLAnfp2cpG",
        "outputId": "a47c5aee-359e-4fce-a6c2-5358880f12c3"
      },
      "execution_count": null,
      "outputs": [
        {
          "output_type": "stream",
          "name": "stdout",
          "text": [
            "processed 6893 tokens with 623 phrases; found: 627 phrases; correct: 466.\n",
            "accuracy:  75.61%; (non-O)\n",
            "accuracy:  95.29%; precision:  74.32%; recall:  74.80%; FB1:  74.56\n",
            "          Alcohol: precision:  72.73%; recall:  79.01%; FB1:  75.74  176\n",
            "             Drug: precision:  82.83%; recall:  81.19%; FB1:  82.00  99\n",
            "       Employment: precision:  60.87%; recall:  62.22%; FB1:  61.54  92\n",
            "     LivingStatus: precision:  95.56%; recall:  74.14%; FB1:  83.50  90\n",
            "          Tobacco: precision:  67.06%; recall:  74.03%; FB1:  70.37  170\n"
          ]
        },
        {
          "output_type": "execute_result",
          "data": {
            "text/plain": [
              "         entity  precision     recall         f1  support\n",
              "0       Alcohol  72.727273  79.012346  75.739645      176\n",
              "1          Drug  82.828283  81.188119  82.000000       99\n",
              "2    Employment  60.869565  62.222222  61.538462       92\n",
              "3  LivingStatus  95.555556  74.137931  83.495146       90\n",
              "4       Tobacco  67.058824  74.025974  70.370370      170"
            ],
            "text/html": [
              "\n",
              "  <div id=\"df-1631bfe1-d1ab-4139-a779-49ed6fe1d102\">\n",
              "    <div class=\"colab-df-container\">\n",
              "      <div>\n",
              "<style scoped>\n",
              "    .dataframe tbody tr th:only-of-type {\n",
              "        vertical-align: middle;\n",
              "    }\n",
              "\n",
              "    .dataframe tbody tr th {\n",
              "        vertical-align: top;\n",
              "    }\n",
              "\n",
              "    .dataframe thead th {\n",
              "        text-align: right;\n",
              "    }\n",
              "</style>\n",
              "<table border=\"1\" class=\"dataframe\">\n",
              "  <thead>\n",
              "    <tr style=\"text-align: right;\">\n",
              "      <th></th>\n",
              "      <th>entity</th>\n",
              "      <th>precision</th>\n",
              "      <th>recall</th>\n",
              "      <th>f1</th>\n",
              "      <th>support</th>\n",
              "    </tr>\n",
              "  </thead>\n",
              "  <tbody>\n",
              "    <tr>\n",
              "      <th>0</th>\n",
              "      <td>Alcohol</td>\n",
              "      <td>72.727273</td>\n",
              "      <td>79.012346</td>\n",
              "      <td>75.739645</td>\n",
              "      <td>176</td>\n",
              "    </tr>\n",
              "    <tr>\n",
              "      <th>1</th>\n",
              "      <td>Drug</td>\n",
              "      <td>82.828283</td>\n",
              "      <td>81.188119</td>\n",
              "      <td>82.000000</td>\n",
              "      <td>99</td>\n",
              "    </tr>\n",
              "    <tr>\n",
              "      <th>2</th>\n",
              "      <td>Employment</td>\n",
              "      <td>60.869565</td>\n",
              "      <td>62.222222</td>\n",
              "      <td>61.538462</td>\n",
              "      <td>92</td>\n",
              "    </tr>\n",
              "    <tr>\n",
              "      <th>3</th>\n",
              "      <td>LivingStatus</td>\n",
              "      <td>95.555556</td>\n",
              "      <td>74.137931</td>\n",
              "      <td>83.495146</td>\n",
              "      <td>90</td>\n",
              "    </tr>\n",
              "    <tr>\n",
              "      <th>4</th>\n",
              "      <td>Tobacco</td>\n",
              "      <td>67.058824</td>\n",
              "      <td>74.025974</td>\n",
              "      <td>70.370370</td>\n",
              "      <td>170</td>\n",
              "    </tr>\n",
              "  </tbody>\n",
              "</table>\n",
              "</div>\n",
              "      <button class=\"colab-df-convert\" onclick=\"convertToInteractive('df-1631bfe1-d1ab-4139-a779-49ed6fe1d102')\"\n",
              "              title=\"Convert this dataframe to an interactive table.\"\n",
              "              style=\"display:none;\">\n",
              "        \n",
              "  <svg xmlns=\"http://www.w3.org/2000/svg\" height=\"24px\"viewBox=\"0 0 24 24\"\n",
              "       width=\"24px\">\n",
              "    <path d=\"M0 0h24v24H0V0z\" fill=\"none\"/>\n",
              "    <path d=\"M18.56 5.44l.94 2.06.94-2.06 2.06-.94-2.06-.94-.94-2.06-.94 2.06-2.06.94zm-11 1L8.5 8.5l.94-2.06 2.06-.94-2.06-.94L8.5 2.5l-.94 2.06-2.06.94zm10 10l.94 2.06.94-2.06 2.06-.94-2.06-.94-.94-2.06-.94 2.06-2.06.94z\"/><path d=\"M17.41 7.96l-1.37-1.37c-.4-.4-.92-.59-1.43-.59-.52 0-1.04.2-1.43.59L10.3 9.45l-7.72 7.72c-.78.78-.78 2.05 0 2.83L4 21.41c.39.39.9.59 1.41.59.51 0 1.02-.2 1.41-.59l7.78-7.78 2.81-2.81c.8-.78.8-2.07 0-2.86zM5.41 20L4 18.59l7.72-7.72 1.47 1.35L5.41 20z\"/>\n",
              "  </svg>\n",
              "      </button>\n",
              "      \n",
              "  <style>\n",
              "    .colab-df-container {\n",
              "      display:flex;\n",
              "      flex-wrap:wrap;\n",
              "      gap: 12px;\n",
              "    }\n",
              "\n",
              "    .colab-df-convert {\n",
              "      background-color: #E8F0FE;\n",
              "      border: none;\n",
              "      border-radius: 50%;\n",
              "      cursor: pointer;\n",
              "      display: none;\n",
              "      fill: #1967D2;\n",
              "      height: 32px;\n",
              "      padding: 0 0 0 0;\n",
              "      width: 32px;\n",
              "    }\n",
              "\n",
              "    .colab-df-convert:hover {\n",
              "      background-color: #E2EBFA;\n",
              "      box-shadow: 0px 1px 2px rgba(60, 64, 67, 0.3), 0px 1px 3px 1px rgba(60, 64, 67, 0.15);\n",
              "      fill: #174EA6;\n",
              "    }\n",
              "\n",
              "    [theme=dark] .colab-df-convert {\n",
              "      background-color: #3B4455;\n",
              "      fill: #D2E3FC;\n",
              "    }\n",
              "\n",
              "    [theme=dark] .colab-df-convert:hover {\n",
              "      background-color: #434B5C;\n",
              "      box-shadow: 0px 1px 3px 1px rgba(0, 0, 0, 0.15);\n",
              "      filter: drop-shadow(0px 1px 2px rgba(0, 0, 0, 0.3));\n",
              "      fill: #FFFFFF;\n",
              "    }\n",
              "  </style>\n",
              "\n",
              "      <script>\n",
              "        const buttonEl =\n",
              "          document.querySelector('#df-1631bfe1-d1ab-4139-a779-49ed6fe1d102 button.colab-df-convert');\n",
              "        buttonEl.style.display =\n",
              "          google.colab.kernel.accessAllowed ? 'block' : 'none';\n",
              "\n",
              "        async function convertToInteractive(key) {\n",
              "          const element = document.querySelector('#df-1631bfe1-d1ab-4139-a779-49ed6fe1d102');\n",
              "          const dataTable =\n",
              "            await google.colab.kernel.invokeFunction('convertToInteractive',\n",
              "                                                     [key], {});\n",
              "          if (!dataTable) return;\n",
              "\n",
              "          const docLinkHtml = 'Like what you see? Visit the ' +\n",
              "            '<a target=\"_blank\" href=https://colab.research.google.com/notebooks/data_table.ipynb>data table notebook</a>'\n",
              "            + ' to learn more about interactive tables.';\n",
              "          element.innerHTML = '';\n",
              "          dataTable['output_type'] = 'display_data';\n",
              "          await google.colab.output.renderOutput(dataTable, element);\n",
              "          const docLink = document.createElement('div');\n",
              "          docLink.innerHTML = docLinkHtml;\n",
              "          element.appendChild(docLink);\n",
              "        }\n",
              "      </script>\n",
              "    </div>\n",
              "  </div>\n",
              "  "
            ]
          },
          "metadata": {},
          "execution_count": 31
        }
      ]
    },
    {
      "cell_type": "code",
      "source": [
        "!wget -q https://raw.githubusercontent.com/JohnSnowLabs/spark-nlp-workshop/master/tutorials/Certification_Trainings/Public/utils/ner_log_parser.py\n"
      ],
      "metadata": {
        "id": "ul7BLIF19fwV"
      },
      "execution_count": null,
      "outputs": []
    },
    {
      "cell_type": "code",
      "source": [
        "import ner_log_parser"
      ],
      "metadata": {
        "id": "VZKsyNt79vsD"
      },
      "execution_count": null,
      "outputs": []
    },
    {
      "cell_type": "code",
      "source": [
        "ner_log_parser.get_charts('/content/ner_dl_logs_model2/NerDLApproach_7a0ac9f52b9b.log')"
      ],
      "metadata": {
        "colab": {
          "base_uri": "https://localhost:8080/",
          "height": 1000
        },
        "id": "gJZY3Izr98s1",
        "outputId": "8c4873fc-21c0-4acc-d2d9-b727d17d8c8b"
      },
      "execution_count": null,
      "outputs": [
        {
          "output_type": "display_data",
          "data": {
            "text/plain": [
              "<Figure size 1440x1440 with 6 Axes>"
            ],
            "image/png": "[encoded data removed]"
          },
          "metadata": {
            "needs_background": "light"
          }
        },
        {
          "output_type": "display_data",
          "data": {
            "text/plain": [
              "<Figure size 1440x1440 with 6 Axes>"
            ],
            "image/png": "[encoded data removed]"
          },
          "metadata": {
            "needs_background": "light"
          }
        }
      ]
    },
    {
      "cell_type": "code",
      "source": [
        "ner_log_parser.loss_plot('/content/ner_dl_logs_model2/NerDLApproach_7a0ac9f52b9b.log')"
      ],
      "metadata": {
        "colab": {
          "base_uri": "https://localhost:8080/",
          "height": 513
        },
        "id": "87vpWC8q-g2e",
        "outputId": "09ef1197-cf2c-40e1-b9de-95b83212b12d"
      },
      "execution_count": null,
      "outputs": [
        {
          "output_type": "display_data",
          "data": {
            "text/plain": [
              "<Figure size 576x576 with 1 Axes>"
            ],
            "image/png": "[encoded data removed]"
          },
          "metadata": {
            "needs_background": "light"
          }
        }
      ]
    },
    {
      "cell_type": "code",
      "source": [
        "\n",
        "\n",
        "document = DocumentAssembler()\\\n",
        "        .setInputCol(\"text\")\\\n",
        "        .setOutputCol(\"document\")\n",
        "\n",
        "sentence = SentenceDetector()\\\n",
        "        .setInputCols(['document'])\\\n",
        "        .setOutputCol('sentence')\n",
        "\n",
        "token = Tokenizer()\\\n",
        "        .setInputCols(['sentence'])\\\n",
        "        .setOutputCol('token')\n",
        "\n",
        "bert_embedding = BertEmbeddings.pretrained('bert_base_cased', 'en')\\\n",
        "   .setInputCols([\"sentence\",'token'])\\\n",
        "   .setOutputCol(\"bert_embeddings\")\\\n",
        "   .setCaseSensitive(True)\n",
        "  \n",
        "# load trained model\n",
        "loaded_ner_model = NerDLModel.load(\"/content/drive/MyDrive/umass_ner_old/model_ner_dl_2\")\\\n",
        "        .setInputCols([\"sentence\", \"token\", \"bert_embeddings\"])\\\n",
        "        .setOutputCol(\"ner\")\n",
        "\n",
        "converter = NerConverter()\\\n",
        "        .setInputCols([\"document\", \"token\", \"ner\"])\\\n",
        "        .setOutputCol(\"ner_span\")\n",
        "\n",
        "ner_prediction_pipeline = Pipeline(stages = [\n",
        "        document,\n",
        "        sentence,\n",
        "        token,\n",
        "        bert_embedding,\n",
        "        loaded_ner_model,\n",
        "        converter\n",
        "])\n",
        "\n"
      ],
      "metadata": {
        "colab": {
          "base_uri": "https://localhost:8080/"
        },
        "id": "OnRBRKn0DYZV",
        "outputId": "bb15e636-796c-44fe-e05f-6e712b77a54f"
      },
      "execution_count": null,
      "outputs": [
        {
          "output_type": "stream",
          "name": "stdout",
          "text": [
            "bert_base_cased download started this may take some time.\n",
            "Approximate size to download 389.1 MB\n",
            "[OK!]\n"
          ]
        }
      ]
    },
    {
      "cell_type": "code",
      "source": [
        "\n",
        "empty_data = spark.createDataFrame([['']]).toDF(\"text\")\n",
        "\n",
        "prediction_model = ner_prediction_pipeline.fit(empty_data)\n",
        "\n"
      ],
      "metadata": {
        "id": "xWpzQ3AxAL_D"
      },
      "execution_count": null,
      "outputs": []
    },
    {
      "cell_type": "code",
      "source": [
        "pred_df= prediction_model.transform(test_data)"
      ],
      "metadata": {
        "id": "8JRzKgiJCr5p"
      },
      "execution_count": null,
      "outputs": []
    },
    {
      "cell_type": "code",
      "source": [
        "\n",
        "\n",
        "from sparknlp.base import LightPipeline\n",
        "\n",
        "light_model = LightPipeline(prediction_model)\n",
        "\n"
      ],
      "metadata": {
        "id": "_TJyi_EK_7rB"
      },
      "execution_count": null,
      "outputs": []
    },
    {
      "cell_type": "code",
      "source": [
        "text = \"\"\"Social History:\n",
        "Tob (-), EtOH - a glass of wine 1-2x/month, IVDU (-), lives with\n",
        "her husband and 9yr old daughter, does not work outside of the\n",
        "home.\"\"\""
      ],
      "metadata": {
        "id": "chls97aKDdnF"
      },
      "execution_count": null,
      "outputs": []
    },
    {
      "cell_type": "code",
      "source": [
        "\n",
        "\n",
        "import pandas as pd\n",
        "\n",
        "result = light_model.fullAnnotate(text)\n",
        "\n",
        "ner_df= pd.DataFrame([(int(x.metadata['sentence']), x.result, x.begin, x.end, y.result) for x,y in zip(result[0][\"token\"], result[0][\"ner\"])], \n",
        "                      columns=['sent_id','token','start','end','ner'])\n",
        "ner_df\n",
        "\n"
      ],
      "metadata": {
        "colab": {
          "base_uri": "https://localhost:8080/",
          "height": 1000
        },
        "id": "0PQRL6UO8Eia",
        "outputId": "bc20d8de-4e66-4028-dcd7-f9b1b45fbcfa"
      },
      "execution_count": null,
      "outputs": [
        {
          "output_type": "execute_result",
          "data": {
            "text/plain": [
              "    sent_id       token  start  end             ner\n",
              "0         0      Social      0    5               O\n",
              "1         0     History      7   13               O\n",
              "2         0           :     14   14               O\n",
              "3         0         Tob     16   18       B-Tobacco\n",
              "4         0        (-),     20   23               O\n",
              "5         0        EtOH     25   28       B-Alcohol\n",
              "6         0           -     30   30               O\n",
              "7         0           a     32   32               O\n",
              "8         0       glass     34   38               O\n",
              "9         0          of     40   41               O\n",
              "10        0        wine     43   46               O\n",
              "11        0  1-2x/month     48   57               O\n",
              "12        0           ,     58   58               O\n",
              "13        0        IVDU     60   63          B-Drug\n",
              "14        0        (-),     65   68               O\n",
              "15        0       lives     70   74  B-LivingStatus\n",
              "16        0        with     76   79               O\n",
              "17        0         her     81   83               O\n",
              "18        0     husband     85   91               O\n",
              "19        0         and     93   95               O\n",
              "20        0         9yr     97   99               O\n",
              "21        0         old    101  103               O\n",
              "22        0    daughter    105  112               O\n",
              "23        0           ,    113  113               O\n",
              "24        0        does    115  118               O\n",
              "25        0         not    120  122               O\n",
              "26        0        work    124  127    B-Employment\n",
              "27        0     outside    129  135               O\n",
              "28        0          of    137  138               O\n",
              "29        0         the    140  142               O\n",
              "30        0        home    144  147               O\n",
              "31        0           .    148  148               O"
            ],
            "text/html": [
              "\n",
              "  <div id=\"df-e96cfd51-a66e-450e-8e68-a8e8b7682cce\">\n",
              "    <div class=\"colab-df-container\">\n",
              "      <div>\n",
              "<style scoped>\n",
              "    .dataframe tbody tr th:only-of-type {\n",
              "        vertical-align: middle;\n",
              "    }\n",
              "\n",
              "    .dataframe tbody tr th {\n",
              "        vertical-align: top;\n",
              "    }\n",
              "\n",
              "    .dataframe thead th {\n",
              "        text-align: right;\n",
              "    }\n",
              "</style>\n",
              "<table border=\"1\" class=\"dataframe\">\n",
              "  <thead>\n",
              "    <tr style=\"text-align: right;\">\n",
              "      <th></th>\n",
              "      <th>sent_id</th>\n",
              "      <th>token</th>\n",
              "      <th>start</th>\n",
              "      <th>end</th>\n",
              "      <th>ner</th>\n",
              "    </tr>\n",
              "  </thead>\n",
              "  <tbody>\n",
              "    <tr>\n",
              "      <th>0</th>\n",
              "      <td>0</td>\n",
              "      <td>Social</td>\n",
              "      <td>0</td>\n",
              "      <td>5</td>\n",
              "      <td>O</td>\n",
              "    </tr>\n",
              "    <tr>\n",
              "      <th>1</th>\n",
              "      <td>0</td>\n",
              "      <td>History</td>\n",
              "      <td>7</td>\n",
              "      <td>13</td>\n",
              "      <td>O</td>\n",
              "    </tr>\n",
              "    <tr>\n",
              "      <th>2</th>\n",
              "      <td>0</td>\n",
              "      <td>:</td>\n",
              "      <td>14</td>\n",
              "      <td>14</td>\n",
              "      <td>O</td>\n",
              "    </tr>\n",
              "    <tr>\n",
              "      <th>3</th>\n",
              "      <td>0</td>\n",
              "      <td>Tob</td>\n",
              "      <td>16</td>\n",
              "      <td>18</td>\n",
              "      <td>B-Tobacco</td>\n",
              "    </tr>\n",
              "    <tr>\n",
              "      <th>4</th>\n",
              "      <td>0</td>\n",
              "      <td>(-),</td>\n",
              "      <td>20</td>\n",
              "      <td>23</td>\n",
              "      <td>O</td>\n",
              "    </tr>\n",
              "    <tr>\n",
              "      <th>5</th>\n",
              "      <td>0</td>\n",
              "      <td>EtOH</td>\n",
              "      <td>25</td>\n",
              "      <td>28</td>\n",
              "      <td>B-Alcohol</td>\n",
              "    </tr>\n",
              "    <tr>\n",
              "      <th>6</th>\n",
              "      <td>0</td>\n",
              "      <td>-</td>\n",
              "      <td>30</td>\n",
              "      <td>30</td>\n",
              "      <td>O</td>\n",
              "    </tr>\n",
              "    <tr>\n",
              "      <th>7</th>\n",
              "      <td>0</td>\n",
              "      <td>a</td>\n",
              "      <td>32</td>\n",
              "      <td>32</td>\n",
              "      <td>O</td>\n",
              "    </tr>\n",
              "    <tr>\n",
              "      <th>8</th>\n",
              "      <td>0</td>\n",
              "      <td>glass</td>\n",
              "      <td>34</td>\n",
              "      <td>38</td>\n",
              "      <td>O</td>\n",
              "    </tr>\n",
              "    <tr>\n",
              "      <th>9</th>\n",
              "      <td>0</td>\n",
              "      <td>of</td>\n",
              "      <td>40</td>\n",
              "      <td>41</td>\n",
              "      <td>O</td>\n",
              "    </tr>\n",
              "    <tr>\n",
              "      <th>10</th>\n",
              "      <td>0</td>\n",
              "      <td>wine</td>\n",
              "      <td>43</td>\n",
              "      <td>46</td>\n",
              "      <td>O</td>\n",
              "    </tr>\n",
              "    <tr>\n",
              "      <th>11</th>\n",
              "      <td>0</td>\n",
              "      <td>1-2x/month</td>\n",
              "      <td>48</td>\n",
              "      <td>57</td>\n",
              "      <td>O</td>\n",
              "    </tr>\n",
              "    <tr>\n",
              "      <th>12</th>\n",
              "      <td>0</td>\n",
              "      <td>,</td>\n",
              "      <td>58</td>\n",
              "      <td>58</td>\n",
              "      <td>O</td>\n",
              "    </tr>\n",
              "    <tr>\n",
              "      <th>13</th>\n",
              "      <td>0</td>\n",
              "      <td>IVDU</td>\n",
              "      <td>60</td>\n",
              "      <td>63</td>\n",
              "      <td>B-Drug</td>\n",
              "    </tr>\n",
              "    <tr>\n",
              "      <th>14</th>\n",
              "      <td>0</td>\n",
              "      <td>(-),</td>\n",
              "      <td>65</td>\n",
              "      <td>68</td>\n",
              "      <td>O</td>\n",
              "    </tr>\n",
              "    <tr>\n",
              "      <th>15</th>\n",
              "      <td>0</td>\n",
              "      <td>lives</td>\n",
              "      <td>70</td>\n",
              "      <td>74</td>\n",
              "      <td>B-LivingStatus</td>\n",
              "    </tr>\n",
              "    <tr>\n",
              "      <th>16</th>\n",
              "      <td>0</td>\n",
              "      <td>with</td>\n",
              "      <td>76</td>\n",
              "      <td>79</td>\n",
              "      <td>O</td>\n",
              "    </tr>\n",
              "    <tr>\n",
              "      <th>17</th>\n",
              "      <td>0</td>\n",
              "      <td>her</td>\n",
              "      <td>81</td>\n",
              "      <td>83</td>\n",
              "      <td>O</td>\n",
              "    </tr>\n",
              "    <tr>\n",
              "      <th>18</th>\n",
              "      <td>0</td>\n",
              "      <td>husband</td>\n",
              "      <td>85</td>\n",
              "      <td>91</td>\n",
              "      <td>O</td>\n",
              "    </tr>\n",
              "    <tr>\n",
              "      <th>19</th>\n",
              "      <td>0</td>\n",
              "      <td>and</td>\n",
              "      <td>93</td>\n",
              "      <td>95</td>\n",
              "      <td>O</td>\n",
              "    </tr>\n",
              "    <tr>\n",
              "      <th>20</th>\n",
              "      <td>0</td>\n",
              "      <td>9yr</td>\n",
              "      <td>97</td>\n",
              "      <td>99</td>\n",
              "      <td>O</td>\n",
              "    </tr>\n",
              "    <tr>\n",
              "      <th>21</th>\n",
              "      <td>0</td>\n",
              "      <td>old</td>\n",
              "      <td>101</td>\n",
              "      <td>103</td>\n",
              "      <td>O</td>\n",
              "    </tr>\n",
              "    <tr>\n",
              "      <th>22</th>\n",
              "      <td>0</td>\n",
              "      <td>daughter</td>\n",
              "      <td>105</td>\n",
              "      <td>112</td>\n",
              "      <td>O</td>\n",
              "    </tr>\n",
              "    <tr>\n",
              "      <th>23</th>\n",
              "      <td>0</td>\n",
              "      <td>,</td>\n",
              "      <td>113</td>\n",
              "      <td>113</td>\n",
              "      <td>O</td>\n",
              "    </tr>\n",
              "    <tr>\n",
              "      <th>24</th>\n",
              "      <td>0</td>\n",
              "      <td>does</td>\n",
              "      <td>115</td>\n",
              "      <td>118</td>\n",
              "      <td>O</td>\n",
              "    </tr>\n",
              "    <tr>\n",
              "      <th>25</th>\n",
              "      <td>0</td>\n",
              "      <td>not</td>\n",
              "      <td>120</td>\n",
              "      <td>122</td>\n",
              "      <td>O</td>\n",
              "    </tr>\n",
              "    <tr>\n",
              "      <th>26</th>\n",
              "      <td>0</td>\n",
              "      <td>work</td>\n",
              "      <td>124</td>\n",
              "      <td>127</td>\n",
              "      <td>B-Employment</td>\n",
              "    </tr>\n",
              "    <tr>\n",
              "      <th>27</th>\n",
              "      <td>0</td>\n",
              "      <td>outside</td>\n",
              "      <td>129</td>\n",
              "      <td>135</td>\n",
              "      <td>O</td>\n",
              "    </tr>\n",
              "    <tr>\n",
              "      <th>28</th>\n",
              "      <td>0</td>\n",
              "      <td>of</td>\n",
              "      <td>137</td>\n",
              "      <td>138</td>\n",
              "      <td>O</td>\n",
              "    </tr>\n",
              "    <tr>\n",
              "      <th>29</th>\n",
              "      <td>0</td>\n",
              "      <td>the</td>\n",
              "      <td>140</td>\n",
              "      <td>142</td>\n",
              "      <td>O</td>\n",
              "    </tr>\n",
              "    <tr>\n",
              "      <th>30</th>\n",
              "      <td>0</td>\n",
              "      <td>home</td>\n",
              "      <td>144</td>\n",
              "      <td>147</td>\n",
              "      <td>O</td>\n",
              "    </tr>\n",
              "    <tr>\n",
              "      <th>31</th>\n",
              "      <td>0</td>\n",
              "      <td>.</td>\n",
              "      <td>148</td>\n",
              "      <td>148</td>\n",
              "      <td>O</td>\n",
              "    </tr>\n",
              "  </tbody>\n",
              "</table>\n",
              "</div>\n",
              "      <button class=\"colab-df-convert\" onclick=\"convertToInteractive('df-e96cfd51-a66e-450e-8e68-a8e8b7682cce')\"\n",
              "              title=\"Convert this dataframe to an interactive table.\"\n",
              "              style=\"display:none;\">\n",
              "        \n",
              "  <svg xmlns=\"http://www.w3.org/2000/svg\" height=\"24px\"viewBox=\"0 0 24 24\"\n",
              "       width=\"24px\">\n",
              "    <path d=\"M0 0h24v24H0V0z\" fill=\"none\"/>\n",
              "    <path d=\"M18.56 5.44l.94 2.06.94-2.06 2.06-.94-2.06-.94-.94-2.06-.94 2.06-2.06.94zm-11 1L8.5 8.5l.94-2.06 2.06-.94-2.06-.94L8.5 2.5l-.94 2.06-2.06.94zm10 10l.94 2.06.94-2.06 2.06-.94-2.06-.94-.94-2.06-.94 2.06-2.06.94z\"/><path d=\"M17.41 7.96l-1.37-1.37c-.4-.4-.92-.59-1.43-.59-.52 0-1.04.2-1.43.59L10.3 9.45l-7.72 7.72c-.78.78-.78 2.05 0 2.83L4 21.41c.39.39.9.59 1.41.59.51 0 1.02-.2 1.41-.59l7.78-7.78 2.81-2.81c.8-.78.8-2.07 0-2.86zM5.41 20L4 18.59l7.72-7.72 1.47 1.35L5.41 20z\"/>\n",
              "  </svg>\n",
              "      </button>\n",
              "      \n",
              "  <style>\n",
              "    .colab-df-container {\n",
              "      display:flex;\n",
              "      flex-wrap:wrap;\n",
              "      gap: 12px;\n",
              "    }\n",
              "\n",
              "    .colab-df-convert {\n",
              "      background-color: #E8F0FE;\n",
              "      border: none;\n",
              "      border-radius: 50%;\n",
              "      cursor: pointer;\n",
              "      display: none;\n",
              "      fill: #1967D2;\n",
              "      height: 32px;\n",
              "      padding: 0 0 0 0;\n",
              "      width: 32px;\n",
              "    }\n",
              "\n",
              "    .colab-df-convert:hover {\n",
              "      background-color: #E2EBFA;\n",
              "      box-shadow: 0px 1px 2px rgba(60, 64, 67, 0.3), 0px 1px 3px 1px rgba(60, 64, 67, 0.15);\n",
              "      fill: #174EA6;\n",
              "    }\n",
              "\n",
              "    [theme=dark] .colab-df-convert {\n",
              "      background-color: #3B4455;\n",
              "      fill: #D2E3FC;\n",
              "    }\n",
              "\n",
              "    [theme=dark] .colab-df-convert:hover {\n",
              "      background-color: #434B5C;\n",
              "      box-shadow: 0px 1px 3px 1px rgba(0, 0, 0, 0.15);\n",
              "      filter: drop-shadow(0px 1px 2px rgba(0, 0, 0, 0.3));\n",
              "      fill: #FFFFFF;\n",
              "    }\n",
              "  </style>\n",
              "\n",
              "      <script>\n",
              "        const buttonEl =\n",
              "          document.querySelector('#df-e96cfd51-a66e-450e-8e68-a8e8b7682cce button.colab-df-convert');\n",
              "        buttonEl.style.display =\n",
              "          google.colab.kernel.accessAllowed ? 'block' : 'none';\n",
              "\n",
              "        async function convertToInteractive(key) {\n",
              "          const element = document.querySelector('#df-e96cfd51-a66e-450e-8e68-a8e8b7682cce');\n",
              "          const dataTable =\n",
              "            await google.colab.kernel.invokeFunction('convertToInteractive',\n",
              "                                                     [key], {});\n",
              "          if (!dataTable) return;\n",
              "\n",
              "          const docLinkHtml = 'Like what you see? Visit the ' +\n",
              "            '<a target=\"_blank\" href=https://colab.research.google.com/notebooks/data_table.ipynb>data table notebook</a>'\n",
              "            + ' to learn more about interactive tables.';\n",
              "          element.innerHTML = '';\n",
              "          dataTable['output_type'] = 'display_data';\n",
              "          await google.colab.output.renderOutput(dataTable, element);\n",
              "          const docLink = document.createElement('div');\n",
              "          docLink.innerHTML = docLinkHtml;\n",
              "          element.appendChild(docLink);\n",
              "        }\n",
              "      </script>\n",
              "    </div>\n",
              "  </div>\n",
              "  "
            ]
          },
          "metadata": {},
          "execution_count": 53
        }
      ]
    },
    {
      "cell_type": "code",
      "source": [
        "from sparknlp_display import NerVisualizer\n",
        "\n",
        "visualiser = NerVisualizer()\n",
        "\n",
        "visualiser.display(result[0], label_col='ner_span', document_col='document', save_path=\"display_result.html\")"
      ],
      "metadata": {
        "colab": {
          "base_uri": "https://localhost:8080/",
          "height": 207
        },
        "id": "5Ml7tlqCDqMz",
        "outputId": "dfbaa63e-d736-44e5-acc7-5a092a9a3a66"
      },
      "execution_count": null,
      "outputs": [
        {
          "output_type": "display_data",
          "data": {
            "text/plain": [
              "<IPython.core.display.HTML object>"
            ],
            "text/html": [
              "\n",
              "<style>\n",
              "    @import url('https://fonts.googleapis.com/css2?family=Montserrat:wght@300;400;500;600;700&display=swap');\n",
              "    @import url('https://fonts.googleapis.com/css2?family=Vistol Regular:wght@300;400;500;600;700&display=swap');\n",
              "    \n",
              "    .spark-nlp-display-scroll-entities {\n",
              "        border: 1px solid #E7EDF0;\n",
              "        border-radius: 3px;\n",
              "        text-align: justify;\n",
              "        \n",
              "    }\n",
              "    .spark-nlp-display-scroll-entities span {  \n",
              "        font-size: 14px;\n",
              "        line-height: 24px;\n",
              "        color: #536B76;\n",
              "        font-family: 'Montserrat', sans-serif !important;\n",
              "    }\n",
              "    \n",
              "    .spark-nlp-display-entity-wrapper{\n",
              "    \n",
              "        display: inline-grid;\n",
              "        text-align: center;\n",
              "        border-radius: 4px;\n",
              "        margin: 0 2px 5px 2px;\n",
              "        padding: 1px\n",
              "    }\n",
              "    .spark-nlp-display-entity-name{\n",
              "        font-size: 14px;\n",
              "        line-height: 24px;\n",
              "        font-family: 'Montserrat', sans-serif !important;\n",
              "        \n",
              "        background: #f1f2f3;\n",
              "        border-width: medium;\n",
              "        text-align: center;\n",
              "        \n",
              "        font-weight: 400;\n",
              "        \n",
              "        border-radius: 5px;\n",
              "        padding: 2px 5px;\n",
              "        display: block;\n",
              "        margin: 3px 2px;\n",
              "    \n",
              "    }\n",
              "    .spark-nlp-display-entity-type{\n",
              "        font-size: 14px;\n",
              "        line-height: 24px;\n",
              "        color: #ffffff;\n",
              "        font-family: 'Montserrat', sans-serif !important;\n",
              "        \n",
              "        text-transform: uppercase;\n",
              "        \n",
              "        font-weight: 500;\n",
              "\n",
              "        display: block;\n",
              "        padding: 3px 5px;\n",
              "    }\n",
              "    \n",
              "    .spark-nlp-display-entity-resolution{\n",
              "        font-size: 14px;\n",
              "        line-height: 24px;\n",
              "        color: #ffffff;\n",
              "        font-family: 'Vistol Regular', sans-serif !important;\n",
              "        \n",
              "        text-transform: uppercase;\n",
              "        \n",
              "        font-weight: 500;\n",
              "\n",
              "        display: block;\n",
              "        padding: 3px 5px;\n",
              "    }\n",
              "    \n",
              "    .spark-nlp-display-others{\n",
              "        font-size: 14px;\n",
              "        line-height: 24px;\n",
              "        font-family: 'Montserrat', sans-serif !important;\n",
              "        \n",
              "        font-weight: 400;\n",
              "    }\n",
              "\n",
              "</style>\n",
              " <span class=\"spark-nlp-display-others\" style=\"background-color: white\">Social History:<br></span><span class=\"spark-nlp-display-entity-wrapper\" style=\"background-color: #9D7E65\"><span class=\"spark-nlp-display-entity-name\">Tob </span><span class=\"spark-nlp-display-entity-type\">Tobacco</span></span><span class=\"spark-nlp-display-others\" style=\"background-color: white\"> (-), </span><span class=\"spark-nlp-display-entity-wrapper\" style=\"background-color: #01BB88\"><span class=\"spark-nlp-display-entity-name\">EtOH </span><span class=\"spark-nlp-display-entity-type\">Alcohol</span></span><span class=\"spark-nlp-display-others\" style=\"background-color: white\"> - a glass of wine 1-2x/month, </span><span class=\"spark-nlp-display-entity-wrapper\" style=\"background-color: #8B668B\"><span class=\"spark-nlp-display-entity-name\">IVDU </span><span class=\"spark-nlp-display-entity-type\">Drug</span></span><span class=\"spark-nlp-display-others\" style=\"background-color: white\"> (-), </span><span class=\"spark-nlp-display-entity-wrapper\" style=\"background-color: #445416\"><span class=\"spark-nlp-display-entity-name\">lives </span><span class=\"spark-nlp-display-entity-type\">LivingStatus</span></span><span class=\"spark-nlp-display-others\" style=\"background-color: white\"> with<br>her husband and 9yr old daughter, does not </span><span class=\"spark-nlp-display-entity-wrapper\" style=\"background-color: #37006F\"><span class=\"spark-nlp-display-entity-name\">work </span><span class=\"spark-nlp-display-entity-type\">Employment</span></span><span class=\"spark-nlp-display-others\" style=\"background-color: white\"> outside of the<br>home.</span></div>"
            ]
          },
          "metadata": {}
        }
      ]
    },
    {
      "cell_type": "code",
      "source": [
        "Social History: Tob, EtOH - a glass of wine 1-2x/month, IVDU lives with\n",
        "her husband and 9yr old daughter, does not work outside of the home"
      ],
      "metadata": {
        "id": "AIWqtqyb5RFU"
      },
      "execution_count": null,
      "outputs": []
    }
  ]
}