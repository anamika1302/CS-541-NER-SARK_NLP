{
  "nbformat": 4,
  "nbformat_minor": 0,
  "metadata": {
    "colab": {
      "name": "Copy of NER-Model1.ipynb",
      "provenance": [],
      "machine_shape": "hm",
      "collapsed_sections": [],
      "mount_file_id": "1Zi6eWcF-Wr7k8LLu5CRcVRZh0qmO0MA4",
      "authorship_tag": "ABX9TyMBYD32QZS+RGGqIwfDkg+u",
      "include_colab_link": true
    },
    "kernelspec": {
      "name": "python3",
      "display_name": "Python 3"
    },
    "language_info": {
      "name": "python"
    },
    "accelerator": "GPU"
  },
  "cells": [
    {
      "cell_type": "markdown",
      "metadata": {
        "id": "view-in-github",
        "colab_type": "text"
      },
      "source": [
        "<a href=\"https://colab.research.google.com/github/anamika1302/CS-541-NER-SARK_NLP/blob/main/NER_Model1.ipynb\" target=\"_parent\"><img src=\"https://colab.research.google.com/assets/colab-badge.svg\" alt=\"Open In Colab\"/></a>"
      ]
    },
    {
      "cell_type": "markdown",
      "source": [
        "# **Training NER MODEL 1 on enitities :**\n",
        "# **Duration,Amount,History, Frequency, Method **"
      ],
      "metadata": {
        "id": "tnRJF4jaYCLg"
      }
    },
    {
      "cell_type": "code",
      "execution_count": null,
      "metadata": {
        "colab": {
          "resources": {
            "http://localhost:8080/nbextensions/google.colab/files.js": {
              "data": "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",
              "ok": true,
              "headers": [
                [
                  "content-type",
                  "application/javascript"
                ]
              ],
              "status": 200,
              "status_text": "OK"
            }
          },
          "base_uri": "https://localhost:8080/",
          "height": 73
        },
        "id": "NS3mp2mgXxJW",
        "outputId": "0ea97028-1b77-4072-8ba2-cb047d351491"
      },
      "outputs": [
        {
          "output_type": "display_data",
          "data": {
            "text/plain": [
              "<IPython.core.display.HTML object>"
            ],
            "text/html": [
              "\n",
              "     <input type=\"file\" id=\"files-5d018adb-7bb6-4db2-8f3e-8c349a0f3760\" name=\"files[]\" multiple disabled\n",
              "        style=\"border:none\" />\n",
              "     <output id=\"result-5d018adb-7bb6-4db2-8f3e-8c349a0f3760\">\n",
              "      Upload widget is only available when the cell has been executed in the\n",
              "      current browser session. Please rerun this cell to enable.\n",
              "      </output>\n",
              "      <script src=\"/nbextensions/google.colab/files.js\"></script> "
            ]
          },
          "metadata": {}
        },
        {
          "output_type": "stream",
          "name": "stdout",
          "text": [
            "Saving spark_nlp_for_healthcare_spark_ocr_4700.json to spark_nlp_for_healthcare_spark_ocr_4700.json\n"
          ]
        }
      ],
      "source": [
        "import json\n",
        "\n",
        "from google.colab import files\n",
        "\n",
        "license_keys = files.upload()\n",
        "\n",
        "with open(list(license_keys.keys())[0]) as f:\n",
        "    license_keys = json.load(f)\n",
        "\n",
        "# Defining license key-value pairs as local variables\n",
        "locals().update(license_keys)\n",
        "\n",
        "# Adding license key-value pairs to environment variables\n",
        "import os\n",
        "os.environ.update(license_keys)\n",
        "\n"
      ]
    },
    {
      "cell_type": "code",
      "source": [
        "# Installing pyspark and spark-nlp\n",
        "! pip install --upgrade -q pyspark==3.1.2 spark-nlp==$PUBLIC_VERSION\n",
        "\n",
        "# Installing Spark NLP Display Library for visualization\n",
        "! pip install -q spark-nlp-display\n",
        "\n"
      ],
      "metadata": {
        "colab": {
          "base_uri": "https://localhost:8080/"
        },
        "id": "K1EoJEKpYFG9",
        "outputId": "1ac4ab9a-c11f-409b-ca7e-379232c6efbd"
      },
      "execution_count": null,
      "outputs": [
        {
          "output_type": "stream",
          "name": "stdout",
          "text": [
            "\u001b[K     |████████████████████████████████| 212.4 MB 73 kB/s \n",
            "\u001b[K     |████████████████████████████████| 142 kB 20.8 MB/s \n",
            "\u001b[K     |████████████████████████████████| 198 kB 61.7 MB/s \n",
            "\u001b[?25h  Building wheel for pyspark (setup.py) ... \u001b[?25l\u001b[?25hdone\n",
            "\u001b[K     |████████████████████████████████| 95 kB 3.3 MB/s \n",
            "\u001b[K     |████████████████████████████████| 66 kB 5.0 MB/s \n",
            "\u001b[?25h"
          ]
        }
      ]
    },
    {
      "cell_type": "code",
      "source": [
        "# Installing pyspark and spark-nlp\n",
        "! pip install --upgrade -q pyspark==3.1.2 spark-nlp==$PUBLIC_VERSION\n",
        "\n",
        "# Installing Spark NLP Healthcare\n",
        "! pip install --upgrade -q spark-nlp-jsl==$JSL_VERSION  --extra-index-url https://pypi.johnsnowlabs.com/$SECRET\n",
        "\n",
        "# Installing Spark NLP Display Library for visualization\n",
        "! pip install -q spark-nlp-display"
      ],
      "metadata": {
        "colab": {
          "base_uri": "https://localhost:8080/"
        },
        "id": "S-pCva5zNzJa",
        "outputId": "6094bad9-2a59-48ba-8cd5-6528c0f33bae"
      },
      "execution_count": null,
      "outputs": [
        {
          "output_type": "stream",
          "name": "stdout",
          "text": [
            "\u001b[?25l\r\u001b[K     |█▊                              | 10 kB 34.0 MB/s eta 0:00:01\r\u001b[K     |███▌                            | 20 kB 38.6 MB/s eta 0:00:01\r\u001b[K     |█████▎                          | 30 kB 45.5 MB/s eta 0:00:01\r\u001b[K     |███████                         | 40 kB 9.3 MB/s eta 0:00:01\r\u001b[K     |████████▊                       | 51 kB 11.2 MB/s eta 0:00:01\r\u001b[K     |██████████▌                     | 61 kB 13.0 MB/s eta 0:00:01\r\u001b[K     |████████████▏                   | 71 kB 14.0 MB/s eta 0:00:01\r\u001b[K     |██████████████                  | 81 kB 13.1 MB/s eta 0:00:01\r\u001b[K     |███████████████▊                | 92 kB 14.3 MB/s eta 0:00:01\r\u001b[K     |█████████████████▍              | 102 kB 11.8 MB/s eta 0:00:01\r\u001b[K     |███████████████████▏            | 112 kB 11.8 MB/s eta 0:00:01\r\u001b[K     |█████████████████████           | 122 kB 11.8 MB/s eta 0:00:01\r\u001b[K     |██████████████████████▋         | 133 kB 11.8 MB/s eta 0:00:01\r\u001b[K     |████████████████████████▍       | 143 kB 11.8 MB/s eta 0:00:01\r\u001b[K     |██████████████████████████▏     | 153 kB 11.8 MB/s eta 0:00:01\r\u001b[K     |███████████████████████████▉    | 163 kB 11.8 MB/s eta 0:00:01\r\u001b[K     |█████████████████████████████▋  | 174 kB 11.8 MB/s eta 0:00:01\r\u001b[K     |███████████████████████████████▍| 184 kB 11.8 MB/s eta 0:00:01\r\u001b[K     |████████████████████████████████| 188 kB 11.8 MB/s \n",
            "\u001b[?25h"
          ]
        }
      ]
    },
    {
      "cell_type": "code",
      "source": [
        "import sparknlp\n",
        "import os\n",
        "\n",
        "spark = sparknlp.start(gpu = True) # for GPU training >> sparknlp.start(gpu = True)\n",
        "\n",
        "from sparknlp.base import *\n",
        "from sparknlp.annotator import *\n",
        "\n",
        "print(\"Spark NLP version\", sparknlp.version())\n",
        "\n",
        "print(\"Apache Spark version:\", spark.version)\n",
        "\n",
        "spark\n",
        "\n"
      ],
      "metadata": {
        "colab": {
          "base_uri": "https://localhost:8080/",
          "height": 254
        },
        "id": "7Lc1eheFYNXA",
        "outputId": "b34a288a-4704-41d1-df03-a29f52346868"
      },
      "execution_count": null,
      "outputs": [
        {
          "output_type": "stream",
          "name": "stdout",
          "text": [
            "Spark NLP version 3.4.2\n",
            "Apache Spark version: 3.1.2\n"
          ]
        },
        {
          "output_type": "execute_result",
          "data": {
            "text/plain": [
              "<pyspark.sql.session.SparkSession at 0x7f41719d16d0>"
            ],
            "text/html": [
              "\n",
              "            <div>\n",
              "                <p><b>SparkSession - in-memory</b></p>\n",
              "                \n",
              "        <div>\n",
              "            <p><b>SparkContext</b></p>\n",
              "\n",
              "            <p><a href=\"http://0f23f074d348:4040\">Spark UI</a></p>\n",
              "\n",
              "            <dl>\n",
              "              <dt>Version</dt>\n",
              "                <dd><code>v3.1.2</code></dd>\n",
              "              <dt>Master</dt>\n",
              "                <dd><code>local[*]</code></dd>\n",
              "              <dt>AppName</dt>\n",
              "                <dd><code>Spark NLP</code></dd>\n",
              "            </dl>\n",
              "        </div>\n",
              "        \n",
              "            </div>\n",
              "        "
            ]
          },
          "metadata": {},
          "execution_count": 4
        }
      ]
    },
    {
      "cell_type": "code",
      "source": [
        "\n",
        "with open('/content/drive/MyDrive/umass_ner/NER_MODEL_1/train_ner_model1.conll') as f:\n",
        "    train_txt =f.read()\n",
        "\n",
        "print (train_txt[:500])\n",
        "\n"
      ],
      "metadata": {
        "colab": {
          "base_uri": "https://localhost:8080/"
        },
        "id": "15uA1IJPYXFL",
        "outputId": "9a7e506b-c02d-4570-d182-342e5b351616"
      },
      "execution_count": null,
      "outputs": [
        {
          "output_type": "stream",
          "name": "stdout",
          "text": [
            "-DOCSTART- -X- -X- O\n",
            "\n",
            "Social NN NN O\n",
            "History NN NN O\n",
            ": NN NN O\n",
            "Tob NN NN O\n",
            "(-), NN NN O\n",
            "EtOH NN NN O\n",
            "- NN NN O\n",
            "a NNP NNP B-Amount\n",
            "glass NNP NNP I-Amount\n",
            "of NN NN O\n",
            "wine NN NN O\n",
            "1-2x/month NNP NNP B-Frequency\n",
            ", NN NN O\n",
            "IVDU NN NN O\n",
            "(-), NN NN O\n",
            "lives NN NN O\n",
            "with NN NN O\n",
            "her NN NN O\n",
            "husband NN NN O\n",
            "and NN NN O\n",
            "9yr NN NN O\n",
            "old NN NN O\n",
            "daughter NN NN O\n",
            ", NN NN O\n",
            "does NN NN O\n",
            "not NN NN O\n",
            "work NN NN O\n",
            "outside NN NN O\n",
            "of NN NN O\n",
            "the NN NN O\n",
            "home NN NN O\n",
            ". NN NN O\n",
            "\n",
            "SOCIAL NN NN O\n",
            "HISTORY NN NN O\n",
            ": NN N\n"
          ]
        }
      ]
    },
    {
      "cell_type": "code",
      "source": [
        "from sparknlp.training import CoNLL\n",
        "\n",
        "training_data = CoNLL().readDataset(spark, '/content/drive/MyDrive/umass_ner/NER_MODEL_1/train_ner_model1.conll')\n",
        "\n",
        "training_data.show(3)\n",
        "\n"
      ],
      "metadata": {
        "colab": {
          "base_uri": "https://localhost:8080/"
        },
        "id": "-hKBLPynfgVw",
        "outputId": "d29207ab-feb9-4088-de77-de32504dccb4"
      },
      "execution_count": null,
      "outputs": [
        {
          "output_type": "stream",
          "name": "stdout",
          "text": [
            "+--------------------+--------------------+--------------------+--------------------+--------------------+--------------------+\n",
            "|                text|            document|            sentence|               token|                 pos|               label|\n",
            "+--------------------+--------------------+--------------------+--------------------+--------------------+--------------------+\n",
            "|Social History : ...|[{document, 0, 15...|[{document, 0, 15...|[{token, 0, 5, So...|[{pos, 0, 5, NN, ...|[{named_entity, 0...|\n",
            "|SOCIAL HISTORY : ...|[{document, 0, 14...|[{document, 0, 14...|[{token, 0, 5, SO...|[{pos, 0, 5, NN, ...|[{named_entity, 0...|\n",
            "|Social History : ...|[{document, 0, 12...|[{document, 0, 12...|[{token, 0, 5, So...|[{pos, 0, 5, NN, ...|[{named_entity, 0...|\n",
            "+--------------------+--------------------+--------------------+--------------------+--------------------+--------------------+\n",
            "only showing top 3 rows\n",
            "\n"
          ]
        }
      ]
    },
    {
      "cell_type": "code",
      "source": [
        "training_data.count()"
      ],
      "metadata": {
        "colab": {
          "base_uri": "https://localhost:8080/"
        },
        "id": "p3DXDDBgYp5m",
        "outputId": "1168884f-8f24-4a16-cd91-202047a614da"
      },
      "execution_count": null,
      "outputs": [
        {
          "output_type": "execute_result",
          "data": {
            "text/plain": [
              "1316"
            ]
          },
          "metadata": {},
          "execution_count": 14
        }
      ]
    },
    {
      "cell_type": "code",
      "source": [
        "import pyspark.sql.functions as F\n",
        "\n",
        "training_data.select(F.explode(F.arrays_zip('token.result', 'pos.result',  'label.result')).alias(\"cols\")) \\\n",
        ".select(F.expr(\"cols['0']\").alias(\"token\"),\n",
        "        F.expr(\"cols['1']\").alias(\"pos\"),\n",
        "        F.expr(\"cols['2']\").alias(\"ner_label\")).limit(100).show()"
      ],
      "metadata": {
        "colab": {
          "base_uri": "https://localhost:8080/"
        },
        "id": "6LDvgrXmYuV0",
        "outputId": "bbf00030-e894-4f43-cb98-24cbf1976222"
      },
      "execution_count": null,
      "outputs": [
        {
          "output_type": "stream",
          "name": "stdout",
          "text": [
            "+----------+---+-----------+\n",
            "|     token|pos|  ner_label|\n",
            "+----------+---+-----------+\n",
            "|    Social| NN|          O|\n",
            "|   History| NN|          O|\n",
            "|         :| NN|          O|\n",
            "|       Tob| NN|          O|\n",
            "|      (-),| NN|          O|\n",
            "|      EtOH| NN|          O|\n",
            "|         -| NN|          O|\n",
            "|         a|NNP|   B-Amount|\n",
            "|     glass|NNP|   I-Amount|\n",
            "|        of| NN|          O|\n",
            "|      wine| NN|          O|\n",
            "|1-2x/month|NNP|B-Frequency|\n",
            "|         ,| NN|          O|\n",
            "|      IVDU| NN|          O|\n",
            "|      (-),| NN|          O|\n",
            "|     lives| NN|          O|\n",
            "|      with| NN|          O|\n",
            "|       her| NN|          O|\n",
            "|   husband| NN|          O|\n",
            "|       and| NN|          O|\n",
            "+----------+---+-----------+\n",
            "only showing top 20 rows\n",
            "\n"
          ]
        }
      ]
    },
    {
      "cell_type": "code",
      "source": [
        "training_data.select(F.explode(F.arrays_zip('token.result','label.result')).alias(\"cols\")) \\\n",
        ".select(F.expr(\"cols['0']\").alias(\"token\"),\n",
        "        F.expr(\"cols['1']\").alias(\"ground_truth\")).groupBy('ground_truth').count().orderBy('count', ascending=False).show(100,truncate=False)"
      ],
      "metadata": {
        "colab": {
          "base_uri": "https://localhost:8080/"
        },
        "id": "2baSrIu4Yw5J",
        "outputId": "591ccfb5-60f8-4581-9694-5f969cb36e5c"
      },
      "execution_count": null,
      "outputs": [
        {
          "output_type": "stream",
          "name": "stdout",
          "text": [
            "+------------+-----+\n",
            "|ground_truth|count|\n",
            "+------------+-----+\n",
            "|O           |63424|\n",
            "|I-Amount    |1229 |\n",
            "|I-History   |1218 |\n",
            "|I-Duration  |1029 |\n",
            "|B-Amount    |917  |\n",
            "|B-History   |606  |\n",
            "|B-Frequency |545  |\n",
            "|B-Duration  |492  |\n",
            "|I-Frequency |440  |\n",
            "|B-Method    |199  |\n",
            "|I-Method    |15   |\n",
            "+------------+-----+\n",
            "\n"
          ]
        }
      ]
    },
    {
      "cell_type": "code",
      "source": [
        "test_data = CoNLL().readDataset(spark, '/content/drive/MyDrive/umass_ner/NER_MODEL_1/test_ner_model1.conll')\n",
        "\n",
        "test_data.select(F.explode(F.arrays_zip('token.result','label.result')).alias(\"cols\")) \\\n",
        ".select(F.expr(\"cols['0']\").alias(\"token\"),\n",
        "        F.expr(\"cols['1']\").alias(\"ground_truth\")).groupBy('ground_truth').count().orderBy('count', ascending=False).show(100,truncate=False)\n"
      ],
      "metadata": {
        "colab": {
          "base_uri": "https://localhost:8080/"
        },
        "id": "0mlN7j3aY2GR",
        "outputId": "6570f0fe-0159-4a2e-e13f-86c306b4b581"
      },
      "execution_count": null,
      "outputs": [
        {
          "output_type": "stream",
          "name": "stdout",
          "text": [
            "+------------+-----+\n",
            "|ground_truth|count|\n",
            "+------------+-----+\n",
            "|O           |3032 |\n",
            "|I-History   |68   |\n",
            "|I-Amount    |48   |\n",
            "|I-Duration  |46   |\n",
            "|B-Amount    |38   |\n",
            "|B-History   |37   |\n",
            "|B-Frequency |25   |\n",
            "|B-Duration  |18   |\n",
            "|I-Frequency |17   |\n",
            "|B-Method    |6    |\n",
            "+------------+-----+\n",
            "\n"
          ]
        }
      ]
    },
    {
      "cell_type": "code",
      "source": [
        "import pyspark.sql.functions as F\n",
        "\n",
        "test_data.select(F.explode(F.arrays_zip('token.result', 'pos.result',  'label.result')).alias(\"cols\")) \\\n",
        ".select(F.expr(\"cols['0']\").alias(\"token\"),\n",
        "        F.expr(\"cols['1']\").alias(\"pos\"),\n",
        "        F.expr(\"cols['2']\").alias(\"ner_label\")).limit(100).show()"
      ],
      "metadata": {
        "colab": {
          "base_uri": "https://localhost:8080/"
        },
        "id": "mfNZl_xDy1xh",
        "outputId": "d6248688-cfd1-400e-e858-d87e551b21a4"
      },
      "execution_count": null,
      "outputs": [
        {
          "output_type": "stream",
          "name": "stdout",
          "text": [
            "+---------+---+---------+\n",
            "|    token|pos|ner_label|\n",
            "+---------+---+---------+\n",
            "|   SOCIAL| NN|        O|\n",
            "|  HISTORY| NN|        O|\n",
            "|        :| NN|        O|\n",
            "|    Lives| NN|        O|\n",
            "|     with| NN|        O|\n",
            "|      his| NN|        O|\n",
            "|   caring| NN|        O|\n",
            "|      and| NN|        O|\n",
            "|  devoted| NN|        O|\n",
            "|  parents| NN|        O|\n",
            "|       at| NN|        O|\n",
            "|     home| NN|        O|\n",
            "|        .| NN|        O|\n",
            "|   Enjoys| NN|        O|\n",
            "|   movies| NN|        O|\n",
            "|      and| NN|        O|\n",
            "|computers| NN|        O|\n",
            "|        .| NN|        O|\n",
            "|       No| NN|        O|\n",
            "|  history| NN|        O|\n",
            "+---------+---+---------+\n",
            "only showing top 20 rows\n",
            "\n"
          ]
        }
      ]
    },
    {
      "cell_type": "code",
      "source": [
        "bert_embedding = BertEmbeddings.pretrained('bert_base_cased', 'en')\\\n",
        "   .setInputCols([\"sentence\",'token'])\\\n",
        "   .setOutputCol(\"bert_embeddings\")\\\n",
        "   .setCaseSensitive(True)"
      ],
      "metadata": {
        "colab": {
          "base_uri": "https://localhost:8080/"
        },
        "id": "Mo7a3PT50n0F",
        "outputId": "1f13bde8-3d46-44a0-e8cc-902ff4c9b883"
      },
      "execution_count": null,
      "outputs": [
        {
          "output_type": "stream",
          "name": "stdout",
          "text": [
            "bert_base_cased download started this may take some time.\n",
            "Approximate size to download 389.1 MB\n",
            "[OK!]\n"
          ]
        }
      ]
    },
    {
      "cell_type": "code",
      "source": [
        "# bert_embedding.transform(test_data).write.parquet('/content/drive/MyDrive/umass_ner/NER_MODEL_1/test_data_bert_embedding.parquet')"
      ],
      "metadata": {
        "id": "bqcVs5CjZQhi"
      },
      "execution_count": null,
      "outputs": []
    },
    {
      "cell_type": "code",
      "source": [
        "# !rm -r /content/drive/MyDrive/umass_ner/NER_MODEL_1/test_data_bert_embedding.parquet"
      ],
      "metadata": {
        "id": "CbVTZ0tD_IQq"
      },
      "execution_count": null,
      "outputs": []
    },
    {
      "cell_type": "code",
      "source": [
        "# !mkdir /root/ner_logs_model1"
      ],
      "metadata": {
        "id": "GZQuSE7OHzBz"
      },
      "execution_count": null,
      "outputs": []
    },
    {
      "cell_type": "code",
      "source": [
        "# !rm -r /root/ner_logs_model1/"
      ],
      "metadata": {
        "id": "WrmqPxJuKipo"
      },
      "execution_count": null,
      "outputs": []
    },
    {
      "cell_type": "code",
      "source": [
        "nerTagger = NerDLApproach()\\\n",
        "      .setInputCols([\"sentence\", \"token\", \"bert_embeddings\"])\\\n",
        "      .setLabelColumn(\"label\")\\\n",
        "      .setOutputCol(\"ner\")\\\n",
        "      .setMaxEpochs(20)\\\n",
        "      .setLr(0.0002)\\\n",
        "      .setBatchSize(16)\\\n",
        "      .setRandomSeed(0)\\\n",
        "      .setVerbose(1)\\\n",
        "      .setEvaluationLogExtended(True) \\\n",
        "      .setEnableOutputLogs(True)\\\n",
        "      .setIncludeConfidence(True)\\\n",
        "      .setUseBestModel(True)\\\n",
        "      .setTestDataset('/content/drive/MyDrive/umass_ner/NER_MODEL_1/test_data_bert_embedding.parquet')\\\n",
        "      .setOutputLogsPath('./ner_dl_logs_model1')# if not set, logs will be written to ~/annotator_logs\n",
        " #    .setGraphFolder('graphs') >> put your graph file (pb) under this folder if you are using a custom graph generated thru 4.1 NerDL-Graph.ipynb notebook\n",
        " #    .setEnableMemoryOptimizer() >> if you have a limited memory and a large conll file, you can set this True to train batch by batch \n",
        "    \n",
        "# do hyperparameter by tuning the params above (max epoch, LR, dropout etc.) to get better results\n",
        "ner_pipeline = Pipeline(stages=[\n",
        "      bert_embedding,\n",
        "      nerTagger\n",
        " ])\n",
        "\n"
      ],
      "metadata": {
        "id": "D83P5kd3ZCCq"
      },
      "execution_count": null,
      "outputs": []
    },
    {
      "cell_type": "code",
      "source": [
        "ner_model = ner_pipeline.fit(training_data)"
      ],
      "metadata": {
        "id": "KOUbUvsyZG26"
      },
      "execution_count": null,
      "outputs": []
    },
    {
      "cell_type": "code",
      "source": [
        "!cd /root/ner_logs_model1 && ls -lt"
      ],
      "metadata": {
        "colab": {
          "base_uri": "https://localhost:8080/"
        },
        "id": "bu0WDE21ZJuF",
        "outputId": "a41e6ec4-9e6c-4fb8-a945-cd97980ca36f"
      },
      "execution_count": null,
      "outputs": [
        {
          "output_type": "stream",
          "name": "stdout",
          "text": [
            "/bin/bash: line 0: cd: /root/ner_logs_model1: No such file or directory\n"
          ]
        }
      ]
    },
    {
      "cell_type": "code",
      "source": [
        "!cat /content/ner_dl_logs_model1/NerDLApproach_23f0b883d940.log"
      ],
      "metadata": {
        "id": "W5aop-1ndH8Q",
        "colab": {
          "base_uri": "https://localhost:8080/"
        },
        "outputId": "f9092bbf-86de-4955-c8f3-544a16609364"
      },
      "execution_count": null,
      "outputs": [
        {
          "output_type": "stream",
          "name": "stdout",
          "text": [
            "Name of the selected graph: ner-dl/blstm_38_768_128_200.pb\n",
            "Training started - total epochs: 20 - lr: 2.0E-4 - batch size: 16 - labels: 11 - chars: 89 - training examples: 1316\n",
            "\n",
            "\n",
            "Epoch 1/20 started, lr: 2.0E-4, dataset size: 1316\n",
            "\n",
            "\n",
            "Epoch 1/20 - 25.52s - loss: 2787.8171 - batches: 85\n",
            "Quality on test dataset: \n",
            "time to finish evaluation: 1.05s\n",
            "label\t tp\t fp\t fn\t prec\t rec\t f1\n",
            "I-Amount\t 6\t 0\t 42\t 1.0\t 0.125\t 0.22222222\n",
            "B-History\t 0\t 0\t 37\t 0.0\t 0.0\t 0.0\n",
            "I-History\t 15\t 9\t 53\t 0.625\t 0.22058824\t 0.32608697\n",
            "B-Frequency\t 11\t 3\t 14\t 0.78571427\t 0.44\t 0.5641026\n",
            "I-Duration\t 1\t 1\t 45\t 0.5\t 0.02173913\t 0.041666668\n",
            "B-Method\t 0\t 0\t 6\t 0.0\t 0.0\t 0.0\n",
            "I-Frequency\t 8\t 0\t 9\t 1.0\t 0.47058824\t 0.64\n",
            "B-Duration\t 1\t 0\t 17\t 1.0\t 0.055555556\t 0.10526316\n",
            "B-Amount\t 7\t 1\t 31\t 0.875\t 0.18421052\t 0.3043478\n",
            "tp: 49 fp: 14 fn: 254 labels: 9\n",
            "Macro-average\t prec: 0.64285713, rec: 0.1686313, f1: 0.26717776\n",
            "Micro-average\t prec: 0.7777778, rec: 0.16171618, f1: 0.2677596\n",
            "\n",
            "\n",
            "Epoch 2/20 started, lr: 1.9900496E-4, dataset size: 1316\n",
            "\n",
            "\n",
            "Epoch 2/20 - 16.85s - loss: 1242.1656 - batches: 85\n",
            "Quality on test dataset: \n",
            "time to finish evaluation: 0.62s\n",
            "label\t tp\t fp\t fn\t prec\t rec\t f1\n",
            "I-Amount\t 36\t 24\t 12\t 0.6\t 0.75\t 0.6666667\n",
            "B-History\t 4\t 4\t 33\t 0.5\t 0.10810811\t 0.17777778\n",
            "I-History\t 29\t 6\t 39\t 0.82857144\t 0.42647058\t 0.5631068\n",
            "B-Frequency\t 18\t 8\t 7\t 0.6923077\t 0.72\t 0.7058824\n",
            "I-Duration\t 25\t 28\t 21\t 0.4716981\t 0.54347825\t 0.50505054\n",
            "B-Method\t 0\t 0\t 6\t 0.0\t 0.0\t 0.0\n",
            "I-Frequency\t 15\t 3\t 2\t 0.8333333\t 0.88235295\t 0.8571428\n",
            "B-Duration\t 8\t 4\t 10\t 0.6666667\t 0.44444445\t 0.5333333\n",
            "B-Amount\t 24\t 10\t 14\t 0.7058824\t 0.6315789\t 0.6666667\n",
            "tp: 159 fp: 87 fn: 144 labels: 9\n",
            "Macro-average\t prec: 0.5887177, rec: 0.50071484, f1: 0.5411619\n",
            "Micro-average\t prec: 0.64634144, rec: 0.5247525, f1: 0.579235\n",
            "\n",
            "\n",
            "Epoch 3/20 started, lr: 1.980198E-4, dataset size: 1316\n",
            "\n",
            "\n",
            "Epoch 3/20 - 16.69s - loss: 937.0405 - batches: 85\n",
            "Quality on test dataset: \n",
            "time to finish evaluation: 0.62s\n",
            "label\t tp\t fp\t fn\t prec\t rec\t f1\n",
            "I-Amount\t 32\t 13\t 16\t 0.7111111\t 0.6666667\t 0.68817204\n",
            "B-History\t 11\t 5\t 26\t 0.6875\t 0.2972973\t 0.41509435\n",
            "I-History\t 33\t 11\t 35\t 0.75\t 0.4852941\t 0.58928573\n",
            "B-Frequency\t 19\t 8\t 6\t 0.7037037\t 0.76\t 0.7307693\n",
            "I-Duration\t 20\t 9\t 26\t 0.6896552\t 0.4347826\t 0.5333333\n",
            "B-Method\t 0\t 0\t 6\t 0.0\t 0.0\t 0.0\n",
            "I-Frequency\t 15\t 4\t 2\t 0.7894737\t 0.88235295\t 0.83333343\n",
            "B-Duration\t 9\t 3\t 9\t 0.75\t 0.5\t 0.6\n",
            "B-Amount\t 28\t 13\t 10\t 0.68292683\t 0.7368421\t 0.70886075\n",
            "tp: 167 fp: 66 fn: 136 labels: 9\n",
            "Macro-average\t prec: 0.6404855, rec: 0.5292484, f1: 0.5795778\n",
            "Micro-average\t prec: 0.7167382, rec: 0.5511551, f1: 0.6231343\n",
            "\n",
            "\n",
            "Epoch 4/20 started, lr: 1.9704433E-4, dataset size: 1316\n",
            "\n",
            "\n",
            "Epoch 4/20 - 16.57s - loss: 793.116 - batches: 85\n",
            "Quality on test dataset: \n",
            "time to finish evaluation: 0.60s\n",
            "label\t tp\t fp\t fn\t prec\t rec\t f1\n",
            "I-Amount\t 38\t 13\t 10\t 0.74509805\t 0.7916667\t 0.76767683\n",
            "B-History\t 15\t 7\t 22\t 0.6818182\t 0.4054054\t 0.50847465\n",
            "I-History\t 38\t 11\t 30\t 0.7755102\t 0.5588235\t 0.6495727\n",
            "B-Frequency\t 21\t 8\t 4\t 0.7241379\t 0.84\t 0.77777773\n",
            "I-Duration\t 30\t 15\t 16\t 0.6666667\t 0.65217394\t 0.6593407\n",
            "B-Method\t 0\t 0\t 6\t 0.0\t 0.0\t 0.0\n",
            "I-Frequency\t 16\t 4\t 1\t 0.8\t 0.9411765\t 0.8648649\n",
            "B-Duration\t 12\t 7\t 6\t 0.6315789\t 0.6666667\t 0.6486486\n",
            "B-Amount\t 30\t 13\t 8\t 0.6976744\t 0.7894737\t 0.7407408\n",
            "tp: 200 fp: 78 fn: 103 labels: 9\n",
            "Macro-average\t prec: 0.6358316, rec: 0.62726516, f1: 0.6315193\n",
            "Micro-average\t prec: 0.7194245, rec: 0.660066, f1: 0.68846816\n",
            "\n",
            "\n",
            "Epoch 5/20 started, lr: 1.9607843E-4, dataset size: 1316\n",
            "\n",
            "\n",
            "Epoch 5/20 - 16.13s - loss: 678.2189 - batches: 85\n",
            "Quality on test dataset: \n",
            "time to finish evaluation: 0.58s\n",
            "label\t tp\t fp\t fn\t prec\t rec\t f1\n",
            "I-Amount\t 39\t 14\t 9\t 0.7358491\t 0.8125\t 0.77227724\n",
            "B-History\t 18\t 10\t 19\t 0.64285713\t 0.4864865\t 0.5538461\n",
            "I-History\t 41\t 17\t 27\t 0.70689654\t 0.60294116\t 0.6507936\n",
            "B-Frequency\t 22\t 6\t 3\t 0.78571427\t 0.88\t 0.83018863\n",
            "I-Duration\t 30\t 14\t 16\t 0.6818182\t 0.65217394\t 0.6666667\n",
            "B-Method\t 1\t 0\t 5\t 1.0\t 0.16666667\t 0.2857143\n",
            "I-Frequency\t 16\t 5\t 1\t 0.7619048\t 0.9411765\t 0.84210527\n",
            "B-Duration\t 12\t 6\t 6\t 0.6666667\t 0.6666667\t 0.6666667\n",
            "B-Amount\t 31\t 12\t 7\t 0.7209302\t 0.81578946\t 0.76543206\n",
            "tp: 210 fp: 84 fn: 93 labels: 9\n",
            "Macro-average\t prec: 0.7447374, rec: 0.66937786, f1: 0.70504963\n",
            "Micro-average\t prec: 0.71428573, rec: 0.6930693, f1: 0.70351756\n",
            "\n",
            "\n",
            "Epoch 6/20 started, lr: 1.9512195E-4, dataset size: 1316\n",
            "\n",
            "\n",
            "Epoch 6/20 - 16.03s - loss: 612.6212 - batches: 85\n",
            "Quality on test dataset: \n",
            "time to finish evaluation: 0.60s\n",
            "label\t tp\t fp\t fn\t prec\t rec\t f1\n",
            "I-Amount\t 38\t 11\t 10\t 0.7755102\t 0.7916667\t 0.7835052\n",
            "B-History\t 18\t 11\t 19\t 0.62068963\t 0.4864865\t 0.54545456\n",
            "I-History\t 47\t 22\t 21\t 0.68115944\t 0.6911765\t 0.6861314\n",
            "B-Frequency\t 23\t 5\t 2\t 0.8214286\t 0.92\t 0.8679245\n",
            "I-Duration\t 32\t 12\t 14\t 0.72727275\t 0.6956522\t 0.71111107\n",
            "B-Method\t 3\t 0\t 3\t 1.0\t 0.5\t 0.6666667\n",
            "I-Frequency\t 17\t 6\t 0\t 0.73913044\t 1.0\t 0.84999996\n",
            "B-Duration\t 12\t 6\t 6\t 0.6666667\t 0.6666667\t 0.6666667\n",
            "B-Amount\t 31\t 11\t 7\t 0.7380952\t 0.81578946\t 0.7749999\n",
            "tp: 221 fp: 84 fn: 82 labels: 9\n",
            "Macro-average\t prec: 0.752217, rec: 0.72971535, f1: 0.7407953\n",
            "Micro-average\t prec: 0.7245902, rec: 0.7293729, f1: 0.7269737\n",
            "\n",
            "\n",
            "Epoch 7/20 started, lr: 1.9417476E-4, dataset size: 1316\n",
            "\n",
            "\n",
            "Epoch 7/20 - 16.19s - loss: 563.3468 - batches: 85\n",
            "Quality on test dataset: \n",
            "time to finish evaluation: 0.62s\n",
            "label\t tp\t fp\t fn\t prec\t rec\t f1\n",
            "I-Amount\t 38\t 9\t 10\t 0.80851066\t 0.7916667\t 0.8000001\n",
            "B-History\t 16\t 9\t 21\t 0.64\t 0.43243244\t 0.5161291\n",
            "I-History\t 31\t 10\t 37\t 0.75609756\t 0.45588234\t 0.5688073\n",
            "B-Frequency\t 23\t 5\t 2\t 0.8214286\t 0.92\t 0.8679245\n",
            "I-Duration\t 30\t 10\t 16\t 0.75\t 0.65217394\t 0.6976744\n",
            "B-Method\t 1\t 0\t 5\t 1.0\t 0.16666667\t 0.2857143\n",
            "I-Frequency\t 17\t 6\t 0\t 0.73913044\t 1.0\t 0.84999996\n",
            "B-Duration\t 13\t 4\t 5\t 0.7647059\t 0.7222222\t 0.74285716\n",
            "B-Amount\t 31\t 11\t 7\t 0.7380952\t 0.81578946\t 0.7749999\n",
            "tp: 200 fp: 64 fn: 103 labels: 9\n",
            "Macro-average\t prec: 0.77977425, rec: 0.6618704, f1: 0.71600103\n",
            "Micro-average\t prec: 0.75757575, rec: 0.660066, f1: 0.7054674\n",
            "\n",
            "\n",
            "Epoch 8/20 started, lr: 1.9323672E-4, dataset size: 1316\n",
            "\n",
            "\n",
            "Epoch 8/20 - 15.87s - loss: 515.2921 - batches: 85\n",
            "Quality on test dataset: \n",
            "time to finish evaluation: 0.58s\n",
            "label\t tp\t fp\t fn\t prec\t rec\t f1\n",
            "I-Amount\t 41\t 13\t 7\t 0.7592593\t 0.8541667\t 0.8039216\n",
            "B-History\t 20\t 9\t 17\t 0.6896552\t 0.5405405\t 0.60606056\n",
            "I-History\t 49\t 18\t 19\t 0.73134327\t 0.7205882\t 0.7259259\n",
            "B-Frequency\t 23\t 5\t 2\t 0.8214286\t 0.92\t 0.8679245\n",
            "I-Duration\t 34\t 17\t 12\t 0.6666667\t 0.73913044\t 0.7010309\n",
            "B-Method\t 3\t 1\t 3\t 0.75\t 0.5\t 0.6\n",
            "I-Frequency\t 17\t 5\t 0\t 0.77272725\t 1.0\t 0.8717949\n",
            "B-Duration\t 14\t 7\t 4\t 0.6666667\t 0.7777778\t 0.7179488\n",
            "B-Amount\t 33\t 15\t 5\t 0.6875\t 0.8684211\t 0.7674418\n",
            "tp: 234 fp: 90 fn: 69 labels: 9\n",
            "Macro-average\t prec: 0.7272496, rec: 0.76895833, f1: 0.74752265\n",
            "Micro-average\t prec: 0.7222222, rec: 0.77227724, f1: 0.7464115\n",
            "\n",
            "\n",
            "Epoch 9/20 started, lr: 1.9230769E-4, dataset size: 1316\n",
            "\n",
            "\n",
            "Epoch 9/20 - 16.68s - loss: 471.99988 - batches: 85\n",
            "Quality on test dataset: \n",
            "time to finish evaluation: 0.61s\n",
            "label\t tp\t fp\t fn\t prec\t rec\t f1\n",
            "I-Amount\t 46\t 17\t 2\t 0.73015875\t 0.9583333\t 0.8288289\n",
            "B-History\t 20\t 9\t 17\t 0.6896552\t 0.5405405\t 0.60606056\n",
            "I-History\t 48\t 20\t 20\t 0.7058824\t 0.7058824\t 0.7058824\n",
            "B-Frequency\t 24\t 6\t 1\t 0.8\t 0.96\t 0.8727273\n",
            "I-Duration\t 33\t 11\t 13\t 0.75\t 0.7173913\t 0.7333334\n",
            "B-Method\t 3\t 2\t 3\t 0.6\t 0.5\t 0.54545456\n",
            "I-Frequency\t 17\t 7\t 0\t 0.7083333\t 1.0\t 0.82926834\n",
            "B-Duration\t 13\t 5\t 5\t 0.7222222\t 0.7222222\t 0.72222215\n",
            "B-Amount\t 32\t 11\t 6\t 0.74418604\t 0.84210527\t 0.79012346\n",
            "tp: 236 fp: 88 fn: 67 labels: 9\n",
            "Macro-average\t prec: 0.71671534, rec: 0.7718306, f1: 0.74325264\n",
            "Micro-average\t prec: 0.72839504, rec: 0.7788779, f1: 0.7527911\n",
            "\n",
            "\n",
            "Epoch 10/20 started, lr: 1.9138756E-4, dataset size: 1316\n",
            "\n",
            "\n",
            "Epoch 10/20 - 16.26s - loss: 437.37503 - batches: 85\n",
            "Quality on test dataset: \n",
            "time to finish evaluation: 0.59s\n",
            "label\t tp\t fp\t fn\t prec\t rec\t f1\n",
            "I-Amount\t 47\t 19\t 1\t 0.7121212\t 0.9791667\t 0.8245614\n",
            "B-History\t 27\t 13\t 10\t 0.675\t 0.7297297\t 0.7012987\n",
            "I-History\t 55\t 23\t 13\t 0.7051282\t 0.8088235\t 0.7534246\n",
            "B-Frequency\t 24\t 5\t 1\t 0.82758623\t 0.96\t 0.8888889\n",
            "I-Duration\t 37\t 23\t 9\t 0.6166667\t 0.8043478\t 0.6981132\n",
            "B-Method\t 3\t 3\t 3\t 0.5\t 0.5\t 0.5\n",
            "I-Frequency\t 17\t 7\t 0\t 0.7083333\t 1.0\t 0.82926834\n",
            "B-Duration\t 15\t 10\t 3\t 0.6\t 0.8333333\t 0.6976744\n",
            "B-Amount\t 37\t 15\t 1\t 0.71153843\t 0.9736842\t 0.82222223\n",
            "tp: 262 fp: 118 fn: 41 labels: 9\n",
            "Macro-average\t prec: 0.6729305, rec: 0.84323174, f1: 0.7485167\n",
            "Micro-average\t prec: 0.6894737, rec: 0.8646865, f1: 0.76720357\n",
            "\n",
            "\n",
            "Epoch 11/20 started, lr: 1.9047619E-4, dataset size: 1316\n",
            "\n",
            "\n",
            "Epoch 11/20 - 16.27s - loss: 416.5454 - batches: 85\n",
            "Quality on test dataset: \n",
            "time to finish evaluation: 0.58s\n",
            "label\t tp\t fp\t fn\t prec\t rec\t f1\n",
            "I-Amount\t 46\t 19\t 2\t 0.7076923\t 0.9583333\t 0.8141593\n",
            "B-History\t 23\t 8\t 14\t 0.7419355\t 0.6216216\t 0.6764706\n",
            "I-History\t 50\t 20\t 18\t 0.71428573\t 0.7352941\t 0.7246377\n",
            "B-Frequency\t 23\t 5\t 2\t 0.8214286\t 0.92\t 0.8679245\n",
            "I-Duration\t 35\t 17\t 11\t 0.6730769\t 0.76086956\t 0.71428573\n",
            "B-Method\t 3\t 3\t 3\t 0.5\t 0.5\t 0.5\n",
            "I-Frequency\t 17\t 5\t 0\t 0.77272725\t 1.0\t 0.8717949\n",
            "B-Duration\t 15\t 8\t 3\t 0.65217394\t 0.8333333\t 0.7317073\n",
            "B-Amount\t 32\t 11\t 6\t 0.74418604\t 0.84210527\t 0.79012346\n",
            "tp: 244 fp: 96 fn: 59 labels: 9\n",
            "Macro-average\t prec: 0.7030563, rec: 0.7968397, f1: 0.747016\n",
            "Micro-average\t prec: 0.7176471, rec: 0.8052805, f1: 0.7589425\n",
            "\n",
            "\n",
            "Epoch 12/20 started, lr: 1.8957346E-4, dataset size: 1316\n",
            "\n",
            "\n",
            "Epoch 12/20 - 16.26s - loss: 376.4462 - batches: 85\n",
            "Quality on test dataset: \n",
            "time to finish evaluation: 0.58s\n",
            "label\t tp\t fp\t fn\t prec\t rec\t f1\n",
            "I-Amount\t 45\t 15\t 3\t 0.75\t 0.9375\t 0.8333333\n",
            "B-History\t 22\t 9\t 15\t 0.7096774\t 0.5945946\t 0.64705884\n",
            "I-History\t 46\t 17\t 22\t 0.73015875\t 0.6764706\t 0.70229006\n",
            "B-Frequency\t 23\t 5\t 2\t 0.8214286\t 0.92\t 0.8679245\n",
            "I-Duration\t 32\t 13\t 14\t 0.7111111\t 0.6956522\t 0.7032967\n",
            "B-Method\t 2\t 0\t 4\t 1.0\t 0.33333334\t 0.5\n",
            "I-Frequency\t 17\t 4\t 0\t 0.8095238\t 1.0\t 0.8947368\n",
            "B-Duration\t 13\t 7\t 5\t 0.65\t 0.7222222\t 0.68421054\n",
            "B-Amount\t 34\t 8\t 4\t 0.8095238\t 0.8947368\t 0.85\n",
            "tp: 234 fp: 78 fn: 69 labels: 9\n",
            "Macro-average\t prec: 0.77682483, rec: 0.75272334, f1: 0.76458424\n",
            "Micro-average\t prec: 0.75, rec: 0.77227724, f1: 0.7609756\n",
            "\n",
            "\n",
            "Epoch 13/20 started, lr: 1.8867925E-4, dataset size: 1316\n",
            "\n",
            "\n",
            "Epoch 13/20 - 15.94s - loss: 356.764 - batches: 85\n",
            "Quality on test dataset: \n",
            "time to finish evaluation: 0.65s\n",
            "label\t tp\t fp\t fn\t prec\t rec\t f1\n",
            "I-Amount\t 45\t 10\t 3\t 0.8181818\t 0.9375\t 0.87378645\n",
            "B-History\t 20\t 9\t 17\t 0.6896552\t 0.5405405\t 0.60606056\n",
            "I-History\t 39\t 15\t 29\t 0.7222222\t 0.5735294\t 0.6393443\n",
            "B-Frequency\t 23\t 3\t 2\t 0.88461536\t 0.92\t 0.9019608\n",
            "I-Duration\t 31\t 9\t 15\t 0.775\t 0.67391306\t 0.7209302\n",
            "B-Method\t 3\t 1\t 3\t 0.75\t 0.5\t 0.6\n",
            "I-Frequency\t 17\t 5\t 0\t 0.77272725\t 1.0\t 0.8717949\n",
            "B-Duration\t 13\t 3\t 5\t 0.8125\t 0.7222222\t 0.76470584\n",
            "B-Amount\t 33\t 6\t 5\t 0.84615386\t 0.8684211\t 0.8571429\n",
            "tp: 224 fp: 61 fn: 79 labels: 9\n",
            "Macro-average\t prec: 0.7856729, rec: 0.7484585, f1: 0.7666143\n",
            "Micro-average\t prec: 0.7859649, rec: 0.7392739, f1: 0.7619048\n",
            "\n",
            "\n",
            "Epoch 14/20 started, lr: 1.8779341E-4, dataset size: 1316\n",
            "\n",
            "\n",
            "Epoch 14/20 - 16.34s - loss: 326.9123 - batches: 85\n",
            "Quality on test dataset: \n",
            "time to finish evaluation: 0.59s\n",
            "label\t tp\t fp\t fn\t prec\t rec\t f1\n",
            "I-Amount\t 45\t 13\t 3\t 0.7758621\t 0.9375\t 0.84905666\n",
            "B-History\t 29\t 12\t 8\t 0.70731705\t 0.7837838\t 0.74358976\n",
            "I-History\t 55\t 25\t 13\t 0.6875\t 0.8088235\t 0.74324316\n",
            "B-Frequency\t 24\t 5\t 1\t 0.82758623\t 0.96\t 0.8888889\n",
            "I-Duration\t 34\t 15\t 12\t 0.6938776\t 0.73913044\t 0.7157895\n",
            "B-Method\t 3\t 1\t 3\t 0.75\t 0.5\t 0.6\n",
            "I-Frequency\t 17\t 5\t 0\t 0.77272725\t 1.0\t 0.8717949\n",
            "B-Duration\t 14\t 8\t 4\t 0.6363636\t 0.7777778\t 0.7\n",
            "B-Amount\t 35\t 10\t 3\t 0.7777778\t 0.92105263\t 0.84337354\n",
            "tp: 256 fp: 94 fn: 47 labels: 9\n",
            "Macro-average\t prec: 0.7365568, rec: 0.82534087, f1: 0.7784254\n",
            "Micro-average\t prec: 0.73142856, rec: 0.8448845, f1: 0.78407353\n",
            "\n",
            "\n",
            "Epoch 15/20 started, lr: 1.8691587E-4, dataset size: 1316\n",
            "\n",
            "\n",
            "Epoch 15/20 - 16.27s - loss: 304.593 - batches: 85\n",
            "Quality on test dataset: \n",
            "time to finish evaluation: 0.61s\n",
            "label\t tp\t fp\t fn\t prec\t rec\t f1\n",
            "I-Amount\t 46\t 21\t 2\t 0.6865672\t 0.9583333\t 0.8\n",
            "B-History\t 26\t 12\t 11\t 0.68421054\t 0.7027027\t 0.6933333\n",
            "I-History\t 51\t 24\t 17\t 0.68\t 0.75\t 0.71328664\n",
            "B-Frequency\t 24\t 5\t 1\t 0.82758623\t 0.96\t 0.8888889\n",
            "I-Duration\t 29\t 15\t 17\t 0.65909094\t 0.6304348\t 0.64444447\n",
            "B-Method\t 3\t 2\t 3\t 0.6\t 0.5\t 0.54545456\n",
            "I-Frequency\t 17\t 7\t 0\t 0.7083333\t 1.0\t 0.82926834\n",
            "B-Duration\t 13\t 7\t 5\t 0.65\t 0.7222222\t 0.68421054\n",
            "B-Amount\t 34\t 10\t 4\t 0.77272725\t 0.8947368\t 0.82926834\n",
            "tp: 243 fp: 103 fn: 60 labels: 9\n",
            "Macro-average\t prec: 0.69650173, rec: 0.7909367, f1: 0.74072146\n",
            "Micro-average\t prec: 0.7023121, rec: 0.8019802, f1: 0.7488444\n",
            "\n",
            "\n",
            "Epoch 16/20 started, lr: 1.860465E-4, dataset size: 1316\n",
            "\n",
            "\n",
            "Epoch 16/20 - 15.94s - loss: 289.46094 - batches: 85\n",
            "Quality on test dataset: \n",
            "time to finish evaluation: 0.63s\n",
            "label\t tp\t fp\t fn\t prec\t rec\t f1\n",
            "I-Amount\t 44\t 11\t 4\t 0.8\t 0.9166667\t 0.8543689\n",
            "B-History\t 24\t 6\t 13\t 0.8\t 0.6486486\t 0.7164179\n",
            "I-History\t 46\t 18\t 22\t 0.71875\t 0.6764706\t 0.69696975\n",
            "B-Frequency\t 23\t 4\t 2\t 0.8518519\t 0.92\t 0.8846154\n",
            "I-Duration\t 36\t 16\t 10\t 0.6923077\t 0.7826087\t 0.7346939\n",
            "B-Method\t 2\t 1\t 4\t 0.6666667\t 0.33333334\t 0.44444448\n",
            "I-Frequency\t 17\t 4\t 0\t 0.8095238\t 1.0\t 0.8947368\n",
            "B-Duration\t 16\t 9\t 2\t 0.64\t 0.8888889\t 0.74418604\n",
            "B-Amount\t 35\t 9\t 3\t 0.79545456\t 0.92105263\t 0.85365856\n",
            "tp: 243 fp: 78 fn: 60 labels: 9\n",
            "Macro-average\t prec: 0.7527282, rec: 0.7875188, f1: 0.7697306\n",
            "Micro-average\t prec: 0.7570093, rec: 0.8019802, f1: 0.77884614\n",
            "\n",
            "\n",
            "Epoch 17/20 started, lr: 1.8518517E-4, dataset size: 1316\n",
            "\n",
            "\n",
            "Epoch 17/20 - 16.05s - loss: 265.26874 - batches: 85\n",
            "Quality on test dataset: \n",
            "time to finish evaluation: 0.58s\n",
            "label\t tp\t fp\t fn\t prec\t rec\t f1\n",
            "I-Amount\t 45\t 10\t 3\t 0.8181818\t 0.9375\t 0.87378645\n",
            "B-History\t 29\t 13\t 8\t 0.6904762\t 0.7837838\t 0.73417723\n",
            "I-History\t 54\t 26\t 14\t 0.675\t 0.7941176\t 0.7297297\n",
            "B-Frequency\t 24\t 4\t 1\t 0.85714287\t 0.96\t 0.9056604\n",
            "I-Duration\t 29\t 14\t 17\t 0.6744186\t 0.6304348\t 0.6516854\n",
            "B-Method\t 3\t 0\t 3\t 1.0\t 0.5\t 0.6666667\n",
            "I-Frequency\t 17\t 6\t 0\t 0.73913044\t 1.0\t 0.84999996\n",
            "B-Duration\t 13\t 6\t 5\t 0.68421054\t 0.7222222\t 0.7027027\n",
            "B-Amount\t 35\t 10\t 3\t 0.7777778\t 0.92105263\t 0.84337354\n",
            "tp: 249 fp: 89 fn: 54 labels: 9\n",
            "Macro-average\t prec: 0.76848197, rec: 0.8054568, f1: 0.786535\n",
            "Micro-average\t prec: 0.7366864, rec: 0.8217822, f1: 0.7769111\n",
            "\n",
            "\n",
            "Epoch 18/20 started, lr: 1.8433179E-4, dataset size: 1316\n",
            "\n",
            "\n",
            "Epoch 18/20 - 16.01s - loss: 246.26326 - batches: 85\n",
            "Quality on test dataset: \n",
            "time to finish evaluation: 0.58s\n",
            "label\t tp\t fp\t fn\t prec\t rec\t f1\n",
            "I-Amount\t 45\t 13\t 3\t 0.7758621\t 0.9375\t 0.84905666\n",
            "B-History\t 29\t 13\t 8\t 0.6904762\t 0.7837838\t 0.73417723\n",
            "I-History\t 52\t 23\t 16\t 0.6933333\t 0.7647059\t 0.7272727\n",
            "B-Frequency\t 23\t 4\t 2\t 0.8518519\t 0.92\t 0.8846154\n",
            "I-Duration\t 31\t 14\t 15\t 0.6888889\t 0.67391306\t 0.68131864\n",
            "B-Method\t 3\t 3\t 3\t 0.5\t 0.5\t 0.5\n",
            "I-Frequency\t 17\t 4\t 0\t 0.8095238\t 1.0\t 0.8947368\n",
            "B-Duration\t 13\t 6\t 5\t 0.68421054\t 0.7222222\t 0.7027027\n",
            "B-Amount\t 36\t 9\t 2\t 0.8\t 0.94736844\t 0.8674699\n",
            "tp: 249 fp: 89 fn: 54 labels: 9\n",
            "Macro-average\t prec: 0.7215719, rec: 0.8054993, f1: 0.76122934\n",
            "Micro-average\t prec: 0.7366864, rec: 0.8217822, f1: 0.7769111\n",
            "\n",
            "\n",
            "Epoch 19/20 started, lr: 1.8348623E-4, dataset size: 1316\n",
            "\n",
            "\n",
            "Epoch 19/20 - 15.98s - loss: 243.5078 - batches: 85\n",
            "Quality on test dataset: \n",
            "time to finish evaluation: 0.58s\n",
            "label\t tp\t fp\t fn\t prec\t rec\t f1\n",
            "I-Amount\t 45\t 14\t 3\t 0.7627119\t 0.9375\t 0.84112155\n",
            "B-History\t 28\t 12\t 9\t 0.7\t 0.7567568\t 0.7272727\n",
            "I-History\t 55\t 26\t 13\t 0.67901236\t 0.8088235\t 0.7382551\n",
            "B-Frequency\t 24\t 4\t 1\t 0.85714287\t 0.96\t 0.9056604\n",
            "I-Duration\t 29\t 13\t 17\t 0.6904762\t 0.6304348\t 0.659091\n",
            "B-Method\t 4\t 3\t 2\t 0.5714286\t 0.6666667\t 0.61538464\n",
            "I-Frequency\t 17\t 6\t 0\t 0.73913044\t 1.0\t 0.84999996\n",
            "B-Duration\t 13\t 6\t 5\t 0.68421054\t 0.7222222\t 0.7027027\n",
            "B-Amount\t 35\t 6\t 3\t 0.85365856\t 0.92105263\t 0.88607603\n",
            "tp: 250 fp: 90 fn: 53 labels: 9\n",
            "Macro-average\t prec: 0.72641903, rec: 0.8226063, f1: 0.77152634\n",
            "Micro-average\t prec: 0.7352941, rec: 0.8250825, f1: 0.77760494\n",
            "\n",
            "\n",
            "Epoch 20/20 started, lr: 1.826484E-4, dataset size: 1316\n",
            "\n",
            "\n",
            "Epoch 20/20 - 15.87s - loss: 228.1495 - batches: 85\n",
            "Quality on test dataset: \n",
            "time to finish evaluation: 0.59s\n",
            "label\t tp\t fp\t fn\t prec\t rec\t f1\n",
            "I-Amount\t 47\t 14\t 1\t 0.7704918\t 0.9791667\t 0.86238533\n",
            "B-History\t 26\t 8\t 11\t 0.7647059\t 0.7027027\t 0.73239434\n",
            "I-History\t 47\t 17\t 21\t 0.734375\t 0.6911765\t 0.71212125\n",
            "B-Frequency\t 24\t 5\t 1\t 0.82758623\t 0.96\t 0.8888889\n",
            "I-Duration\t 34\t 16\t 12\t 0.68\t 0.73913044\t 0.7083334\n",
            "B-Method\t 3\t 1\t 3\t 0.75\t 0.5\t 0.6\n",
            "I-Frequency\t 17\t 6\t 0\t 0.73913044\t 1.0\t 0.84999996\n",
            "B-Duration\t 16\t 8\t 2\t 0.6666667\t 0.8888889\t 0.7619048\n",
            "B-Amount\t 36\t 10\t 2\t 0.7826087\t 0.94736844\t 0.85714287\n",
            "tp: 250 fp: 85 fn: 53 labels: 9\n",
            "Macro-average\t prec: 0.7461738, rec: 0.82315934, f1: 0.78277826\n",
            "Micro-average\t prec: 0.74626863, rec: 0.8250825, f1: 0.78369904\n"
          ]
        }
      ]
    },
    {
      "cell_type": "code",
      "source": [
        "pred_df = ner_model.stages[1].transform(bert_embedding.transform(test_data))\n",
        "# pred_df = ner_model.stages[1].transform(test_data)"
      ],
      "metadata": {
        "id": "q8J1FgRNDLBU"
      },
      "execution_count": null,
      "outputs": []
    },
    {
      "cell_type": "code",
      "source": [
        "import pyspark.sql.functions as F\n",
        "\n",
        "pred_df.select(F.explode(F.arrays_zip(pred_df.token.result,\n",
        "                                          pred_df.label.result,\n",
        "                                          pred_df.ner.result)).alias(\"cols\")) \\\n",
        "                              .select(F.expr(\"cols['0']\").alias(\"token\"),\n",
        "                                      F.expr(\"cols['1']\").alias(\"ground_truth\"),\n",
        "                                      F.expr(\"cols['2']\").alias(\"prediction\")).toPandas()"
      ],
      "metadata": {
        "colab": {
          "base_uri": "https://localhost:8080/",
          "height": 652
        },
        "id": "UkKBqzP2A3Ju",
        "outputId": "9ed2807f-b345-4373-aa03-295c354868cf"
      },
      "execution_count": null,
      "outputs": [
        {
          "output_type": "execute_result",
          "data": {
            "text/plain": [
              "         token ground_truth prediction\n",
              "0       SOCIAL            O          O\n",
              "1      HISTORY            O          O\n",
              "2            :            O          O\n",
              "3        Lives            O          O\n",
              "4         with            O          O\n",
              "...        ...          ...        ...\n",
              "3330       She            O          O\n",
              "3331        is            O          O\n",
              "3332   Spanish            O          O\n",
              "3333  speaking            O          O\n",
              "3334         .            O          O\n",
              "\n",
              "[3335 rows x 3 columns]"
            ],
            "text/html": [
              "\n",
              "  <div id=\"df-a6b5b9c3-1545-4392-b3c0-7b442d538956\">\n",
              "    <div class=\"colab-df-container\">\n",
              "      <div>\n",
              "<style scoped>\n",
              "    .dataframe tbody tr th:only-of-type {\n",
              "        vertical-align: middle;\n",
              "    }\n",
              "\n",
              "    .dataframe tbody tr th {\n",
              "        vertical-align: top;\n",
              "    }\n",
              "\n",
              "    .dataframe thead th {\n",
              "        text-align: right;\n",
              "    }\n",
              "</style>\n",
              "<table border=\"1\" class=\"dataframe\">\n",
              "  <thead>\n",
              "    <tr style=\"text-align: right;\">\n",
              "      <th></th>\n",
              "      <th>token</th>\n",
              "      <th>ground_truth</th>\n",
              "      <th>prediction</th>\n",
              "    </tr>\n",
              "  </thead>\n",
              "  <tbody>\n",
              "    <tr>\n",
              "      <th>0</th>\n",
              "      <td>SOCIAL</td>\n",
              "      <td>O</td>\n",
              "      <td>O</td>\n",
              "    </tr>\n",
              "    <tr>\n",
              "      <th>1</th>\n",
              "      <td>HISTORY</td>\n",
              "      <td>O</td>\n",
              "      <td>O</td>\n",
              "    </tr>\n",
              "    <tr>\n",
              "      <th>2</th>\n",
              "      <td>:</td>\n",
              "      <td>O</td>\n",
              "      <td>O</td>\n",
              "    </tr>\n",
              "    <tr>\n",
              "      <th>3</th>\n",
              "      <td>Lives</td>\n",
              "      <td>O</td>\n",
              "      <td>O</td>\n",
              "    </tr>\n",
              "    <tr>\n",
              "      <th>4</th>\n",
              "      <td>with</td>\n",
              "      <td>O</td>\n",
              "      <td>O</td>\n",
              "    </tr>\n",
              "    <tr>\n",
              "      <th>...</th>\n",
              "      <td>...</td>\n",
              "      <td>...</td>\n",
              "      <td>...</td>\n",
              "    </tr>\n",
              "    <tr>\n",
              "      <th>3330</th>\n",
              "      <td>She</td>\n",
              "      <td>O</td>\n",
              "      <td>O</td>\n",
              "    </tr>\n",
              "    <tr>\n",
              "      <th>3331</th>\n",
              "      <td>is</td>\n",
              "      <td>O</td>\n",
              "      <td>O</td>\n",
              "    </tr>\n",
              "    <tr>\n",
              "      <th>3332</th>\n",
              "      <td>Spanish</td>\n",
              "      <td>O</td>\n",
              "      <td>O</td>\n",
              "    </tr>\n",
              "    <tr>\n",
              "      <th>3333</th>\n",
              "      <td>speaking</td>\n",
              "      <td>O</td>\n",
              "      <td>O</td>\n",
              "    </tr>\n",
              "    <tr>\n",
              "      <th>3334</th>\n",
              "      <td>.</td>\n",
              "      <td>O</td>\n",
              "      <td>O</td>\n",
              "    </tr>\n",
              "  </tbody>\n",
              "</table>\n",
              "<p>3335 rows × 3 columns</p>\n",
              "</div>\n",
              "      <button class=\"colab-df-convert\" onclick=\"convertToInteractive('df-a6b5b9c3-1545-4392-b3c0-7b442d538956')\"\n",
              "              title=\"Convert this dataframe to an interactive table.\"\n",
              "              style=\"display:none;\">\n",
              "        \n",
              "  <svg xmlns=\"http://www.w3.org/2000/svg\" height=\"24px\"viewBox=\"0 0 24 24\"\n",
              "       width=\"24px\">\n",
              "    <path d=\"M0 0h24v24H0V0z\" fill=\"none\"/>\n",
              "    <path d=\"M18.56 5.44l.94 2.06.94-2.06 2.06-.94-2.06-.94-.94-2.06-.94 2.06-2.06.94zm-11 1L8.5 8.5l.94-2.06 2.06-.94-2.06-.94L8.5 2.5l-.94 2.06-2.06.94zm10 10l.94 2.06.94-2.06 2.06-.94-2.06-.94-.94-2.06-.94 2.06-2.06.94z\"/><path d=\"M17.41 7.96l-1.37-1.37c-.4-.4-.92-.59-1.43-.59-.52 0-1.04.2-1.43.59L10.3 9.45l-7.72 7.72c-.78.78-.78 2.05 0 2.83L4 21.41c.39.39.9.59 1.41.59.51 0 1.02-.2 1.41-.59l7.78-7.78 2.81-2.81c.8-.78.8-2.07 0-2.86zM5.41 20L4 18.59l7.72-7.72 1.47 1.35L5.41 20z\"/>\n",
              "  </svg>\n",
              "      </button>\n",
              "      \n",
              "  <style>\n",
              "    .colab-df-container {\n",
              "      display:flex;\n",
              "      flex-wrap:wrap;\n",
              "      gap: 12px;\n",
              "    }\n",
              "\n",
              "    .colab-df-convert {\n",
              "      background-color: #E8F0FE;\n",
              "      border: none;\n",
              "      border-radius: 50%;\n",
              "      cursor: pointer;\n",
              "      display: none;\n",
              "      fill: #1967D2;\n",
              "      height: 32px;\n",
              "      padding: 0 0 0 0;\n",
              "      width: 32px;\n",
              "    }\n",
              "\n",
              "    .colab-df-convert:hover {\n",
              "      background-color: #E2EBFA;\n",
              "      box-shadow: 0px 1px 2px rgba(60, 64, 67, 0.3), 0px 1px 3px 1px rgba(60, 64, 67, 0.15);\n",
              "      fill: #174EA6;\n",
              "    }\n",
              "\n",
              "    [theme=dark] .colab-df-convert {\n",
              "      background-color: #3B4455;\n",
              "      fill: #D2E3FC;\n",
              "    }\n",
              "\n",
              "    [theme=dark] .colab-df-convert:hover {\n",
              "      background-color: #434B5C;\n",
              "      box-shadow: 0px 1px 3px 1px rgba(0, 0, 0, 0.15);\n",
              "      filter: drop-shadow(0px 1px 2px rgba(0, 0, 0, 0.3));\n",
              "      fill: #FFFFFF;\n",
              "    }\n",
              "  </style>\n",
              "\n",
              "      <script>\n",
              "        const buttonEl =\n",
              "          document.querySelector('#df-a6b5b9c3-1545-4392-b3c0-7b442d538956 button.colab-df-convert');\n",
              "        buttonEl.style.display =\n",
              "          google.colab.kernel.accessAllowed ? 'block' : 'none';\n",
              "\n",
              "        async function convertToInteractive(key) {\n",
              "          const element = document.querySelector('#df-a6b5b9c3-1545-4392-b3c0-7b442d538956');\n",
              "          const dataTable =\n",
              "            await google.colab.kernel.invokeFunction('convertToInteractive',\n",
              "                                                     [key], {});\n",
              "          if (!dataTable) return;\n",
              "\n",
              "          const docLinkHtml = 'Like what you see? Visit the ' +\n",
              "            '<a target=\"_blank\" href=https://colab.research.google.com/notebooks/data_table.ipynb>data table notebook</a>'\n",
              "            + ' to learn more about interactive tables.';\n",
              "          element.innerHTML = '';\n",
              "          dataTable['output_type'] = 'display_data';\n",
              "          await google.colab.output.renderOutput(dataTable, element);\n",
              "          const docLink = document.createElement('div');\n",
              "          docLink.innerHTML = docLinkHtml;\n",
              "          element.appendChild(docLink);\n",
              "        }\n",
              "      </script>\n",
              "    </div>\n",
              "  </div>\n",
              "  "
            ]
          },
          "metadata": {},
          "execution_count": 93
        }
      ]
    },
    {
      "cell_type": "code",
      "source": [
        "\n",
        "\n",
        "import pyspark.sql.functions as F\n",
        "\n",
        "pred_df.select(F.explode(F.arrays_zip(pred_df.token.result,\n",
        "                                          pred_df.label.result,\n",
        "                                          pred_df.ner.result)).alias(\"cols\")) \\\n",
        "                              .select(F.expr(\"cols['0']\").alias(\"token\"),\n",
        "                                      F.expr(\"cols['1']\").alias(\"ground_truth\"),\n",
        "                                      F.expr(\"cols['2']\").alias(\"prediction\")).show(truncate=False)\n",
        "\n"
      ],
      "metadata": {
        "colab": {
          "base_uri": "https://localhost:8080/"
        },
        "id": "ZUA4sONKDQlB",
        "outputId": "58e44332-1e05-4d47-be2d-ac81f011634b"
      },
      "execution_count": null,
      "outputs": [
        {
          "output_type": "stream",
          "name": "stdout",
          "text": [
            "+---------+------------+----------+\n",
            "|token    |ground_truth|prediction|\n",
            "+---------+------------+----------+\n",
            "|SOCIAL   |O           |O         |\n",
            "|HISTORY  |O           |O         |\n",
            "|:        |O           |O         |\n",
            "|Lives    |O           |O         |\n",
            "|with     |O           |O         |\n",
            "|his      |O           |O         |\n",
            "|caring   |O           |O         |\n",
            "|and      |O           |O         |\n",
            "|devoted  |O           |O         |\n",
            "|parents  |O           |O         |\n",
            "|at       |O           |O         |\n",
            "|home     |O           |O         |\n",
            "|.        |O           |O         |\n",
            "|Enjoys   |O           |O         |\n",
            "|movies   |O           |O         |\n",
            "|and      |O           |O         |\n",
            "|computers|O           |O         |\n",
            "|.        |O           |O         |\n",
            "|No       |O           |O         |\n",
            "|history  |O           |O         |\n",
            "+---------+------------+----------+\n",
            "only showing top 20 rows\n",
            "\n"
          ]
        }
      ]
    },
    {
      "cell_type": "code",
      "source": [
        "from sklearn.metrics import classification_report\n",
        "\n",
        "preds_df_analysis = pred_df.select(F.explode(F.arrays_zip(pred_df.token.result,\n",
        "                                                     pred_df.label.result,\n",
        "                                                     pred_df.ner.result)).alias(\"cols\")) \\\n",
        "                      .select(F.expr(\"cols['0']\").alias(\"token\"),\n",
        "                              F.expr(\"cols['1']\").alias(\"ground_truth\"),\n",
        "                              F.expr(\"cols['2']\").alias(\"prediction\")).toPandas()\n",
        "\n",
        "print (classification_report(preds_df_analysis['ground_truth'], preds_df_analysis['prediction']))\n",
        "\n"
      ],
      "metadata": {
        "colab": {
          "base_uri": "https://localhost:8080/"
        },
        "id": "4qUDJjse15bZ",
        "outputId": "601c392a-74ce-4eac-c8ff-78f9d23af335"
      },
      "execution_count": null,
      "outputs": [
        {
          "output_type": "stream",
          "name": "stdout",
          "text": [
            "              precision    recall  f1-score   support\n",
            "\n",
            "    B-Amount       0.78      0.92      0.84        38\n",
            "  B-Duration       0.64      0.78      0.70        18\n",
            " B-Frequency       0.83      0.96      0.89        25\n",
            "   B-History       0.71      0.78      0.74        37\n",
            "    B-Method       0.75      0.50      0.60         6\n",
            "    I-Amount       0.78      0.94      0.85        48\n",
            "  I-Duration       0.69      0.74      0.72        46\n",
            " I-Frequency       0.77      1.00      0.87        17\n",
            "   I-History       0.69      0.81      0.74        68\n",
            "           O       0.99      0.98      0.98      3032\n",
            "\n",
            "    accuracy                           0.96      3335\n",
            "   macro avg       0.76      0.84      0.79      3335\n",
            "weighted avg       0.97      0.96      0.97      3335\n",
            "\n"
          ]
        }
      ]
    },
    {
      "cell_type": "code",
      "source": [
        "ner_model.stages[1].write().overwrite().save('/content/drive/MyDrive/umass_ner/model_ner_dl_1')"
      ],
      "metadata": {
        "id": "U6JUWcMTzp9X"
      },
      "execution_count": null,
      "outputs": []
    },
    {
      "cell_type": "code",
      "source": [
        "!wget  -q https://raw.githubusercontent.com/JohnSnowLabs/spark-nlp-workshop/master/tutorials/Certification_Trainings/Public/utils/conll_eval.py\n",
        "\n",
        "import conll_eval\n",
        "\n",
        "metrics = conll_eval.evaluate(preds_df_analysis['ground_truth'].values, preds_df_analysis['prediction'].values)\n",
        "\n",
        "\n",
        "import pandas as pd\n",
        "pd.DataFrame(metrics[1], columns=['entity','precision','recall','f1','support'])\n",
        "\n"
      ],
      "metadata": {
        "colab": {
          "base_uri": "https://localhost:8080/",
          "height": 345
        },
        "id": "p8eLAnfp2cpG",
        "outputId": "c5f2badd-dab8-4505-9fa8-c9a5c47c5aec"
      },
      "execution_count": null,
      "outputs": [
        {
          "output_type": "stream",
          "name": "stdout",
          "text": [
            "processed 3335 tokens with 124 phrases; found: 147 phrases; correct: 100.\n",
            "accuracy:  84.49%; (non-O)\n",
            "accuracy:  96.43%; precision:  68.03%; recall:  80.65%; FB1:  73.80\n",
            "           Amount: precision:  68.75%; recall:  86.84%; FB1:  76.74  48\n",
            "         Duration: precision:  56.52%; recall:  72.22%; FB1:  63.41  23\n",
            "        Frequency: precision:  82.76%; recall:  96.00%; FB1:  88.89  29\n",
            "          History: precision:  62.79%; recall:  72.97%; FB1:  67.50  43\n",
            "           Method: precision:  75.00%; recall:  50.00%; FB1:  60.00  4\n"
          ]
        },
        {
          "output_type": "execute_result",
          "data": {
            "text/plain": [
              "      entity  precision     recall         f1  support\n",
              "0     Amount  68.750000  86.842105  76.744186       48\n",
              "1   Duration  56.521739  72.222222  63.414634       23\n",
              "2  Frequency  82.758621  96.000000  88.888889       29\n",
              "3    History  62.790698  72.972973  67.500000       43\n",
              "4     Method  75.000000  50.000000  60.000000        4"
            ],
            "text/html": [
              "\n",
              "  <div id=\"df-b2020fce-319c-4644-94a9-3f58bc44759a\">\n",
              "    <div class=\"colab-df-container\">\n",
              "      <div>\n",
              "<style scoped>\n",
              "    .dataframe tbody tr th:only-of-type {\n",
              "        vertical-align: middle;\n",
              "    }\n",
              "\n",
              "    .dataframe tbody tr th {\n",
              "        vertical-align: top;\n",
              "    }\n",
              "\n",
              "    .dataframe thead th {\n",
              "        text-align: right;\n",
              "    }\n",
              "</style>\n",
              "<table border=\"1\" class=\"dataframe\">\n",
              "  <thead>\n",
              "    <tr style=\"text-align: right;\">\n",
              "      <th></th>\n",
              "      <th>entity</th>\n",
              "      <th>precision</th>\n",
              "      <th>recall</th>\n",
              "      <th>f1</th>\n",
              "      <th>support</th>\n",
              "    </tr>\n",
              "  </thead>\n",
              "  <tbody>\n",
              "    <tr>\n",
              "      <th>0</th>\n",
              "      <td>Amount</td>\n",
              "      <td>68.750000</td>\n",
              "      <td>86.842105</td>\n",
              "      <td>76.744186</td>\n",
              "      <td>48</td>\n",
              "    </tr>\n",
              "    <tr>\n",
              "      <th>1</th>\n",
              "      <td>Duration</td>\n",
              "      <td>56.521739</td>\n",
              "      <td>72.222222</td>\n",
              "      <td>63.414634</td>\n",
              "      <td>23</td>\n",
              "    </tr>\n",
              "    <tr>\n",
              "      <th>2</th>\n",
              "      <td>Frequency</td>\n",
              "      <td>82.758621</td>\n",
              "      <td>96.000000</td>\n",
              "      <td>88.888889</td>\n",
              "      <td>29</td>\n",
              "    </tr>\n",
              "    <tr>\n",
              "      <th>3</th>\n",
              "      <td>History</td>\n",
              "      <td>62.790698</td>\n",
              "      <td>72.972973</td>\n",
              "      <td>67.500000</td>\n",
              "      <td>43</td>\n",
              "    </tr>\n",
              "    <tr>\n",
              "      <th>4</th>\n",
              "      <td>Method</td>\n",
              "      <td>75.000000</td>\n",
              "      <td>50.000000</td>\n",
              "      <td>60.000000</td>\n",
              "      <td>4</td>\n",
              "    </tr>\n",
              "  </tbody>\n",
              "</table>\n",
              "</div>\n",
              "      <button class=\"colab-df-convert\" onclick=\"convertToInteractive('df-b2020fce-319c-4644-94a9-3f58bc44759a')\"\n",
              "              title=\"Convert this dataframe to an interactive table.\"\n",
              "              style=\"display:none;\">\n",
              "        \n",
              "  <svg xmlns=\"http://www.w3.org/2000/svg\" height=\"24px\"viewBox=\"0 0 24 24\"\n",
              "       width=\"24px\">\n",
              "    <path d=\"M0 0h24v24H0V0z\" fill=\"none\"/>\n",
              "    <path d=\"M18.56 5.44l.94 2.06.94-2.06 2.06-.94-2.06-.94-.94-2.06-.94 2.06-2.06.94zm-11 1L8.5 8.5l.94-2.06 2.06-.94-2.06-.94L8.5 2.5l-.94 2.06-2.06.94zm10 10l.94 2.06.94-2.06 2.06-.94-2.06-.94-.94-2.06-.94 2.06-2.06.94z\"/><path d=\"M17.41 7.96l-1.37-1.37c-.4-.4-.92-.59-1.43-.59-.52 0-1.04.2-1.43.59L10.3 9.45l-7.72 7.72c-.78.78-.78 2.05 0 2.83L4 21.41c.39.39.9.59 1.41.59.51 0 1.02-.2 1.41-.59l7.78-7.78 2.81-2.81c.8-.78.8-2.07 0-2.86zM5.41 20L4 18.59l7.72-7.72 1.47 1.35L5.41 20z\"/>\n",
              "  </svg>\n",
              "      </button>\n",
              "      \n",
              "  <style>\n",
              "    .colab-df-container {\n",
              "      display:flex;\n",
              "      flex-wrap:wrap;\n",
              "      gap: 12px;\n",
              "    }\n",
              "\n",
              "    .colab-df-convert {\n",
              "      background-color: #E8F0FE;\n",
              "      border: none;\n",
              "      border-radius: 50%;\n",
              "      cursor: pointer;\n",
              "      display: none;\n",
              "      fill: #1967D2;\n",
              "      height: 32px;\n",
              "      padding: 0 0 0 0;\n",
              "      width: 32px;\n",
              "    }\n",
              "\n",
              "    .colab-df-convert:hover {\n",
              "      background-color: #E2EBFA;\n",
              "      box-shadow: 0px 1px 2px rgba(60, 64, 67, 0.3), 0px 1px 3px 1px rgba(60, 64, 67, 0.15);\n",
              "      fill: #174EA6;\n",
              "    }\n",
              "\n",
              "    [theme=dark] .colab-df-convert {\n",
              "      background-color: #3B4455;\n",
              "      fill: #D2E3FC;\n",
              "    }\n",
              "\n",
              "    [theme=dark] .colab-df-convert:hover {\n",
              "      background-color: #434B5C;\n",
              "      box-shadow: 0px 1px 3px 1px rgba(0, 0, 0, 0.15);\n",
              "      filter: drop-shadow(0px 1px 2px rgba(0, 0, 0, 0.3));\n",
              "      fill: #FFFFFF;\n",
              "    }\n",
              "  </style>\n",
              "\n",
              "      <script>\n",
              "        const buttonEl =\n",
              "          document.querySelector('#df-b2020fce-319c-4644-94a9-3f58bc44759a button.colab-df-convert');\n",
              "        buttonEl.style.display =\n",
              "          google.colab.kernel.accessAllowed ? 'block' : 'none';\n",
              "\n",
              "        async function convertToInteractive(key) {\n",
              "          const element = document.querySelector('#df-b2020fce-319c-4644-94a9-3f58bc44759a');\n",
              "          const dataTable =\n",
              "            await google.colab.kernel.invokeFunction('convertToInteractive',\n",
              "                                                     [key], {});\n",
              "          if (!dataTable) return;\n",
              "\n",
              "          const docLinkHtml = 'Like what you see? Visit the ' +\n",
              "            '<a target=\"_blank\" href=https://colab.research.google.com/notebooks/data_table.ipynb>data table notebook</a>'\n",
              "            + ' to learn more about interactive tables.';\n",
              "          element.innerHTML = '';\n",
              "          dataTable['output_type'] = 'display_data';\n",
              "          await google.colab.output.renderOutput(dataTable, element);\n",
              "          const docLink = document.createElement('div');\n",
              "          docLink.innerHTML = docLinkHtml;\n",
              "          element.appendChild(docLink);\n",
              "        }\n",
              "      </script>\n",
              "    </div>\n",
              "  </div>\n",
              "  "
            ]
          },
          "metadata": {},
          "execution_count": 38
        }
      ]
    },
    {
      "cell_type": "code",
      "source": [
        "!wget -q https://raw.githubusercontent.com/JohnSnowLabs/spark-nlp-workshop/master/tutorials/Certification_Trainings/Public/utils/ner_log_parser.py\n"
      ],
      "metadata": {
        "id": "ul7BLIF19fwV"
      },
      "execution_count": null,
      "outputs": []
    },
    {
      "cell_type": "code",
      "source": [
        "import ner_log_parser\n",
        "\n"
      ],
      "metadata": {
        "id": "VZKsyNt79vsD"
      },
      "execution_count": null,
      "outputs": []
    },
    {
      "cell_type": "code",
      "source": [
        "ner_log_parser.get_charts('/content/ner_dl_logs_model1/NerDLApproach_23f0b883d940.log')"
      ],
      "metadata": {
        "colab": {
          "base_uri": "https://localhost:8080/",
          "height": 1000
        },
        "id": "gJZY3Izr98s1",
        "outputId": "7b3119dc-2616-4882-af87-2233ded3bcd3"
      },
      "execution_count": null,
      "outputs": [
        {
          "output_type": "display_data",
          "data": {
            "text/plain": [
              "<Figure size 1440x1440 with 6 Axes>"
            ],
            "image/png": "[encoded data removed]"
          },
          "metadata": {
            "needs_background": "light"
          }
        },
        {
          "output_type": "display_data",
          "data": {
            "text/plain": [
              "<Figure size 1440x1440 with 6 Axes>"
            ],
            "image/png": "[encoded data removed]"
          },
          "metadata": {
            "needs_background": "light"
          }
        }
      ]
    },
    {
      "cell_type": "code",
      "source": [
        "ner_log_parser.loss_plot('/content/ner_dl_logs_model1/NerDLApproach_23f0b883d940.log')"
      ],
      "metadata": {
        "colab": {
          "base_uri": "https://localhost:8080/",
          "height": 513
        },
        "id": "87vpWC8q-g2e",
        "outputId": "e56fd5bd-68e0-4e49-bea4-7c43a17b0ed2"
      },
      "execution_count": null,
      "outputs": [
        {
          "output_type": "display_data",
          "data": {
            "text/plain": [
              "<Figure size 576x576 with 1 Axes>"
            ],
            "image/png": "[encoded data removed]"
          },
          "metadata": {
            "needs_background": "light"
          }
        }
      ]
    },
    {
      "cell_type": "code",
      "source": [
        "\n",
        "\n",
        "document = DocumentAssembler()\\\n",
        "        .setInputCol(\"text\")\\\n",
        "        .setOutputCol(\"document\")\n",
        "\n",
        "sentence = SentenceDetector()\\\n",
        "        .setInputCols(['document'])\\\n",
        "        .setOutputCol('sentence')\n",
        "\n",
        "token = Tokenizer()\\\n",
        "        .setInputCols(['sentence'])\\\n",
        "        .setOutputCol('token')\n",
        "\n",
        "bert_embedding = BertEmbeddings.pretrained('bert_base_cased', 'en')\\\n",
        "   .setInputCols([\"sentence\",'token'])\\\n",
        "   .setOutputCol(\"bert_embeddings\")\\\n",
        "   .setCaseSensitive(True)\n",
        "  \n",
        "# load trained model\n",
        "loaded_ner_model = NerDLModel.load(\"/content/drive/MyDrive/umass_ner/model_ner_dl_1\")\\\n",
        "        .setInputCols([\"sentence\", \"token\", \"bert_embeddings\"])\\\n",
        "        .setOutputCol(\"ner\")\n",
        "\n",
        "converter = NerConverter()\\\n",
        "        .setInputCols([\"document\", \"token\", \"ner\"])\\\n",
        "        .setOutputCol(\"ner_span\")\n",
        "\n",
        "ner_prediction_pipeline = Pipeline(stages = [\n",
        "        document,\n",
        "        sentence,\n",
        "        token,\n",
        "        bert_embedding,\n",
        "        loaded_ner_model,\n",
        "        converter\n",
        "])\n",
        "\n"
      ],
      "metadata": {
        "colab": {
          "base_uri": "https://localhost:8080/"
        },
        "id": "OnRBRKn0DYZV",
        "outputId": "321bec0d-f01a-4655-934f-284eb9b553b7"
      },
      "execution_count": null,
      "outputs": [
        {
          "output_type": "stream",
          "name": "stdout",
          "text": [
            "bert_base_cased download started this may take some time.\n",
            "Approximate size to download 389.1 MB\n",
            "[OK!]\n"
          ]
        }
      ]
    },
    {
      "cell_type": "code",
      "source": [
        "\n",
        "\n",
        "empty_data = spark.createDataFrame([['']]).toDF(\"text\")\n",
        "\n",
        "prediction_model = ner_prediction_pipeline.fit(empty_data)\n",
        "\n"
      ],
      "metadata": {
        "id": "xWpzQ3AxAL_D"
      },
      "execution_count": null,
      "outputs": []
    },
    {
      "cell_type": "code",
      "source": [
        "pred_df_new = prediction_model.transform(test_data)"
      ],
      "metadata": {
        "id": "8JRzKgiJCr5p"
      },
      "execution_count": null,
      "outputs": []
    },
    {
      "cell_type": "code",
      "source": [
        "\n",
        "\n",
        "from sparknlp.base import LightPipeline\n",
        "\n",
        "light_model = LightPipeline(prediction_model)\n",
        "\n"
      ],
      "metadata": {
        "id": "_TJyi_EK_7rB"
      },
      "execution_count": null,
      "outputs": []
    },
    {
      "cell_type": "code",
      "source": [
        "text = \"\"\"Social History:\n",
        "Works as a corrections officer. Lived alone, but moved in with\n",
        "his brother after his cirrhosis diagnosis. Never smoker. Last\n",
        "drink 40 days ago per patient report. Prior to diagnosis of\n",
        "cirrhosis drank >8 \"mixed drinks\" per day. Started drinking at\n",
        "age 18. Denies any current or prior IVDU or other street drugs,\n",
        "although does have h/o marijuana use many years ago. Is\n",
        "concerned about work and disability benefits, as supposedly his\n",
        "disability and life insurance policies do not cover alcoholic\n",
        "cirrhosis. Never married, has 21 year old daughter who is a part\n",
        "of his life. Denies any h/o alcohol withdrawal symptoms or\n",
        "seizures\"\"\""
      ],
      "metadata": {
        "id": "chls97aKDdnF"
      },
      "execution_count": null,
      "outputs": []
    },
    {
      "cell_type": "code",
      "source": [
        "\n",
        "\n",
        "import pandas as pd\n",
        "\n",
        "result = light_model.fullAnnotate(text)\n",
        "\n",
        "ner_df= pd.DataFrame([(int(x.metadata['sentence']), x.result, x.begin, x.end, y.result) for x,y in zip(result[0][\"token\"], result[0][\"ner\"])], \n",
        "                      columns=['sent_id','token','start','end','ner'])\n",
        "ner_df\n",
        "\n"
      ],
      "metadata": {
        "colab": {
          "base_uri": "https://localhost:8080/",
          "height": 652
        },
        "id": "0PQRL6UO8Eia",
        "outputId": "bb0c3b8c-eef2-4fd5-e1bd-3a692ca58154"
      },
      "execution_count": null,
      "outputs": [
        {
          "output_type": "execute_result",
          "data": {
            "text/plain": [
              "     sent_id       token  start  end ner\n",
              "0          0      Social      0    5   O\n",
              "1          0     History      7   13   O\n",
              "2          0           :     14   14   O\n",
              "3          0       Works     16   20   O\n",
              "4          0          as     22   23   O\n",
              "..       ...         ...    ...  ...  ..\n",
              "117        9     alcohol    603  609   O\n",
              "118        9  withdrawal    611  620   O\n",
              "119        9    symptoms    622  629   O\n",
              "120        9          or    631  632   O\n",
              "121        9    seizures    634  641   O\n",
              "\n",
              "[122 rows x 5 columns]"
            ],
            "text/html": [
              "\n",
              "  <div id=\"df-e66444f0-97c0-47c1-b998-3281971d0cc7\">\n",
              "    <div class=\"colab-df-container\">\n",
              "      <div>\n",
              "<style scoped>\n",
              "    .dataframe tbody tr th:only-of-type {\n",
              "        vertical-align: middle;\n",
              "    }\n",
              "\n",
              "    .dataframe tbody tr th {\n",
              "        vertical-align: top;\n",
              "    }\n",
              "\n",
              "    .dataframe thead th {\n",
              "        text-align: right;\n",
              "    }\n",
              "</style>\n",
              "<table border=\"1\" class=\"dataframe\">\n",
              "  <thead>\n",
              "    <tr style=\"text-align: right;\">\n",
              "      <th></th>\n",
              "      <th>sent_id</th>\n",
              "      <th>token</th>\n",
              "      <th>start</th>\n",
              "      <th>end</th>\n",
              "      <th>ner</th>\n",
              "    </tr>\n",
              "  </thead>\n",
              "  <tbody>\n",
              "    <tr>\n",
              "      <th>0</th>\n",
              "      <td>0</td>\n",
              "      <td>Social</td>\n",
              "      <td>0</td>\n",
              "      <td>5</td>\n",
              "      <td>O</td>\n",
              "    </tr>\n",
              "    <tr>\n",
              "      <th>1</th>\n",
              "      <td>0</td>\n",
              "      <td>History</td>\n",
              "      <td>7</td>\n",
              "      <td>13</td>\n",
              "      <td>O</td>\n",
              "    </tr>\n",
              "    <tr>\n",
              "      <th>2</th>\n",
              "      <td>0</td>\n",
              "      <td>:</td>\n",
              "      <td>14</td>\n",
              "      <td>14</td>\n",
              "      <td>O</td>\n",
              "    </tr>\n",
              "    <tr>\n",
              "      <th>3</th>\n",
              "      <td>0</td>\n",
              "      <td>Works</td>\n",
              "      <td>16</td>\n",
              "      <td>20</td>\n",
              "      <td>O</td>\n",
              "    </tr>\n",
              "    <tr>\n",
              "      <th>4</th>\n",
              "      <td>0</td>\n",
              "      <td>as</td>\n",
              "      <td>22</td>\n",
              "      <td>23</td>\n",
              "      <td>O</td>\n",
              "    </tr>\n",
              "    <tr>\n",
              "      <th>...</th>\n",
              "      <td>...</td>\n",
              "      <td>...</td>\n",
              "      <td>...</td>\n",
              "      <td>...</td>\n",
              "      <td>...</td>\n",
              "    </tr>\n",
              "    <tr>\n",
              "      <th>117</th>\n",
              "      <td>9</td>\n",
              "      <td>alcohol</td>\n",
              "      <td>603</td>\n",
              "      <td>609</td>\n",
              "      <td>O</td>\n",
              "    </tr>\n",
              "    <tr>\n",
              "      <th>118</th>\n",
              "      <td>9</td>\n",
              "      <td>withdrawal</td>\n",
              "      <td>611</td>\n",
              "      <td>620</td>\n",
              "      <td>O</td>\n",
              "    </tr>\n",
              "    <tr>\n",
              "      <th>119</th>\n",
              "      <td>9</td>\n",
              "      <td>symptoms</td>\n",
              "      <td>622</td>\n",
              "      <td>629</td>\n",
              "      <td>O</td>\n",
              "    </tr>\n",
              "    <tr>\n",
              "      <th>120</th>\n",
              "      <td>9</td>\n",
              "      <td>or</td>\n",
              "      <td>631</td>\n",
              "      <td>632</td>\n",
              "      <td>O</td>\n",
              "    </tr>\n",
              "    <tr>\n",
              "      <th>121</th>\n",
              "      <td>9</td>\n",
              "      <td>seizures</td>\n",
              "      <td>634</td>\n",
              "      <td>641</td>\n",
              "      <td>O</td>\n",
              "    </tr>\n",
              "  </tbody>\n",
              "</table>\n",
              "<p>122 rows × 5 columns</p>\n",
              "</div>\n",
              "      <button class=\"colab-df-convert\" onclick=\"convertToInteractive('df-e66444f0-97c0-47c1-b998-3281971d0cc7')\"\n",
              "              title=\"Convert this dataframe to an interactive table.\"\n",
              "              style=\"display:none;\">\n",
              "        \n",
              "  <svg xmlns=\"http://www.w3.org/2000/svg\" height=\"24px\"viewBox=\"0 0 24 24\"\n",
              "       width=\"24px\">\n",
              "    <path d=\"M0 0h24v24H0V0z\" fill=\"none\"/>\n",
              "    <path d=\"M18.56 5.44l.94 2.06.94-2.06 2.06-.94-2.06-.94-.94-2.06-.94 2.06-2.06.94zm-11 1L8.5 8.5l.94-2.06 2.06-.94-2.06-.94L8.5 2.5l-.94 2.06-2.06.94zm10 10l.94 2.06.94-2.06 2.06-.94-2.06-.94-.94-2.06-.94 2.06-2.06.94z\"/><path d=\"M17.41 7.96l-1.37-1.37c-.4-.4-.92-.59-1.43-.59-.52 0-1.04.2-1.43.59L10.3 9.45l-7.72 7.72c-.78.78-.78 2.05 0 2.83L4 21.41c.39.39.9.59 1.41.59.51 0 1.02-.2 1.41-.59l7.78-7.78 2.81-2.81c.8-.78.8-2.07 0-2.86zM5.41 20L4 18.59l7.72-7.72 1.47 1.35L5.41 20z\"/>\n",
              "  </svg>\n",
              "      </button>\n",
              "      \n",
              "  <style>\n",
              "    .colab-df-container {\n",
              "      display:flex;\n",
              "      flex-wrap:wrap;\n",
              "      gap: 12px;\n",
              "    }\n",
              "\n",
              "    .colab-df-convert {\n",
              "      background-color: #E8F0FE;\n",
              "      border: none;\n",
              "      border-radius: 50%;\n",
              "      cursor: pointer;\n",
              "      display: none;\n",
              "      fill: #1967D2;\n",
              "      height: 32px;\n",
              "      padding: 0 0 0 0;\n",
              "      width: 32px;\n",
              "    }\n",
              "\n",
              "    .colab-df-convert:hover {\n",
              "      background-color: #E2EBFA;\n",
              "      box-shadow: 0px 1px 2px rgba(60, 64, 67, 0.3), 0px 1px 3px 1px rgba(60, 64, 67, 0.15);\n",
              "      fill: #174EA6;\n",
              "    }\n",
              "\n",
              "    [theme=dark] .colab-df-convert {\n",
              "      background-color: #3B4455;\n",
              "      fill: #D2E3FC;\n",
              "    }\n",
              "\n",
              "    [theme=dark] .colab-df-convert:hover {\n",
              "      background-color: #434B5C;\n",
              "      box-shadow: 0px 1px 3px 1px rgba(0, 0, 0, 0.15);\n",
              "      filter: drop-shadow(0px 1px 2px rgba(0, 0, 0, 0.3));\n",
              "      fill: #FFFFFF;\n",
              "    }\n",
              "  </style>\n",
              "\n",
              "      <script>\n",
              "        const buttonEl =\n",
              "          document.querySelector('#df-e66444f0-97c0-47c1-b998-3281971d0cc7 button.colab-df-convert');\n",
              "        buttonEl.style.display =\n",
              "          google.colab.kernel.accessAllowed ? 'block' : 'none';\n",
              "\n",
              "        async function convertToInteractive(key) {\n",
              "          const element = document.querySelector('#df-e66444f0-97c0-47c1-b998-3281971d0cc7');\n",
              "          const dataTable =\n",
              "            await google.colab.kernel.invokeFunction('convertToInteractive',\n",
              "                                                     [key], {});\n",
              "          if (!dataTable) return;\n",
              "\n",
              "          const docLinkHtml = 'Like what you see? Visit the ' +\n",
              "            '<a target=\"_blank\" href=https://colab.research.google.com/notebooks/data_table.ipynb>data table notebook</a>'\n",
              "            + ' to learn more about interactive tables.';\n",
              "          element.innerHTML = '';\n",
              "          dataTable['output_type'] = 'display_data';\n",
              "          await google.colab.output.renderOutput(dataTable, element);\n",
              "          const docLink = document.createElement('div');\n",
              "          docLink.innerHTML = docLinkHtml;\n",
              "          element.appendChild(docLink);\n",
              "        }\n",
              "      </script>\n",
              "    </div>\n",
              "  </div>\n",
              "  "
            ]
          },
          "metadata": {},
          "execution_count": 105
        }
      ]
    },
    {
      "cell_type": "code",
      "source": [
        "from sparknlp_display import NerVisualizer\n",
        "\n",
        "visualiser = NerVisualizer()\n",
        "\n",
        "visualiser.display(result[0], label_col='ner_span', document_col='document', save_path=\"display_result.html\")"
      ],
      "metadata": {
        "colab": {
          "base_uri": "https://localhost:8080/",
          "height": 446
        },
        "id": "5Ml7tlqCDqMz",
        "outputId": "75dfb2ae-3173-4bae-cf32-eaac0b923cb3"
      },
      "execution_count": null,
      "outputs": [
        {
          "output_type": "display_data",
          "data": {
            "text/plain": [
              "<IPython.core.display.HTML object>"
            ],
            "text/html": [
              "\n",
              "<style>\n",
              "    @import url('https://fonts.googleapis.com/css2?family=Montserrat:wght@300;400;500;600;700&display=swap');\n",
              "    @import url('https://fonts.googleapis.com/css2?family=Vistol Regular:wght@300;400;500;600;700&display=swap');\n",
              "    \n",
              "    .spark-nlp-display-scroll-entities {\n",
              "        border: 1px solid #E7EDF0;\n",
              "        border-radius: 3px;\n",
              "        text-align: justify;\n",
              "        \n",
              "    }\n",
              "    .spark-nlp-display-scroll-entities span {  \n",
              "        font-size: 14px;\n",
              "        line-height: 24px;\n",
              "        color: #536B76;\n",
              "        font-family: 'Montserrat', sans-serif !important;\n",
              "    }\n",
              "    \n",
              "    .spark-nlp-display-entity-wrapper{\n",
              "    \n",
              "        display: inline-grid;\n",
              "        text-align: center;\n",
              "        border-radius: 4px;\n",
              "        margin: 0 2px 5px 2px;\n",
              "        padding: 1px\n",
              "    }\n",
              "    .spark-nlp-display-entity-name{\n",
              "        font-size: 14px;\n",
              "        line-height: 24px;\n",
              "        font-family: 'Montserrat', sans-serif !important;\n",
              "        \n",
              "        background: #f1f2f3;\n",
              "        border-width: medium;\n",
              "        text-align: center;\n",
              "        \n",
              "        font-weight: 400;\n",
              "        \n",
              "        border-radius: 5px;\n",
              "        padding: 2px 5px;\n",
              "        display: block;\n",
              "        margin: 3px 2px;\n",
              "    \n",
              "    }\n",
              "    .spark-nlp-display-entity-type{\n",
              "        font-size: 14px;\n",
              "        line-height: 24px;\n",
              "        color: #ffffff;\n",
              "        font-family: 'Montserrat', sans-serif !important;\n",
              "        \n",
              "        text-transform: uppercase;\n",
              "        \n",
              "        font-weight: 500;\n",
              "\n",
              "        display: block;\n",
              "        padding: 3px 5px;\n",
              "    }\n",
              "    \n",
              "    .spark-nlp-display-entity-resolution{\n",
              "        font-size: 14px;\n",
              "        line-height: 24px;\n",
              "        color: #ffffff;\n",
              "        font-family: 'Vistol Regular', sans-serif !important;\n",
              "        \n",
              "        text-transform: uppercase;\n",
              "        \n",
              "        font-weight: 500;\n",
              "\n",
              "        display: block;\n",
              "        padding: 3px 5px;\n",
              "    }\n",
              "    \n",
              "    .spark-nlp-display-others{\n",
              "        font-size: 14px;\n",
              "        line-height: 24px;\n",
              "        font-family: 'Montserrat', sans-serif !important;\n",
              "        \n",
              "        font-weight: 400;\n",
              "    }\n",
              "\n",
              "</style>\n",
              " <span class=\"spark-nlp-display-others\" style=\"background-color: white\">Social History:<br>Works as a corrections officer. Lived alone, but moved in with<br>his brother after his cirrhosis diagnosis. Never smoker. Last<br>drink </span><span class=\"spark-nlp-display-entity-wrapper\" style=\"background-color: #AC491E\"><span class=\"spark-nlp-display-entity-name\">40 days ago </span><span class=\"spark-nlp-display-entity-type\">History</span></span><span class=\"spark-nlp-display-others\" style=\"background-color: white\"> per patient report. Prior to diagnosis of<br>cirrhosis drank </span><span class=\"spark-nlp-display-entity-wrapper\" style=\"background-color: #758B12\"><span class=\"spark-nlp-display-entity-name\">>8 \"mixed drinks </span><span class=\"spark-nlp-display-entity-type\">Amount</span></span><span class=\"spark-nlp-display-others\" style=\"background-color: white\">\" </span><span class=\"spark-nlp-display-entity-wrapper\" style=\"background-color: #3E5B1D\"><span class=\"spark-nlp-display-entity-name\">per day </span><span class=\"spark-nlp-display-entity-type\">Frequency</span></span><span class=\"spark-nlp-display-others\" style=\"background-color: white\">. Started drinking </span><span class=\"spark-nlp-display-entity-wrapper\" style=\"background-color: #12BF58\"><span class=\"spark-nlp-display-entity-name\">at<br>age </span><span class=\"spark-nlp-display-entity-type\">Duration</span></span><span class=\"spark-nlp-display-others\" style=\"background-color: white\"> 18. Denies any current or prior </span><span class=\"spark-nlp-display-entity-wrapper\" style=\"background-color: #C44B6E\"><span class=\"spark-nlp-display-entity-name\">IVDU </span><span class=\"spark-nlp-display-entity-type\">Method</span></span><span class=\"spark-nlp-display-others\" style=\"background-color: white\"> or other street drugs,<br>although does have h/o marijuana use </span><span class=\"spark-nlp-display-entity-wrapper\" style=\"background-color: #AC491E\"><span class=\"spark-nlp-display-entity-name\">many years ago </span><span class=\"spark-nlp-display-entity-type\">History</span></span><span class=\"spark-nlp-display-others\" style=\"background-color: white\">. Is<br>concerned about work and disability benefits, as supposedly his<br>disability and life insurance policies do not cover alcoholic<br>cirrhosis. Never married, has 21 year old daughter who is a part<br>of his life. Denies any h/o alcohol withdrawal symptoms or<br>seizures</span></div>"
            ]
          },
          "metadata": {}
        }
      ]
    },
    {
      "cell_type": "code",
      "source": [
        ""
      ],
      "metadata": {
        "id": "AIWqtqyb5RFU"
      },
      "execution_count": null,
      "outputs": []
    }
  ]
}